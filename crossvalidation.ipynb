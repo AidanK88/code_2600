{
 "cells": [
  {
   "cell_type": "code",
   "execution_count": 1,
   "id": "9d064a85-fc6d-448e-abae-0076b739f0c4",
   "metadata": {},
   "outputs": [],
   "source": [
    "import pandas as pd\n",
    "import numpy as np\n",
    "import statsmodels.api as sm\n",
    "from ISLP import load_data\n",
    "from ISLP.models import (ModelSpec as MS,\n",
    "                         summarize,\n",
    "                         poly)\n",
    "from sklearn.model_selection import train_test_split\n",
    "import matplotlib.pyplot as plt\n",
    "import scipy.stats as stats\n",
    "import math\n",
    "from matplotlib.pyplot import subplots"
   ]
  },
  {
   "cell_type": "code",
   "execution_count": 2,
   "id": "50741e12-38fb-4251-ae9e-bc811f5fdde7",
   "metadata": {},
   "outputs": [],
   "source": [
    "from functools import partial\n",
    "from sklearn.model_selection import \\\n",
    "     (cross_validate,\n",
    "      KFold,\n",
    "      ShuffleSplit)\n",
    "from sklearn.base import clone\n",
    "from ISLP.models import sklearn_sm"
   ]
  },
  {
   "cell_type": "code",
   "execution_count": 3,
   "id": "060d508d",
   "metadata": {},
   "outputs": [],
   "source": [
    "# Create helper functions for computing predictions and the mean squared error\n",
    "\n",
    "def predict(X, model):\n",
    "    # the built-in get_prediction tool returns an array, so we need to convert to a dataframe\n",
    "    predictions_df = pd.DataFrame(model.get_prediction(X).predicted, columns=['y_hat'], index=X.index)\n",
    "    return predictions_df['y_hat']\n",
    "\n",
    "def mse(y, y_hat):\n",
    "    # calculate the residual error for each individual record\n",
    "    resid = y - y_hat\n",
    "    # square the residual (hence \"squared error\")\n",
    "    sq_resid = resid**2\n",
    "    # calculate the sum of squared errors\n",
    "    SSR = sum(sq_resid)\n",
    "    # divide by the number of records to get the mean squared error\n",
    "    MSE = SSR / y.shape[0]\n",
    "    return MSE"
   ]
  },
  {
   "cell_type": "code",
   "execution_count": 4,
   "id": "4dc0b929-424c-4056-ac14-e8e9c2d25cb6",
   "metadata": {},
   "outputs": [],
   "source": [
    "# Randomly generate data using the equation y = x - 2x^2\n",
    "rng = np.random.default_rng(1)\n",
    "x = rng.normal(size=150)\n",
    "y = x - 2 * x**2 + rng.normal(size=150)"
   ]
  },
  {
   "cell_type": "code",
   "execution_count": 5,
   "id": "b64f0723-dfde-4e09-8578-c3382f3ee5e7",
   "metadata": {},
   "outputs": [
    {
     "data": {
      "text/html": [
       "<div>\n",
       "<style scoped>\n",
       "    .dataframe tbody tr th:only-of-type {\n",
       "        vertical-align: middle;\n",
       "    }\n",
       "\n",
       "    .dataframe tbody tr th {\n",
       "        vertical-align: top;\n",
       "    }\n",
       "\n",
       "    .dataframe thead th {\n",
       "        text-align: right;\n",
       "    }\n",
       "</style>\n",
       "<table border=\"1\" class=\"dataframe\">\n",
       "  <thead>\n",
       "    <tr style=\"text-align: right;\">\n",
       "      <th></th>\n",
       "      <th>intercept</th>\n",
       "      <th>x</th>\n",
       "      <th>x_sq</th>\n",
       "      <th>x_cu</th>\n",
       "    </tr>\n",
       "  </thead>\n",
       "  <tbody>\n",
       "    <tr>\n",
       "      <th>0</th>\n",
       "      <td>1.0</td>\n",
       "      <td>0.345584</td>\n",
       "      <td>0.119428</td>\n",
       "      <td>0.041273</td>\n",
       "    </tr>\n",
       "    <tr>\n",
       "      <th>1</th>\n",
       "      <td>1.0</td>\n",
       "      <td>0.821618</td>\n",
       "      <td>0.675056</td>\n",
       "      <td>0.554639</td>\n",
       "    </tr>\n",
       "    <tr>\n",
       "      <th>2</th>\n",
       "      <td>1.0</td>\n",
       "      <td>0.330437</td>\n",
       "      <td>0.109189</td>\n",
       "      <td>0.036080</td>\n",
       "    </tr>\n",
       "    <tr>\n",
       "      <th>3</th>\n",
       "      <td>1.0</td>\n",
       "      <td>-1.303157</td>\n",
       "      <td>1.698219</td>\n",
       "      <td>-2.213046</td>\n",
       "    </tr>\n",
       "    <tr>\n",
       "      <th>4</th>\n",
       "      <td>1.0</td>\n",
       "      <td>0.905356</td>\n",
       "      <td>0.819669</td>\n",
       "      <td>0.742092</td>\n",
       "    </tr>\n",
       "    <tr>\n",
       "      <th>...</th>\n",
       "      <td>...</td>\n",
       "      <td>...</td>\n",
       "      <td>...</td>\n",
       "      <td>...</td>\n",
       "    </tr>\n",
       "    <tr>\n",
       "      <th>145</th>\n",
       "      <td>1.0</td>\n",
       "      <td>-0.420857</td>\n",
       "      <td>0.177121</td>\n",
       "      <td>-0.074542</td>\n",
       "    </tr>\n",
       "    <tr>\n",
       "      <th>146</th>\n",
       "      <td>1.0</td>\n",
       "      <td>-0.228535</td>\n",
       "      <td>0.052228</td>\n",
       "      <td>-0.011936</td>\n",
       "    </tr>\n",
       "    <tr>\n",
       "      <th>147</th>\n",
       "      <td>1.0</td>\n",
       "      <td>0.425149</td>\n",
       "      <td>0.180751</td>\n",
       "      <td>0.076846</td>\n",
       "    </tr>\n",
       "    <tr>\n",
       "      <th>148</th>\n",
       "      <td>1.0</td>\n",
       "      <td>0.282416</td>\n",
       "      <td>0.079759</td>\n",
       "      <td>0.022525</td>\n",
       "    </tr>\n",
       "    <tr>\n",
       "      <th>149</th>\n",
       "      <td>1.0</td>\n",
       "      <td>-1.159297</td>\n",
       "      <td>1.343969</td>\n",
       "      <td>-1.558059</td>\n",
       "    </tr>\n",
       "  </tbody>\n",
       "</table>\n",
       "<p>150 rows × 4 columns</p>\n",
       "</div>"
      ],
      "text/plain": [
       "     intercept         x      x_sq      x_cu\n",
       "0          1.0  0.345584  0.119428  0.041273\n",
       "1          1.0  0.821618  0.675056  0.554639\n",
       "2          1.0  0.330437  0.109189  0.036080\n",
       "3          1.0 -1.303157  1.698219 -2.213046\n",
       "4          1.0  0.905356  0.819669  0.742092\n",
       "..         ...       ...       ...       ...\n",
       "145        1.0 -0.420857  0.177121 -0.074542\n",
       "146        1.0 -0.228535  0.052228 -0.011936\n",
       "147        1.0  0.425149  0.180751  0.076846\n",
       "148        1.0  0.282416  0.079759  0.022525\n",
       "149        1.0 -1.159297  1.343969 -1.558059\n",
       "\n",
       "[150 rows x 4 columns]"
      ]
     },
     "execution_count": 5,
     "metadata": {},
     "output_type": "execute_result"
    }
   ],
   "source": [
    "# Create a data frame with columns we can use for modeling\n",
    "new_x = pd.DataFrame(np.column_stack((x**0, x, x**2, x**3)), columns=['intercept','x','x_sq','x_cu'])\n",
    "new_x"
   ]
  },
  {
   "cell_type": "code",
   "execution_count": 6,
   "id": "e0ed4047-8806-47df-b82d-fbc96eb4e954",
   "metadata": {},
   "outputs": [],
   "source": [
    "# Split the data into train and test\n",
    "x_train, x_test, y_train, y_test = train_test_split(new_x,\n",
    "                                                    y,\n",
    "                                                    random_state=314,\n",
    "                                                    test_size=0.33,\n",
    "                                                    shuffle=True) "
   ]
  },
  {
   "cell_type": "code",
   "execution_count": 7,
   "id": "4ddef896-b7ca-4f71-8600-35776dd440b6",
   "metadata": {},
   "outputs": [
    {
     "data": {
      "text/plain": [
       "<matplotlib.collections.PathCollection at 0x14036e9d0>"
      ]
     },
     "execution_count": 7,
     "metadata": {},
     "output_type": "execute_result"
    },
    {
     "data": {
      "image/png": "[encoded data removed]",
      "text/plain": [
       "<Figure size 640x480 with 1 Axes>"
      ]
     },
     "metadata": {},
     "output_type": "display_data"
    }
   ],
   "source": [
    "# Let's graph the data we created\n",
    "fig, ax = plt.subplots()\n",
    "ax.scatter(x_train['x'],y_train)"
   ]
  },
  {
   "cell_type": "code",
   "execution_count": 8,
   "id": "ca53097a-79b6-4d8d-9f3e-faba8f49b370",
   "metadata": {},
   "outputs": [
    {
     "name": "stderr",
     "output_type": "stream",
     "text": [
      "/Users/mjl09005/anaconda3/lib/python3.11/site-packages/ISLP/models/__init__.py:49: FutureWarning: Passing literal html to 'read_html' is deprecated and will be removed in a future version. To read from a literal string, wrap it in a 'StringIO' object.\n",
      "  results_table = pd.read_html(tab.as_html(),\n"
     ]
    },
    {
     "data": {
      "text/html": [
       "<div>\n",
       "<style scoped>\n",
       "    .dataframe tbody tr th:only-of-type {\n",
       "        vertical-align: middle;\n",
       "    }\n",
       "\n",
       "    .dataframe tbody tr th {\n",
       "        vertical-align: top;\n",
       "    }\n",
       "\n",
       "    .dataframe thead th {\n",
       "        text-align: right;\n",
       "    }\n",
       "</style>\n",
       "<table border=\"1\" class=\"dataframe\">\n",
       "  <thead>\n",
       "    <tr style=\"text-align: right;\">\n",
       "      <th></th>\n",
       "      <th>coef</th>\n",
       "      <th>std err</th>\n",
       "      <th>t</th>\n",
       "      <th>P&gt;|t|</th>\n",
       "    </tr>\n",
       "  </thead>\n",
       "  <tbody>\n",
       "    <tr>\n",
       "      <th>intercept</th>\n",
       "      <td>-1.5702</td>\n",
       "      <td>0.241</td>\n",
       "      <td>-6.514</td>\n",
       "      <td>0.0</td>\n",
       "    </tr>\n",
       "    <tr>\n",
       "      <th>x</th>\n",
       "      <td>1.3307</td>\n",
       "      <td>0.278</td>\n",
       "      <td>4.783</td>\n",
       "      <td>0.0</td>\n",
       "    </tr>\n",
       "  </tbody>\n",
       "</table>\n",
       "</div>"
      ],
      "text/plain": [
       "             coef  std err      t  P>|t|\n",
       "intercept -1.5702    0.241 -6.514    0.0\n",
       "x          1.3307    0.278  4.783    0.0"
      ]
     },
     "execution_count": 8,
     "metadata": {},
     "output_type": "execute_result"
    }
   ],
   "source": [
    "# Fit a linear model\n",
    "model_lin = sm.OLS(y_train, x_train[['intercept','x']])\n",
    "results_lin = model_lin.fit()\n",
    "summarize(results_lin)"
   ]
  },
  {
   "cell_type": "code",
   "execution_count": 9,
   "id": "995a9cbc-1d45-40bc-8e64-8e3b956123b7",
   "metadata": {},
   "outputs": [],
   "source": [
    "# Get model predictions\n",
    "predictions_lin_train = predict(x_train[['intercept', 'x']], results_lin)"
   ]
  },
  {
   "cell_type": "code",
   "execution_count": 10,
   "id": "bd4c1cba",
   "metadata": {},
   "outputs": [
    {
     "data": {
      "text/plain": [
       "[<matplotlib.lines.Line2D at 0x140bb97d0>]"
      ]
     },
     "execution_count": 10,
     "metadata": {},
     "output_type": "execute_result"
    },
    {
     "data": {
      "image/png": "[encoded data removed]",
      "text/plain": [
       "<Figure size 640x480 with 1 Axes>"
      ]
     },
     "metadata": {},
     "output_type": "display_data"
    }
   ],
   "source": [
    "# Plot predictions as solid line\n",
    "fig, ax = plt.subplots()\n",
    "ax.scatter(x_train['x'],y_train)\n",
    "ax.plot(x_train['x'],predictions_lin_train, color='green')"
   ]
  },
  {
   "cell_type": "code",
   "execution_count": 11,
   "id": "225faa83-460d-4af2-9dff-e34beaa4a11d",
   "metadata": {},
   "outputs": [
    {
     "name": "stderr",
     "output_type": "stream",
     "text": [
      "/Users/mjl09005/anaconda3/lib/python3.11/site-packages/ISLP/models/__init__.py:49: FutureWarning: Passing literal html to 'read_html' is deprecated and will be removed in a future version. To read from a literal string, wrap it in a 'StringIO' object.\n",
      "  results_table = pd.read_html(tab.as_html(),\n"
     ]
    },
    {
     "data": {
      "text/html": [
       "<div>\n",
       "<style scoped>\n",
       "    .dataframe tbody tr th:only-of-type {\n",
       "        vertical-align: middle;\n",
       "    }\n",
       "\n",
       "    .dataframe tbody tr th {\n",
       "        vertical-align: top;\n",
       "    }\n",
       "\n",
       "    .dataframe thead th {\n",
       "        text-align: right;\n",
       "    }\n",
       "</style>\n",
       "<table border=\"1\" class=\"dataframe\">\n",
       "  <thead>\n",
       "    <tr style=\"text-align: right;\">\n",
       "      <th></th>\n",
       "      <th>coef</th>\n",
       "      <th>std err</th>\n",
       "      <th>t</th>\n",
       "      <th>P&gt;|t|</th>\n",
       "    </tr>\n",
       "  </thead>\n",
       "  <tbody>\n",
       "    <tr>\n",
       "      <th>intercept</th>\n",
       "      <td>-0.1136</td>\n",
       "      <td>0.113</td>\n",
       "      <td>-1.002</td>\n",
       "      <td>0.319</td>\n",
       "    </tr>\n",
       "    <tr>\n",
       "      <th>x</th>\n",
       "      <td>1.1711</td>\n",
       "      <td>0.109</td>\n",
       "      <td>10.720</td>\n",
       "      <td>0.000</td>\n",
       "    </tr>\n",
       "    <tr>\n",
       "      <th>x_sq</th>\n",
       "      <td>-1.9511</td>\n",
       "      <td>0.084</td>\n",
       "      <td>-23.260</td>\n",
       "      <td>0.000</td>\n",
       "    </tr>\n",
       "  </tbody>\n",
       "</table>\n",
       "</div>"
      ],
      "text/plain": [
       "             coef  std err       t  P>|t|\n",
       "intercept -0.1136    0.113  -1.002  0.319\n",
       "x          1.1711    0.109  10.720  0.000\n",
       "x_sq      -1.9511    0.084 -23.260  0.000"
      ]
     },
     "execution_count": 11,
     "metadata": {},
     "output_type": "execute_result"
    }
   ],
   "source": [
    "# Fit a quadratic model\n",
    "model_quad = sm.OLS(y_train, x_train[['intercept','x','x_sq']])\n",
    "results_quad = model_quad.fit()\n",
    "summarize(results_quad)"
   ]
  },
  {
   "cell_type": "code",
   "execution_count": 12,
   "id": "8d71075e",
   "metadata": {},
   "outputs": [],
   "source": [
    "# Get predictions\n",
    "x_train['pred_sq'] = predict(x_train[['intercept', 'x', 'x_sq']], results_quad)"
   ]
  },
  {
   "cell_type": "code",
   "execution_count": 13,
   "id": "3b26cf81",
   "metadata": {},
   "outputs": [
    {
     "data": {
      "text/plain": [
       "[<matplotlib.lines.Line2D at 0x140c05c10>]"
      ]
     },
     "execution_count": 13,
     "metadata": {},
     "output_type": "execute_result"
    },
    {
     "data": {
      "image/png": "[encoded data removed]",
      "text/plain": [
       "<Figure size 640x480 with 1 Axes>"
      ]
     },
     "metadata": {},
     "output_type": "display_data"
    }
   ],
   "source": [
    "# Plot predictions as solid line\n",
    "fig, ax = plt.subplots()\n",
    "ax.scatter(x_train['x'],y_train)\n",
    "quadratic=x_train[['x','pred_sq']].sort_values('x')\n",
    "ax.plot(quadratic['x'],quadratic['pred_sq'], color='red')"
   ]
  },
  {
   "cell_type": "code",
   "execution_count": 14,
   "id": "aafdbfbf-e9c7-4d59-92c4-0e7f74022096",
   "metadata": {},
   "outputs": [
    {
     "name": "stderr",
     "output_type": "stream",
     "text": [
      "/Users/mjl09005/anaconda3/lib/python3.11/site-packages/ISLP/models/__init__.py:49: FutureWarning: Passing literal html to 'read_html' is deprecated and will be removed in a future version. To read from a literal string, wrap it in a 'StringIO' object.\n",
      "  results_table = pd.read_html(tab.as_html(),\n"
     ]
    },
    {
     "data": {
      "text/html": [
       "<div>\n",
       "<style scoped>\n",
       "    .dataframe tbody tr th:only-of-type {\n",
       "        vertical-align: middle;\n",
       "    }\n",
       "\n",
       "    .dataframe tbody tr th {\n",
       "        vertical-align: top;\n",
       "    }\n",
       "\n",
       "    .dataframe thead th {\n",
       "        text-align: right;\n",
       "    }\n",
       "</style>\n",
       "<table border=\"1\" class=\"dataframe\">\n",
       "  <thead>\n",
       "    <tr style=\"text-align: right;\">\n",
       "      <th></th>\n",
       "      <th>coef</th>\n",
       "      <th>std err</th>\n",
       "      <th>t</th>\n",
       "      <th>P&gt;|t|</th>\n",
       "    </tr>\n",
       "  </thead>\n",
       "  <tbody>\n",
       "    <tr>\n",
       "      <th>intercept</th>\n",
       "      <td>-0.1223</td>\n",
       "      <td>0.115</td>\n",
       "      <td>-1.064</td>\n",
       "      <td>0.290</td>\n",
       "    </tr>\n",
       "    <tr>\n",
       "      <th>x</th>\n",
       "      <td>1.2533</td>\n",
       "      <td>0.189</td>\n",
       "      <td>6.633</td>\n",
       "      <td>0.000</td>\n",
       "    </tr>\n",
       "    <tr>\n",
       "      <th>x_sq</th>\n",
       "      <td>-1.9384</td>\n",
       "      <td>0.087</td>\n",
       "      <td>-22.153</td>\n",
       "      <td>0.000</td>\n",
       "    </tr>\n",
       "    <tr>\n",
       "      <th>x_cu</th>\n",
       "      <td>-0.0332</td>\n",
       "      <td>0.062</td>\n",
       "      <td>-0.534</td>\n",
       "      <td>0.595</td>\n",
       "    </tr>\n",
       "  </tbody>\n",
       "</table>\n",
       "</div>"
      ],
      "text/plain": [
       "             coef  std err       t  P>|t|\n",
       "intercept -0.1223    0.115  -1.064  0.290\n",
       "x          1.2533    0.189   6.633  0.000\n",
       "x_sq      -1.9384    0.087 -22.153  0.000\n",
       "x_cu      -0.0332    0.062  -0.534  0.595"
      ]
     },
     "execution_count": 14,
     "metadata": {},
     "output_type": "execute_result"
    }
   ],
   "source": [
    "# Fit a cubic model\n",
    "model_cubic = sm.OLS(y_train, x_train[['intercept','x','x_sq','x_cu']])\n",
    "results_cubic = model_cubic.fit()\n",
    "summarize(results_cubic)"
   ]
  },
  {
   "cell_type": "code",
   "execution_count": 15,
   "id": "828ef9e9",
   "metadata": {},
   "outputs": [],
   "source": [
    "# Get predictions\n",
    "x_train['pred_cu'] = predict(x_train[['intercept', 'x','x_sq','x_cu']], results_cubic)"
   ]
  },
  {
   "cell_type": "code",
   "execution_count": 16,
   "id": "938de1a7",
   "metadata": {},
   "outputs": [
    {
     "data": {
      "text/plain": [
       "[<matplotlib.lines.Line2D at 0x140f2dc10>]"
      ]
     },
     "execution_count": 16,
     "metadata": {},
     "output_type": "execute_result"
    },
    {
     "data": {
      "image/png": "[encoded data removed]",
      "text/plain": [
       "<Figure size 640x480 with 1 Axes>"
      ]
     },
     "metadata": {},
     "output_type": "display_data"
    }
   ],
   "source": [
    "# Plot predictions as solid line\n",
    "fig, ax = plt.subplots()\n",
    "ax.scatter(x_train['x'],y_train)\n",
    "cubic=x_train[['x','pred_cu']].sort_values('x')\n",
    "ax.plot(cubic['x'],cubic['pred_cu'], color='orange')"
   ]
  },
  {
   "cell_type": "code",
   "execution_count": 17,
   "id": "fa4c4b0c",
   "metadata": {},
   "outputs": [
    {
     "name": "stdout",
     "output_type": "stream",
     "text": [
      "mse train linear   : 5.675133917571525\n",
      "mse train quadratic: 0.8628147238960371\n",
      "mse train cubic    : 0.8602607634782035\n"
     ]
    }
   ],
   "source": [
    "# Calculate the MSE on the training set for each model\n",
    "predictions_lin_train = predict(x_train[['intercept', 'x']], results_lin)\n",
    "predictions_quad_train = predict(x_train[['intercept', 'x', 'x_sq']], results_quad)\n",
    "predictions_cubic_train = predict(x_train[['intercept', 'x', 'x_sq', 'x_cu']], results_cubic)\n",
    "print('mse train linear   :',mse(y_train, predictions_lin_train))\n",
    "print('mse train quadratic:',mse(y_train, predictions_quad_train))\n",
    "print('mse train cubic    :',mse(y_train, predictions_cubic_train))"
   ]
  },
  {
   "cell_type": "code",
   "execution_count": 18,
   "id": "476c0fb8",
   "metadata": {},
   "outputs": [
    {
     "name": "stdout",
     "output_type": "stream",
     "text": [
      "mse test linear   : 10.065186883811217\n",
      "mse test quadratic: 0.9598720616005347\n",
      "mse test cubic    : 1.0269194510918034\n"
     ]
    }
   ],
   "source": [
    "# Calculate the MSE on the test set for each model\n",
    "predictions_lin_test = predict(x_test[['intercept', 'x']], results_lin)\n",
    "predictions_quad_test = predict(x_test[['intercept', 'x', 'x_sq']], results_quad)\n",
    "predictions_cubic_test = predict(x_test[['intercept', 'x', 'x_sq', 'x_cu']], results_cubic)\n",
    "print('mse test linear   :',mse(y_test, predictions_lin_test))\n",
    "print('mse test quadratic:',mse(y_test, predictions_quad_test))\n",
    "print('mse test cubic    :',mse(y_test, predictions_cubic_test))"
   ]
  },
  {
   "cell_type": "code",
   "execution_count": 19,
   "id": "080663aa",
   "metadata": {},
   "outputs": [
    {
     "name": "stdout",
     "output_type": "stream",
     "text": [
      "[ 4.33878408  5.83583034  2.13290121 13.26174966  4.3754383 ]\n",
      "estimated mse test: 5.988940716896161\n"
     ]
    }
   ],
   "source": [
    "# Calculate CV error w/ 5 folds for linear model\n",
    "M = sklearn_sm(sm.OLS)\n",
    "M_CV = cross_validate(M,\n",
    "                      x_train[['intercept','x']],\n",
    "                      y_train,\n",
    "                      cv=5)\n",
    "print(M_CV['test_score'])\n",
    "cv_error_lin = np.mean(M_CV['test_score'])\n",
    "print('estimated mse test:', cv_error_lin)"
   ]
  },
  {
   "cell_type": "code",
   "execution_count": 20,
   "id": "cc5b45e6",
   "metadata": {},
   "outputs": [
    {
     "name": "stdout",
     "output_type": "stream",
     "text": [
      "[1.34843589 0.66089087 0.4939185  1.65283991 0.6587921 ]\n",
      "estimated mse test: 0.9629754540961665\n"
     ]
    }
   ],
   "source": [
    "# Calculate CV error w/ 5 folds for quadratic model\n",
    "M = sklearn_sm(sm.OLS)\n",
    "M_CV = cross_validate(M,\n",
    "                      x_train[['intercept','x','x_sq']],\n",
    "                      y_train,\n",
    "                      cv=5)\n",
    "print(M_CV['test_score'])\n",
    "cv_error_quad = np.mean(M_CV['test_score'])\n",
    "print('estimated mse test:', cv_error_quad)"
   ]
  },
  {
   "cell_type": "code",
   "execution_count": 21,
   "id": "b715f8fb",
   "metadata": {},
   "outputs": [
    {
     "name": "stdout",
     "output_type": "stream",
     "text": [
      "[1.3635614  0.7853148  0.48556897 2.15444123 0.67200079]\n",
      "estimated mse test: 1.0921774390176615\n"
     ]
    }
   ],
   "source": [
    "# Calculate CV error w/ 5 folds for cubic model\n",
    "M = sklearn_sm(sm.OLS)\n",
    "M_CV = cross_validate(M,\n",
    "                      x_train[['intercept','x','x_sq','x_cu']],\n",
    "                      y_train,\n",
    "                      cv=5)\n",
    "print(M_CV['test_score'])\n",
    "cv_error_cubic = np.mean(M_CV['test_score'])\n",
    "print('estimated mse test:', cv_error_cubic)"
   ]
  },
  {
   "cell_type": "code",
   "execution_count": null,
   "id": "937183d1",
   "metadata": {},
   "outputs": [],
   "source": []
  }
 ],
 "metadata": {
  "kernelspec": {
   "display_name": "Python 3 (ipykernel)",
   "language": "python",
   "name": "python3"
  },
  "language_info": {
   "codemirror_mode": {
    "name": "ipython",
    "version": 3
   },
   "file_extension": ".py",
   "mimetype": "text/x-python",
   "name": "python",
   "nbconvert_exporter": "python",
   "pygments_lexer": "ipython3",
   "version": "3.11.5"
  }
 },
 "nbformat": 4,
 "nbformat_minor": 5
}
