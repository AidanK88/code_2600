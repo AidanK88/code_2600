{
 "cells": [
  {
   "cell_type": "code",
   "execution_count": null,
   "id": "9d064a85-fc6d-448e-abae-0076b739f0c4",
   "metadata": {},
   "outputs": [],
   "source": [
    "import pandas as pd\n",
    "import numpy as np\n",
    "import statsmodels.api as sm\n",
    "from ISLP import load_data\n",
    "from ISLP.models import (ModelSpec as MS,\n",
    "                         summarize,\n",
    "                         poly)\n",
    "from sklearn.model_selection import train_test_split\n",
    "import matplotlib.pyplot as plt\n",
    "import scipy.stats as stats\n",
    "import math\n",
    "from matplotlib.pyplot import subplots"
   ]
  },
  {
   "cell_type": "code",
   "execution_count": null,
   "id": "50741e12-38fb-4251-ae9e-bc811f5fdde7",
   "metadata": {},
   "outputs": [],
   "source": [
    "from functools import partial\n",
    "from sklearn.model_selection import \\\n",
    "     (cross_validate,\n",
    "      KFold,\n",
    "      ShuffleSplit)\n",
    "from sklearn.base import clone\n",
    "from ISLP.models import sklearn_sm"
   ]
  },
  {
   "cell_type": "code",
   "execution_count": null,
   "id": "060d508d",
   "metadata": {},
   "outputs": [],
   "source": [
    "# Create helper functions for computing predictions and the mean squared error\n",
    "\n",
    "def predict(X, model):\n",
    "    # the built-in get_prediction tool returns an array, so we need to convert to a dataframe\n",
    "    predictions_df = pd.DataFrame(model.get_prediction(X).predicted, columns=['y_hat'], index=X.index)\n",
    "    return predictions_df['y_hat']\n",
    "\n",
    "def mse(y, y_hat):\n",
    "    # calculate the residual error for each individual record\n",
    "    resid = y - y_hat\n",
    "    # square the residual (hence \"squared error\")\n",
    "    sq_resid = resid**2\n",
    "    # calculate the sum of squared errors\n",
    "    SSR = sum(sq_resid)\n",
    "    # divide by the number of records to get the mean squared error\n",
    "    MSE = SSR / y.shape[0]\n",
    "    return MSE"
   ]
  },
  {
   "cell_type": "code",
   "execution_count": null,
   "id": "4dc0b929-424c-4056-ac14-e8e9c2d25cb6",
   "metadata": {},
   "outputs": [],
   "source": [
    "# Randomly generate data using the equation y = x - 2x^2\n",
    "rng = np.random.default_rng(1)\n",
    "x = rng.normal(size=150)\n",
    "y = x - 2 * x**2 + rng.normal(size=150)"
   ]
  },
  {
   "cell_type": "code",
   "execution_count": null,
   "id": "b64f0723-dfde-4e09-8578-c3382f3ee5e7",
   "metadata": {},
   "outputs": [],
   "source": [
    "# Create a data frame with columns we can use for modeling\n",
    "new_x = pd.DataFrame(np.column_stack((x**0, x, x**2, x**3)), columns=['intercept','x','x_sq','x_cu'])\n",
    "new_x"
   ]
  },
  {
   "cell_type": "code",
   "execution_count": null,
   "id": "e0ed4047-8806-47df-b82d-fbc96eb4e954",
   "metadata": {},
   "outputs": [],
   "source": [
    "# Split the data into train and test\n",
    "x_train, x_test, y_train, y_test = train_test_split(new_x,\n",
    "                                                    y,\n",
    "                                                    random_state=314,\n",
    "                                                    test_size=0.33,\n",
    "                                                    shuffle=True) "
   ]
  },
  {
   "cell_type": "code",
   "execution_count": null,
   "id": "4ddef896-b7ca-4f71-8600-35776dd440b6",
   "metadata": {},
   "outputs": [],
   "source": [
    "# Let's graph the data we created\n",
    "fig, ax = plt.subplots()\n",
    "ax.scatter(x_train['x'],y_train)"
   ]
  },
  {
   "cell_type": "code",
   "execution_count": null,
   "id": "ca53097a-79b6-4d8d-9f3e-faba8f49b370",
   "metadata": {},
   "outputs": [],
   "source": [
    "# Fit a linear model\n",
    "model_lin = sm.OLS(y_train, x_train[['intercept','x']])\n",
    "results_lin = model_lin.fit()\n",
    "summarize(results_lin)"
   ]
  },
  {
   "cell_type": "code",
   "execution_count": null,
   "id": "995a9cbc-1d45-40bc-8e64-8e3b956123b7",
   "metadata": {},
   "outputs": [],
   "source": [
    "# Get model predictions\n",
    "predictions_lin_train = predict(x_train[['intercept', 'x']], results_lin)"
   ]
  },
  {
   "cell_type": "code",
   "execution_count": null,
   "id": "bd4c1cba",
   "metadata": {},
   "outputs": [],
   "source": [
    "# Plot predictions as solid line\n",
    "fig, ax = plt.subplots()\n",
    "ax.scatter(x_train['x'],y_train)\n",
    "ax.plot(x_train['x'],predictions_lin_train, color='green')"
   ]
  },
  {
   "cell_type": "code",
   "execution_count": null,
   "id": "225faa83-460d-4af2-9dff-e34beaa4a11d",
   "metadata": {},
   "outputs": [],
   "source": [
    "# Fit a quadratic model\n",
    "model_quad = sm.OLS(y_train, x_train[['intercept','x','x_sq']])\n",
    "results_quad = model_quad.fit()\n",
    "summarize(results_quad)"
   ]
  },
  {
   "cell_type": "code",
   "execution_count": null,
   "id": "8d71075e",
   "metadata": {},
   "outputs": [],
   "source": [
    "# Get predictions\n",
    "x_train['pred_sq'] = predict(x_train[['intercept', 'x', 'x_sq']], results_quad)"
   ]
  },
  {
   "cell_type": "code",
   "execution_count": null,
   "id": "3b26cf81",
   "metadata": {},
   "outputs": [],
   "source": [
    "# Plot predictions as solid line\n",
    "fig, ax = plt.subplots()\n",
    "ax.scatter(x_train['x'],y_train)\n",
    "quadratic=x_train[['x','pred_sq']].sort_values('x')\n",
    "ax.plot(quadratic['x'],quadratic['pred_sq'], color='red')"
   ]
  },
  {
   "cell_type": "code",
   "execution_count": null,
   "id": "aafdbfbf-e9c7-4d59-92c4-0e7f74022096",
   "metadata": {},
   "outputs": [],
   "source": [
    "# Fit a cubic model\n",
    "model_cubic = sm.OLS(y_train, x_train[['intercept','x','x_sq','x_cu']])\n",
    "results_cubic = model_cubic.fit()\n",
    "summarize(results_cubic)"
   ]
  },
  {
   "cell_type": "code",
   "execution_count": null,
   "id": "828ef9e9",
   "metadata": {},
   "outputs": [],
   "source": [
    "# Get predictions\n",
    "x_train['pred_cu'] = predict(x_train[['intercept', 'x','x_sq','x_cu']], results_cubic)"
   ]
  },
  {
   "cell_type": "code",
   "execution_count": null,
   "id": "938de1a7",
   "metadata": {},
   "outputs": [],
   "source": [
    "# Plot predictions as solid line\n",
    "fig, ax = plt.subplots()\n",
    "ax.scatter(x_train['x'],y_train)\n",
    "cubic=x_train[['x','pred_cu']].sort_values('x')\n",
    "ax.plot(cubic['x'],cubic['pred_cu'], color='orange')"
   ]
  },
  {
   "cell_type": "code",
   "execution_count": null,
   "id": "fa4c4b0c",
   "metadata": {},
   "outputs": [],
   "source": [
    "# Calculate the MSE on the training set for each model\n",
    "predictions_lin_train = predict(x_train[['intercept', 'x']], results_lin)\n",
    "predictions_quad_train = predict(x_train[['intercept', 'x', 'x_sq']], results_quad)\n",
    "predictions_cubic_train = predict(x_train[['intercept', 'x', 'x_sq', 'x_cu']], results_cubic)\n",
    "print('mse train linear   :',mse(y_train, predictions_lin_train))\n",
    "print('mse train quadratic:',mse(y_train, predictions_quad_train))\n",
    "print('mse train cubic    :',mse(y_train, predictions_cubic_train))"
   ]
  },
  {
   "cell_type": "code",
   "execution_count": null,
   "id": "476c0fb8",
   "metadata": {},
   "outputs": [],
   "source": [
    "# Calculate the MSE on the test set for each model\n",
    "predictions_lin_test = predict(x_test[['intercept', 'x']], results_lin)\n",
    "predictions_quad_test = predict(x_test[['intercept', 'x', 'x_sq']], results_quad)\n",
    "predictions_cubic_test = predict(x_test[['intercept', 'x', 'x_sq', 'x_cu']], results_cubic)\n",
    "print('mse test linear   :',mse(y_test, predictions_lin_test))\n",
    "print('mse test quadratic:',mse(y_test, predictions_quad_test))\n",
    "print('mse test cubic    :',mse(y_test, predictions_cubic_test))"
   ]
  },
  {
   "cell_type": "code",
   "execution_count": null,
   "id": "080663aa",
   "metadata": {},
   "outputs": [],
   "source": [
    "# Calculate CV error w/ 5 folds for linear model\n",
    "M = sklearn_sm(sm.OLS)\n",
    "M_CV = cross_validate(M,\n",
    "                      x_train[['intercept','x']],\n",
    "                      y_train,\n",
    "                      cv=5)\n",
    "print(M_CV['test_score'])\n",
    "cv_error_lin = np.mean(M_CV['test_score'])\n",
    "print('estimated mse test:', cv_error_lin)"
   ]
  },
  {
   "cell_type": "code",
   "execution_count": null,
   "id": "cc5b45e6",
   "metadata": {},
   "outputs": [],
   "source": [
    "# Calculate CV error w/ 5 folds for quadratic model\n",
    "M = sklearn_sm(sm.OLS)\n",
    "M_CV = cross_validate(M,\n",
    "                      x_train[['intercept','x','x_sq']],\n",
    "                      y_train,\n",
    "                      cv=5)\n",
    "print(M_CV['test_score'])\n",
    "cv_error_quad = np.mean(M_CV['test_score'])\n",
    "print('estimated mse test:', cv_error_quad)"
   ]
  },
  {
   "cell_type": "code",
   "execution_count": null,
   "id": "b715f8fb",
   "metadata": {},
   "outputs": [],
   "source": [
    "# Calculate CV error w/ 5 folds for cubic model\n",
    "M = sklearn_sm(sm.OLS)\n",
    "M_CV = cross_validate(M,\n",
    "                      x_train[['intercept','x','x_sq','x_cu']],\n",
    "                      y_train,\n",
    "                      cv=5)\n",
    "print(M_CV['test_score'])\n",
    "cv_error_cubic = np.mean(M_CV['test_score'])\n",
    "print('estimated mse test:', cv_error_cubic)"
   ]
  },
  {
   "cell_type": "code",
   "execution_count": null,
   "id": "937183d1",
   "metadata": {},
   "outputs": [],
   "source": []
  }
 ],
 "metadata": {
  "kernelspec": {
   "display_name": "Python 3 (ipykernel)",
   "language": "python",
   "name": "python3"
  },
  "language_info": {
   "codemirror_mode": {
    "name": "ipython",
    "version": 3
   },
   "file_extension": ".py",
   "mimetype": "text/x-python",
   "name": "python",
   "nbconvert_exporter": "python",
   "pygments_lexer": "ipython3",
   "version": "3.11.5"
  }
 },
 "nbformat": 4,
 "nbformat_minor": 5
}
