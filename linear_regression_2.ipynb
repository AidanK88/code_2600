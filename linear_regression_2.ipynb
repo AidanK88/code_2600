{
 "cells": [
  {
   "cell_type": "markdown",
   "id": "d0a93dea",
   "metadata": {},
   "source": [
    "# Linear Regression: Demo"
   ]
  },
  {
   "cell_type": "code",
   "execution_count": null,
   "id": "c649aa19",
   "metadata": {},
   "outputs": [],
   "source": [
    "# Start with importing the usual stuff\n",
    "\n",
    "import numpy as np\n",
    "import pandas as pd\n",
    "from matplotlib.pyplot import subplots\n",
    "import statsmodels.api as sm\n",
    "from sklearn.model_selection import train_test_split \n",
    "\n",
    "pd.options.mode.copy_on_write = True"
   ]
  },
  {
   "cell_type": "code",
   "execution_count": null,
   "id": "5690ce37",
   "metadata": {},
   "outputs": [],
   "source": [
    "# This contains some functions written by the authors of the textbook (ISLP)\n",
    "# we'll be adapting most of the this demo from their material\n",
    "\n",
    "from ISLP import load_data\n",
    "from ISLP.models import (ModelSpec as MS,\n",
    "                         summarize,\n",
    "                         poly)"
   ]
  },
  {
   "cell_type": "markdown",
   "id": "182764f9",
   "metadata": {},
   "source": [
    "## Set up data"
   ]
  },
  {
   "cell_type": "code",
   "execution_count": null,
   "id": "61981e59",
   "metadata": {},
   "outputs": [],
   "source": [
    "# First we'll load the \"Advertising\" data\n",
    "\n",
    "Advertising = pd.read_csv('../../data/Advertising.csv')\n",
    "#Advertising = pd.read_csv('Advertising.csv')\n",
    "Advertising"
   ]
  },
  {
   "cell_type": "code",
   "execution_count": null,
   "id": "0c4916de",
   "metadata": {},
   "outputs": [],
   "source": [
    "# Identify predictors and target\n",
    "\n",
    "X = Advertising[['TV', 'radio', 'newspaper']]\n",
    "y = Advertising['sales']"
   ]
  },
  {
   "cell_type": "code",
   "execution_count": null,
   "id": "914dd466",
   "metadata": {},
   "outputs": [],
   "source": [
    "# Create a column for the intercept in the features matrix\n",
    "\n",
    "X['intercept'] = np.ones(Advertising.shape[0])\n",
    "X"
   ]
  },
  {
   "cell_type": "code",
   "execution_count": null,
   "id": "fabfed92",
   "metadata": {},
   "outputs": [],
   "source": [
    "# Create training and testing sets\n",
    "\n",
    "X_train, X_test, y_train, y_test = train_test_split(X,\n",
    "                                                    y,\n",
    "                                                    random_state=314,\n",
    "                                                    test_size=0.25,\n",
    "                                                    shuffle=True) \n",
    "Train = pd.merge_ordered(X_train,y_train,left_on=X_train.index,right_on=y_train.index).drop(columns=['key_0'])\n",
    "Test = pd.merge_ordered(X_test,y_test,left_on=X_test.index,right_on=y_test.index).drop(columns=['key_0'])"
   ]
  },
  {
   "cell_type": "code",
   "execution_count": null,
   "id": "21c5de7c",
   "metadata": {},
   "outputs": [],
   "source": [
    "# Spot check the train and test sets\n",
    "\n",
    "print(X_train.head()) \n",
    "print(X_train.shape)\n",
    "print()\n",
    "print(y_train.head()) \n",
    "print(y_train.shape)\n",
    "print() \n",
    "print(X_test.head()) \n",
    "print(X_test.shape)\n",
    "print() \n",
    "print(y_test.head())\n",
    "print(y_test.shape)\n",
    "print() \n",
    "print(Train.head())\n",
    "print(Train.shape)\n",
    "print() \n",
    "print(Test.head())\n",
    "print(Test.shape)"
   ]
  },
  {
   "cell_type": "code",
   "execution_count": null,
   "id": "461035e1",
   "metadata": {},
   "outputs": [],
   "source": [
    "# Look at possible values and spot check for missing entries\n",
    "\n",
    "print('Sales')\n",
    "print(np.unique(Train['sales']))\n",
    "print('TV')\n",
    "print(np.unique(Train['TV']))\n",
    "print('Radio')\n",
    "print(np.unique(Train['radio']))\n",
    "print('Newspaper')\n",
    "print(np.unique(Train['newspaper']))"
   ]
  },
  {
   "cell_type": "markdown",
   "id": "09c66433",
   "metadata": {},
   "source": [
    "## Simple Linear Regression, Example 1"
   ]
  },
  {
   "cell_type": "code",
   "execution_count": null,
   "id": "d33f7d27",
   "metadata": {},
   "outputs": [],
   "source": [
    "# Build a linear model where TV predicts sales\n",
    "# Take note of the p-values\n",
    "\n",
    "model_TV = sm.OLS(y_train, X_train[['intercept','TV']])\n",
    "results_TV = model_TV.fit()\n",
    "summarize(results_TV)"
   ]
  },
  {
   "cell_type": "code",
   "execution_count": null,
   "id": "1bb82320",
   "metadata": {},
   "outputs": [],
   "source": [
    "# We can also assess the overall fit of the model\n",
    "\n",
    "print('R^2 on train:',results_TV.rsquared)"
   ]
  },
  {
   "cell_type": "code",
   "execution_count": null,
   "id": "b41a973e",
   "metadata": {},
   "outputs": [],
   "source": [
    "# Create helper functions for computing the mean squared error\n",
    "\n",
    "def predict(X, model):\n",
    "    # the built-in get_prediction tool returns an array, so we need to convert to a dataframe\n",
    "    predictions_df = pd.DataFrame(model.get_prediction(X).predicted, columns=['y_hat'], index=X.index)\n",
    "    return predictions_df['y_hat']\n",
    "\n",
    "def mse(y, y_hat):\n",
    "    # calculate the residual error for each individual record\n",
    "    resid = y - y_hat\n",
    "    # square the residual (hence \"squared error\")\n",
    "    sq_resid = resid**2\n",
    "    # calculate the sum of squared errors\n",
    "    SSR = sum(sq_resid)\n",
    "    # divide by the number of records to get the mean squared error\n",
    "    MSE = SSR / y.shape[0]\n",
    "    return MSE"
   ]
  },
  {
   "cell_type": "code",
   "execution_count": null,
   "id": "7c41f89d",
   "metadata": {},
   "outputs": [],
   "source": [
    "# Let's compute the MSE on the training and test sets\n",
    "\n",
    "predictions_TV_train = predict(X_train[['intercept', 'TV']], results_TV)\n",
    "print('mse train:',mse(y_train, predictions_TV_train))\n",
    "predictions_TV_test = predict(X_test[['intercept', 'TV']], results_TV)\n",
    "print('mse test:',mse(y_test, predictions_TV_test))"
   ]
  },
  {
   "cell_type": "code",
   "execution_count": null,
   "id": "711afd04",
   "metadata": {},
   "outputs": [],
   "source": [
    "# Define a function to draw a line given coefficients [credit to Hastie & Tibshirani]\n",
    "\n",
    "def abline(ax, b, m, *args, **kwargs):\n",
    "    \"Add a line with slope m and intercept b to ax\"\n",
    "    xlim = ax.get_xlim()\n",
    "    ylim = [m * xlim[0] + b, m * xlim[1] + b]\n",
    "    ax.plot(xlim, ylim, *args, **kwargs)"
   ]
  },
  {
   "cell_type": "code",
   "execution_count": null,
   "id": "85413c26",
   "metadata": {},
   "outputs": [],
   "source": [
    "# Plot TV vs sales on training set\n",
    "\n",
    "ax = Train.plot.scatter('TV', 'sales')\n",
    "ax.set_title(\"Plot of TV vs Sales (Train)\")\n",
    "abline(ax,\n",
    "       results_TV.params[0],\n",
    "       results_TV.params[1],\n",
    "       'r--',\n",
    "       linewidth=3)"
   ]
  },
  {
   "cell_type": "code",
   "execution_count": null,
   "id": "e0d01f3a",
   "metadata": {},
   "outputs": [],
   "source": [
    "# Plot TV vs sales on test set\n",
    "\n",
    "ax = Test.plot.scatter('TV', 'sales')\n",
    "ax.set_title(\"Plot of TV vs Sales (Test)\")\n",
    "abline(ax,\n",
    "       results_TV.params[0],\n",
    "       results_TV.params[1],\n",
    "       'g--',\n",
    "       linewidth=3)"
   ]
  },
  {
   "cell_type": "code",
   "execution_count": null,
   "id": "a24286bb",
   "metadata": {},
   "outputs": [],
   "source": [
    "# Plot residual error for train set\n",
    "\n",
    "ax = subplots(figsize=(8,8))[1]\n",
    "ax.scatter(predictions_TV_train, y_train-predictions_TV_train)\n",
    "ax.set_xlabel('Fitted value')\n",
    "ax.set_ylabel('Residual')\n",
    "ax.axhline(0, c='k', ls='--');"
   ]
  },
  {
   "cell_type": "code",
   "execution_count": null,
   "id": "e60a6a19",
   "metadata": {},
   "outputs": [],
   "source": [
    "# Plot residual error for test set\n",
    "\n",
    "ax = subplots(figsize=(8,8))[1]\n",
    "ax.scatter(predictions_TV_test, y_test-predictions_TV_test)\n",
    "ax.set_xlabel('Fitted value')\n",
    "ax.set_ylabel('Residual')\n",
    "ax.axhline(0, c='k', ls='--');"
   ]
  },
  {
   "cell_type": "markdown",
   "id": "9c7cd2d0",
   "metadata": {},
   "source": [
    "## Simple Linear Regression, Example 2"
   ]
  },
  {
   "cell_type": "code",
   "execution_count": null,
   "id": "04debb48",
   "metadata": {},
   "outputs": [],
   "source": [
    "# Build a linear model where radio predicts sales\n",
    "\n",
    "model_radio = sm.OLS(y_train, X_train[['intercept','radio']])\n",
    "results_radio = model_radio.fit()\n",
    "summarize(results_radio)"
   ]
  },
  {
   "cell_type": "code",
   "execution_count": null,
   "id": "4399b1a1",
   "metadata": {},
   "outputs": [],
   "source": [
    "# R^2 for radio model\n",
    "print('R^2 on train:',results_radio.rsquared)"
   ]
  },
  {
   "cell_type": "code",
   "execution_count": null,
   "id": "6c3d574b",
   "metadata": {},
   "outputs": [],
   "source": [
    "# MSE for radio model\n",
    "\n",
    "predictions_radio_train = predict(X_train[['intercept', 'radio']], results_radio)\n",
    "print('mse train:',mse(y_train, predictions_radio_train))\n",
    "predictions_radio_test = predict(X_test[['intercept', 'radio']], results_radio)\n",
    "print('mse test:',mse(y_test, predictions_radio_test))"
   ]
  },
  {
   "cell_type": "code",
   "execution_count": null,
   "id": "32862328",
   "metadata": {},
   "outputs": [],
   "source": [
    "# Plot radio vs sales on training set\n",
    "\n",
    "ax = Train.plot.scatter('radio', 'sales')\n",
    "ax.set_title(\"Plot of Radio vs Sales (Train)\")\n",
    "abline(ax,\n",
    "       results_radio.params[0],\n",
    "       results_radio.params[1],\n",
    "       'r--',\n",
    "       linewidth=3)"
   ]
  },
  {
   "cell_type": "code",
   "execution_count": null,
   "id": "05368e9c",
   "metadata": {},
   "outputs": [],
   "source": [
    "# Plot radio vs sales on test set\n",
    "\n",
    "ax = Test.plot.scatter('radio', 'sales')\n",
    "ax.set_title(\"Plot of Radio vs Sales (Test)\")\n",
    "abline(ax,\n",
    "       results_radio.params[0],\n",
    "       results_radio.params[1],\n",
    "       'g--',\n",
    "       linewidth=3)"
   ]
  },
  {
   "cell_type": "code",
   "execution_count": null,
   "id": "0e9f71b4",
   "metadata": {},
   "outputs": [],
   "source": [
    "# Plot residual error for training set\n",
    "\n",
    "ax = subplots(figsize=(8,8))[1]\n",
    "ax.scatter(predictions_radio_train, y_train-predictions_radio_train)\n",
    "ax.set_xlabel('Fitted value')\n",
    "ax.set_ylabel('Residual')\n",
    "ax.axhline(0, c='k', ls='--');"
   ]
  },
  {
   "cell_type": "code",
   "execution_count": null,
   "id": "bbfd01de",
   "metadata": {},
   "outputs": [],
   "source": [
    "# Plot residual error for test set\n",
    "\n",
    "ax = subplots(figsize=(8,8))[1]\n",
    "ax.scatter(predictions_radio_test, y_test-predictions_radio_test)\n",
    "ax.set_xlabel('Fitted value')\n",
    "ax.set_ylabel('Residual')\n",
    "ax.axhline(0, c='k', ls='--');"
   ]
  },
  {
   "cell_type": "markdown",
   "id": "fadc29cd",
   "metadata": {},
   "source": [
    "## Simple Linear Regression, Example 3"
   ]
  },
  {
   "cell_type": "code",
   "execution_count": null,
   "id": "7bac4f89",
   "metadata": {},
   "outputs": [],
   "source": [
    "# Build a linear model where newspaper predicts sales\n",
    "\n",
    "model_newspaper = sm.OLS(y_train, X_train[['intercept','newspaper']])\n",
    "results_newspaper = model_newspaper.fit()\n",
    "summarize(results_newspaper)"
   ]
  },
  {
   "cell_type": "code",
   "execution_count": null,
   "id": "2177b1d9",
   "metadata": {},
   "outputs": [],
   "source": [
    "# R^2 for newspaper model\n",
    "\n",
    "print('R^2 on train:',results_newspaper.rsquared)"
   ]
  },
  {
   "cell_type": "code",
   "execution_count": null,
   "id": "cfab590c",
   "metadata": {},
   "outputs": [],
   "source": [
    "# MSE for newspaper model\n",
    "\n",
    "predictions_newspaper_train = predict(X_train[['intercept','newspaper']], results_newspaper)\n",
    "print('mse train:',mse(y_train, predictions_newspaper_train))\n",
    "predictions_newspaper_test = predict(X_test[['intercept','newspaper']], results_newspaper)\n",
    "print('mse test:',mse(y_test, predictions_newspaper_test))"
   ]
  },
  {
   "cell_type": "code",
   "execution_count": null,
   "id": "59a3aafa",
   "metadata": {},
   "outputs": [],
   "source": [
    "# Plot newspaper vs sales\n",
    "\n",
    "ax = Train.plot.scatter('newspaper', 'sales')\n",
    "abline(ax,\n",
    "       results_newspaper.params[0],\n",
    "       results_newspaper.params[1],\n",
    "       'r--',\n",
    "       linewidth=3)"
   ]
  },
  {
   "cell_type": "markdown",
   "id": "3255d6c7",
   "metadata": {},
   "source": [
    "## Multiple Linear Regression"
   ]
  },
  {
   "cell_type": "code",
   "execution_count": null,
   "id": "f6877adf",
   "metadata": {},
   "outputs": [],
   "source": [
    "# Let's look at the correlations in the set\n",
    "\n",
    "Train.corr()"
   ]
  },
  {
   "cell_type": "code",
   "execution_count": null,
   "id": "0ea24427",
   "metadata": {},
   "outputs": [],
   "source": [
    "import seaborn as sns\n",
    "\n",
    "# Create a heatmap with the correlation matrix\n",
    "sns.heatmap(Train.corr(), \n",
    "            annot=True,            # Show correlation coefficients\n",
    "            fmt=\".2f\",            # Format the annotations\n",
    "            cmap='coolwarm',      # Color map\n",
    "            square=True,          # Square cells\n",
    "            cbar_kws={\"shrink\": .8})  # Color bar size"
   ]
  },
  {
   "cell_type": "code",
   "execution_count": null,
   "id": "dc70d698",
   "metadata": {},
   "outputs": [],
   "source": [
    "# Build a linear model with both TV and radio as predictors of sales\n",
    "\n",
    "model_both = sm.OLS(y_train, X_train[['intercept','TV','radio']])\n",
    "results_both = model_both.fit()\n",
    "print(summarize(results_both))"
   ]
  },
  {
   "cell_type": "code",
   "execution_count": null,
   "id": "a4c34a06",
   "metadata": {},
   "outputs": [],
   "source": [
    "# Let's remind ourselves what the parameters were when we fit TV and radio separately\n",
    "\n",
    "print(summarize(results_TV))\n",
    "print('')\n",
    "print(summarize(results_radio))"
   ]
  },
  {
   "cell_type": "code",
   "execution_count": null,
   "id": "2c7a0a50",
   "metadata": {},
   "outputs": [],
   "source": [
    "# R^2 \n",
    "\n",
    "print('R^2 on train:',results_both.rsquared)"
   ]
  },
  {
   "cell_type": "code",
   "execution_count": null,
   "id": "b4410128",
   "metadata": {},
   "outputs": [],
   "source": [
    "# MSE\n",
    "\n",
    "predictions_both_train = predict(X_train[['intercept','TV','radio']], results_both)\n",
    "print('mse train:',mse(y_train, predictions_both_train))\n",
    "predictions_both_test = predict(X_test[['intercept','TV','radio']], results_both)\n",
    "print('mse test:',mse(y_test, predictions_both_test))"
   ]
  },
  {
   "cell_type": "code",
   "execution_count": null,
   "id": "2c507f3d",
   "metadata": {},
   "outputs": [],
   "source": [
    "# Plot residual error for test set\n",
    "\n",
    "ax = subplots(figsize=(8,8))[1]\n",
    "ax.scatter(predictions_both_test, y_test-predictions_both_test)\n",
    "ax.set_xlabel('Fitted value')\n",
    "ax.set_ylabel('Residual')\n",
    "ax.axhline(0, c='k', ls='--');"
   ]
  },
  {
   "cell_type": "markdown",
   "id": "97722bd5",
   "metadata": {},
   "source": [
    "## An example of overfitting via too many predictors"
   ]
  },
  {
   "cell_type": "code",
   "execution_count": null,
   "id": "2cbf4af6",
   "metadata": {},
   "outputs": [],
   "source": [
    "# What were the correlations among newspaper, TV, and radio?\n",
    "\n",
    "Train[['TV','radio','newspaper']].corr()"
   ]
  },
  {
   "cell_type": "code",
   "execution_count": null,
   "id": "e1134534",
   "metadata": {},
   "outputs": [],
   "source": [
    "# Try building a model where TV, radio, and newspaper all predict sales\n",
    "\n",
    "model_three = sm.OLS(y_train, X_train[['intercept','TV', 'radio', 'newspaper']])\n",
    "results_three = model_three.fit()\n",
    "summarize(results_three)"
   ]
  },
  {
   "cell_type": "code",
   "execution_count": null,
   "id": "57cf1a3b",
   "metadata": {},
   "outputs": [],
   "source": [
    "# R^2\n",
    "\n",
    "print('R^2 on train:',results_three.rsquared)"
   ]
  },
  {
   "cell_type": "code",
   "execution_count": null,
   "id": "58aca285",
   "metadata": {},
   "outputs": [],
   "source": [
    "# MSE for \"all-three\" model\n",
    "\n",
    "predictions_three_train = predict(X_train[['intercept','TV','radio','newspaper']], results_three)\n",
    "print('mse train:',mse(y_train, predictions_three_train))\n",
    "predictions_three_test = predict(X_test[['intercept','TV','radio','newspaper']], results_three)\n",
    "print('mse test:',mse(y_test, predictions_three_test))"
   ]
  },
  {
   "cell_type": "code",
   "execution_count": null,
   "id": "c1cd29cf",
   "metadata": {},
   "outputs": [],
   "source": [
    "# For comparison, here were the MSEs for the model with just TV and radio\n",
    "\n",
    "print('mse train:',mse(y_train, predictions_both_train))\n",
    "print('mse test:',mse(y_test, predictions_both_test))"
   ]
  },
  {
   "cell_type": "markdown",
   "id": "2c16d295",
   "metadata": {},
   "source": [
    "### An Example with Interactions"
   ]
  },
  {
   "cell_type": "code",
   "execution_count": null,
   "id": "3ee1add9",
   "metadata": {},
   "outputs": [],
   "source": [
    "# We'll create a model that uses TV, radio, and the interaction of the two to predict sales.\n",
    "# First we need to create the interaction variable and add it to all of the sets.\n",
    "\n",
    "X_train['TV_radio_int'] = X_train['TV'] * X_train['radio']\n",
    "X_test['TV_radio_int'] = X_test['TV'] * X_test['radio']\n",
    "Train['TV_radio_int'] = Train['TV'] * Train['radio']\n",
    "Test['TV_radio_int'] = Test['TV'] * Test['radio']"
   ]
  },
  {
   "cell_type": "code",
   "execution_count": null,
   "id": "6c9af446",
   "metadata": {},
   "outputs": [],
   "source": [
    "# Might as well look at a correlation matrix with the interaction included\n",
    "\n",
    "X_train[['TV', 'radio', 'TV_radio_int']].corr()"
   ]
  },
  {
   "cell_type": "code",
   "execution_count": null,
   "id": "bf7604e2",
   "metadata": {},
   "outputs": [],
   "source": [
    "# Build a linear model with an interaction term\n",
    "\n",
    "model_int = sm.OLS(y_train, X_train[['intercept','TV', 'radio', 'TV_radio_int']])\n",
    "results_int = model_int.fit()\n",
    "summarize(results_int)"
   ]
  },
  {
   "cell_type": "code",
   "execution_count": null,
   "id": "c207de83",
   "metadata": {},
   "outputs": [],
   "source": [
    "# R^2 for interaction model\n",
    "\n",
    "print('R^2 on train:',results_int.rsquared)"
   ]
  },
  {
   "cell_type": "code",
   "execution_count": null,
   "id": "645b2e5f",
   "metadata": {},
   "outputs": [],
   "source": [
    "# MSE for interaction model\n",
    "\n",
    "predictions_int_train = predict(X_train[['intercept','TV','radio','TV_radio_int']], results_int)\n",
    "print('mse train:',mse(y_train, predictions_int_train))\n",
    "predictions_int_test = predict(X_test[['intercept','TV','radio','TV_radio_int']], results_int)\n",
    "print('mse test:',mse(y_test, predictions_int_test))"
   ]
  },
  {
   "cell_type": "code",
   "execution_count": null,
   "id": "e7b9cf06",
   "metadata": {},
   "outputs": [],
   "source": [
    "# Plot residual error for test set\n",
    "\n",
    "ax = subplots(figsize=(8,8))[1]\n",
    "ax.scatter(predictions_int_test, y_test-predictions_int_test)\n",
    "ax.set_xlabel('Fitted value')\n",
    "ax.set_ylabel('Residual')\n",
    "ax.axhline(0, c='k', ls='--');"
   ]
  },
  {
   "cell_type": "markdown",
   "id": "c0d852aa",
   "metadata": {},
   "source": [
    "### One last example: categorical variables"
   ]
  },
  {
   "cell_type": "code",
   "execution_count": null,
   "id": "02b6c345",
   "metadata": {},
   "outputs": [],
   "source": [
    "# Since this particular set doesn't have any categorical variables in it, let's create one artificially\n",
    "# Let's create a variable that uses the TV data but only takes on values \"high\" or \"low\"\n",
    "\n",
    "X_train['TV_cat'] = pd.Series(np.zeros(X_train.shape[0]))\n",
    "X_train.loc[X_train['TV']<=30, 'TV_cat'] = \"low\"\n",
    "X_train.loc[X_train['TV']>30, 'TV_cat'] = \"high\""
   ]
  },
  {
   "cell_type": "code",
   "execution_count": null,
   "id": "9e3c82bb",
   "metadata": {},
   "outputs": [],
   "source": [
    "# Quick spot check...\n",
    "\n",
    "X_train.head()"
   ]
  },
  {
   "cell_type": "code",
   "execution_count": null,
   "id": "997a82f2",
   "metadata": {},
   "outputs": [],
   "source": [
    "# Build a linear model with a categorical variable\n",
    "\n",
    "model_cat = sm.OLS(y_train, X_train[['intercept','radio', 'TV_cat']])\n",
    "results_cat = model_cat.fit()\n",
    "summarize(results_cat)"
   ]
  },
  {
   "cell_type": "code",
   "execution_count": null,
   "id": "0bdbfd85",
   "metadata": {},
   "outputs": [],
   "source": [
    "# We'll need to create a numeric variable to represent each category\n",
    "\n",
    "X_train['TV_low'] = pd.Series(np.zeros(X_train.shape[0]))\n",
    "X_train.loc[X_train['TV']<=30, 'TV_low'] = 1\n",
    "X_train.loc[X_train['TV']>30, 'TV_low'] = 0\n",
    "\n",
    "X_train['TV_high'] = pd.Series(np.zeros(X_train.shape[0]))\n",
    "X_train.loc[X_train['TV']<=30, 'TV_high'] = 0\n",
    "X_train.loc[X_train['TV']>30, 'TV_high'] = 1"
   ]
  },
  {
   "cell_type": "code",
   "execution_count": null,
   "id": "cd5726df",
   "metadata": {},
   "outputs": [],
   "source": [
    "X_train.head()"
   ]
  },
  {
   "cell_type": "code",
   "execution_count": null,
   "id": "8f945ca9",
   "metadata": {},
   "outputs": [],
   "source": [
    "# Look at correlations \n",
    "\n",
    "X_train[['radio', 'TV_high', 'TV_low']].corr()"
   ]
  },
  {
   "cell_type": "code",
   "execution_count": null,
   "id": "513babc9",
   "metadata": {},
   "outputs": [],
   "source": [
    "# Fit the model with just the 'TV_low' indicator\n",
    "\n",
    "model_cat = sm.OLS(y_train, X_train[['intercept','radio','TV_low']])\n",
    "results_cat = model_cat.fit()\n",
    "summarize(results_cat)"
   ]
  },
  {
   "cell_type": "code",
   "execution_count": null,
   "id": "e46ef7d9",
   "metadata": {},
   "outputs": [],
   "source": [
    "# R^2\n",
    "\n",
    "print('R^2 on train:',results_cat.rsquared)"
   ]
  },
  {
   "cell_type": "code",
   "execution_count": null,
   "id": "d03577ff",
   "metadata": {},
   "outputs": [],
   "source": [
    "# MSE for model w/ categorical variable\n",
    "\n",
    "predictions_cat_train = predict(X_train[['intercept','radio','TV_low']], results_cat)\n",
    "print('mse train:',mse(y_train, predictions_cat_train))"
   ]
  },
  {
   "cell_type": "code",
   "execution_count": null,
   "id": "f7b2ad33",
   "metadata": {},
   "outputs": [],
   "source": [
    "# What if we used the 'TV_high' indicator instead of 'TV_low'?\n",
    "\n",
    "model_cat2 = sm.OLS(y_train, X_train[['intercept','radio', 'TV_high']])\n",
    "results_cat2 = model_cat2.fit()\n",
    "summarize(results_cat2)"
   ]
  },
  {
   "cell_type": "code",
   "execution_count": null,
   "id": "c8a8e1e0",
   "metadata": {},
   "outputs": [],
   "source": [
    "# For comparison, these were the estimates for the 'TV_low' model\n",
    "\n",
    "summarize(results_cat)"
   ]
  },
  {
   "cell_type": "code",
   "execution_count": null,
   "id": "e4680c7b",
   "metadata": {},
   "outputs": [],
   "source": [
    "# R^2\n",
    "\n",
    "print('train R^2 for TV_high model:',results_cat2.rsquared)\n",
    "print('train R^2 for TV_low model:',results_cat.rsquared)"
   ]
  },
  {
   "cell_type": "code",
   "execution_count": null,
   "id": "57cf353e",
   "metadata": {},
   "outputs": [],
   "source": [
    "# MSE on train\n",
    "\n",
    "predictions_cat2_train = predict(X_train[['intercept','radio','TV_high']], results_cat2)\n",
    "print('mse train for TV_high:',mse(y_train, predictions_cat2_train))\n",
    "print('mse train for TV_low:',mse(y_train, predictions_cat_train))"
   ]
  },
  {
   "cell_type": "markdown",
   "id": "985944e1",
   "metadata": {},
   "source": [
    "## Challenge: Multiple linear regression on auto data"
   ]
  },
  {
   "cell_type": "code",
   "execution_count": null,
   "id": "d6ebd487",
   "metadata": {},
   "outputs": [],
   "source": [
    "# Load and review the data\n",
    "\n",
    "#Auto = pd.read_csv('../../data/Auto.csv')\n",
    "Auto = pd.read_csv('Auto.csv')\n",
    "Auto.dtypes"
   ]
  },
  {
   "cell_type": "code",
   "execution_count": null,
   "id": "12af2678",
   "metadata": {},
   "outputs": [],
   "source": [
    "# Replace the missing horsepowers\n",
    "\n",
    "Auto.replace({'horsepower':'?'},'104',inplace=True)\n",
    "Auto['horsepower'] = pd.to_numeric(Auto['horsepower'])"
   ]
  },
  {
   "cell_type": "code",
   "execution_count": null,
   "id": "1898acfb",
   "metadata": {},
   "outputs": [],
   "source": [
    "# Identify some predictors and the target\n",
    "\n",
    "X = Auto[['horsepower', 'weight', 'year']]\n",
    "y = Auto['mpg']"
   ]
  },
  {
   "cell_type": "code",
   "execution_count": null,
   "id": "627b235a",
   "metadata": {},
   "outputs": [],
   "source": [
    "# Create a column for the intercept in the features matrix\n",
    "\n",
    "X['intercept'] = np.ones(Auto.shape[0])\n",
    "X"
   ]
  },
  {
   "cell_type": "code",
   "execution_count": null,
   "id": "c5639623",
   "metadata": {},
   "outputs": [],
   "source": [
    "# Create training and testing sets\n",
    "\n",
    "X_train, X_test, y_train, y_test = train_test_split(X,\n",
    "                                                    y,\n",
    "                                                    random_state=314,\n",
    "                                                    test_size=0.25,\n",
    "                                                    shuffle=True) \n",
    "Train = pd.merge_ordered(X_train,y_train,left_on=X_train.index,right_on=y_train.index).drop(columns=['key_0'])\n",
    "Test = pd.merge_ordered(X_test,y_test,left_on=X_test.index,right_on=y_test.index).drop(columns=['key_0'])"
   ]
  },
  {
   "cell_type": "code",
   "execution_count": null,
   "id": "144499e9",
   "metadata": {},
   "outputs": [],
   "source": [
    "# Build a linear model where horsepower predicts mpg\n",
    "# Take note of the p-values\n",
    "\n",
    "model = sm.OLS(y_train, X_train)\n",
    "results = model.fit()\n",
    "summarize(results)"
   ]
  },
  {
   "cell_type": "code",
   "execution_count": null,
   "id": "ba738f09",
   "metadata": {},
   "outputs": [],
   "source": [
    "# We can also assess the overall fit of the model\n",
    "\n",
    "print('R^2 on train:',results.rsquared)"
   ]
  },
  {
   "cell_type": "code",
   "execution_count": null,
   "id": "fde2f846",
   "metadata": {},
   "outputs": [],
   "source": [
    "# Let's compute the MSE on the training and test sets\n",
    "\n",
    "predictions_train = predict(X_train, results)\n",
    "print('mse train:',mse(y_train, predictions_train))\n",
    "predictions_test = predict(X_test, results)\n",
    "print('mse test:',mse(y_test, predictions_test))"
   ]
  },
  {
   "cell_type": "code",
   "execution_count": null,
   "id": "50c764f5",
   "metadata": {},
   "outputs": [],
   "source": []
  }
 ],
 "metadata": {
  "kernelspec": {
   "display_name": "Python 3 (ipykernel)",
   "language": "python",
   "name": "python3"
  },
  "language_info": {
   "codemirror_mode": {
    "name": "ipython",
    "version": 3
   },
   "file_extension": ".py",
   "mimetype": "text/x-python",
   "name": "python",
   "nbconvert_exporter": "python",
   "pygments_lexer": "ipython3",
   "version": "3.11.5"
  }
 },
 "nbformat": 4,
 "nbformat_minor": 5
}
