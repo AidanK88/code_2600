{
 "cells": [
  {
   "cell_type": "code",
   "execution_count": null,
   "metadata": {},
   "outputs": [],
   "source": [
    "import numpy as np\n",
    "import matplotlib.pyplot as plt"
   ]
  },
  {
   "cell_type": "markdown",
   "metadata": {},
   "source": [
    "### Linear Transformations"
   ]
  },
  {
   "cell_type": "code",
   "execution_count": null,
   "metadata": {},
   "outputs": [],
   "source": [
    "### MAIN FUNCTION ###\n",
    "def transform(ascii_art, matrix):\n",
    "    # Convert ASCII art to coordinates\n",
    "    original_coords = _ascii_art_to_coords(ascii_art)\n",
    "\n",
    "    # Apply linear transformation\n",
    "    transformed_coords = _apply_linear_transform(original_coords, matrix)\n",
    "\n",
    "    # Plot the original and transformed ASCII art\n",
    "    _plot_coords(original_coords, transformed_coords)"
   ]
  },
  {
   "cell_type": "code",
   "execution_count": null,
   "metadata": {},
   "outputs": [],
   "source": [
    "### HELPER FUNCTIONS ###\n",
    "def _ascii_art_to_coords(ascii_art):\n",
    "    coords = []\n",
    "    for y, line in enumerate(ascii_art):\n",
    "        for x, char in enumerate(line):\n",
    "            if char != ' ':\n",
    "                coords.append((x, y, char))\n",
    "    return coords\n",
    "\n",
    "def _apply_linear_transform(coords, matrix):\n",
    "    new_coords = []\n",
    "    for x, y, char in coords:\n",
    "        vec = np.array([x, y])\n",
    "        new_pos = matrix @ vec\n",
    "        new_coords.append((new_pos[0], new_pos[1], char))  # keep as float for plotting\n",
    "    return new_coords\n",
    "\n",
    "def _plot_coords(original, transformed):\n",
    "    ox = [x for x, y, c in original]\n",
    "    oy = [y for x, y, c in original]\n",
    "    tx = [x for x, y, c in transformed]\n",
    "    ty = [y for x, y, c in transformed]\n",
    "\n",
    "    plt.figure(figsize=(8, 6))\n",
    "    plt.scatter(ox, [-y for y in oy], c='blue', label='Original', marker='s')\n",
    "    plt.scatter(tx, [-y for y in ty], c='red', label='Transformed', marker='x')\n",
    "    plt.legend()\n",
    "    plt.title(\"Applying a Linear Transformation to ASCII Art\")\n",
    "    plt.gca().set_aspect('equal')\n",
    "    plt.grid(True)\n",
    "    plt.show()\n",
    "\n",
    "    "
   ]
  },
  {
   "cell_type": "code",
   "execution_count": null,
   "metadata": {},
   "outputs": [],
   "source": [
    "# Example 1\n",
    "ascii_art = [\n",
    "    \"     *     \",\n",
    "    \"    ***    \",\n",
    "    \"   *****   \",\n",
    "    \"  *******  \",\n",
    "    \" ********* \",\n",
    "    \"    ***    \",\n",
    "    \"    ***    \"\n",
    "]\n",
    "\n",
    "matrix1 = np.array([\n",
    "    [ 1.2, 0.5],\n",
    "    [-0.3, 1.1]\n",
    "])\n",
    "\n",
    "transform(ascii_art, matrix1)"
   ]
  },
  {
   "cell_type": "code",
   "execution_count": null,
   "metadata": {},
   "outputs": [],
   "source": [
    "# Example 2\n",
    "ascii_art = [\n",
    "    \"     *     \",\n",
    "    \"    ***    \",\n",
    "    \"   *****   \",\n",
    "    \"  *******  \",\n",
    "    \" ********* \",\n",
    "    \"    ***    \",\n",
    "    \"    ***    \"\n",
    "]\n",
    "\n",
    "matrix2 = np.array([\n",
    "    [1, 1.1],\n",
    "    [0, 1]\n",
    "])\n",
    "\n",
    "transform(ascii_art, matrix2)"
   ]
  },
  {
   "cell_type": "markdown",
   "metadata": {},
   "source": [
    "### Connecting to Eigenvalues and Eigenvectors"
   ]
  },
  {
   "cell_type": "code",
   "execution_count": null,
   "metadata": {},
   "outputs": [],
   "source": [
    "def eigen(matrix):\n",
    "    # Compute eigenvalues and eigenvectors\n",
    "    eigenvalues, eigenvectors = np.linalg.eig(matrix)\n",
    "\n",
    "    # Output results\n",
    "    print(\"Matrix:\")\n",
    "    print(matrix)\n",
    "\n",
    "    # Display eigenvectors alongside their eigenvalues\n",
    "    print(\"\\nEigenvalue-Eigenvector pairs:\")\n",
    "    for i in range(len(eigenvalues)):\n",
    "        print(f\"λ = {eigenvalues[i]:.4f}, v = any multiple of {np.round(eigenvectors[:, i],4)}\")"
   ]
  },
  {
   "cell_type": "code",
   "execution_count": null,
   "metadata": {},
   "outputs": [],
   "source": [
    "eigen(matrix2)"
   ]
  },
  {
   "cell_type": "code",
   "execution_count": null,
   "metadata": {},
   "outputs": [],
   "source": [
    "eigen(matrix1)"
   ]
  },
  {
   "cell_type": "markdown",
   "metadata": {},
   "source": [
    "### Bonus Materials"
   ]
  },
  {
   "cell_type": "code",
   "execution_count": null,
   "metadata": {},
   "outputs": [],
   "source": [
    "# Sample Linear Transformations you can do\n",
    "\n",
    "# Rotation (counterclockwise)\n",
    "theta_deg = 45\n",
    "theta = math.radians(theta_deg)\n",
    "rotation_matrix = np.array([\n",
    "    [math.cos(theta), -math.sin(theta)],\n",
    "    [math.sin(theta),  math.cos(theta)]\n",
    "])\n",
    "\n",
    "# Scaling\n",
    "scaling_matrix = np.array([\n",
    "    [2, 0],\n",
    "    [0, 1]\n",
    "])\n",
    "\n",
    "# Shearing (x-direction)\n",
    "shear_matrix = np.array([\n",
    "    [1, 0.5],\n",
    "    [0, 1]\n",
    "])"
   ]
  }
 ],
 "metadata": {
  "kernelspec": {
   "display_name": "base",
   "language": "python",
   "name": "python3"
  },
  "language_info": {
   "codemirror_mode": {
    "name": "ipython",
    "version": 3
   },
   "file_extension": ".py",
   "mimetype": "text/x-python",
   "name": "python",
   "nbconvert_exporter": "python",
   "pygments_lexer": "ipython3",
   "version": "3.11.5"
  }
 },
 "nbformat": 4,
 "nbformat_minor": 2
}
