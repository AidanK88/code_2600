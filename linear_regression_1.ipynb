{
 "cells": [
  {
   "cell_type": "markdown",
   "id": "d0a93dea",
   "metadata": {},
   "source": [
    "# Linear Regression: Demo"
   ]
  },
  {
   "cell_type": "code",
   "execution_count": null,
   "id": "c649aa19",
   "metadata": {},
   "outputs": [],
   "source": [
    "# Start with importing the usual stuff\n",
    "\n",
    "import numpy as np\n",
    "import pandas as pd\n",
    "import matplotlib.pyplot as plt\n",
    "import scipy.stats as stats\n",
    "import math\n",
    "from matplotlib.pyplot import subplots\n",
    "import statsmodels.api as sm\n",
    "from sklearn.model_selection import train_test_split \n",
    "\n",
    "pd.options.mode.copy_on_write = True"
   ]
  },
  {
   "cell_type": "code",
   "execution_count": null,
   "id": "5690ce37",
   "metadata": {},
   "outputs": [],
   "source": [
    "# This contains some functions written by the authors of the textbook (ISLP)\n",
    "# we'll be adapting most of the this demo from their material\n",
    "\n",
    "from ISLP import load_data\n",
    "from ISLP.models import (ModelSpec as MS,\n",
    "                         summarize,\n",
    "                         poly)"
   ]
  },
  {
   "cell_type": "markdown",
   "id": "182764f9",
   "metadata": {},
   "source": [
    "## Set up data"
   ]
  },
  {
   "cell_type": "code",
   "execution_count": null,
   "id": "1a36d821",
   "metadata": {},
   "outputs": [],
   "source": [
    "# First we'll read in our data and look quickly at its contents\n",
    "\n",
    "#Auto = pd.read_csv('../../data/Auto.csv')\n",
    "Auto = pd.read_csv('Auto.csv')\n",
    "Auto"
   ]
  },
  {
   "cell_type": "code",
   "execution_count": null,
   "id": "2f5f2e7b",
   "metadata": {},
   "outputs": [],
   "source": [
    "# Sometimes it's helpful to look at the list of columns\n",
    "Auto.columns"
   ]
  },
  {
   "cell_type": "code",
   "execution_count": null,
   "id": "fa8e4245",
   "metadata": {},
   "outputs": [],
   "source": [
    "# What is the data type of each column?\n",
    "Auto.dtypes"
   ]
  },
  {
   "cell_type": "markdown",
   "id": "b5cd01d1",
   "metadata": {},
   "source": [
    "## Review the target variable"
   ]
  },
  {
   "cell_type": "code",
   "execution_count": null,
   "id": "51a249e6",
   "metadata": {},
   "outputs": [],
   "source": [
    "# Since we want to predict mpg, let's start by listing all its possible values\n",
    "np.unique(Auto['mpg'])"
   ]
  },
  {
   "cell_type": "code",
   "execution_count": null,
   "id": "e943c1c8",
   "metadata": {},
   "outputs": [],
   "source": [
    "# Are there any missing values in there?\n",
    "# isnull() returns 1s for each NaN, then we can add them up to get the total count of missing values\n",
    "\n",
    "Auto['mpg'].isnull().sum()\n",
    "\n",
    "# CAUTION: This isn't foolproof! It won't find missing values that have been coded as 0, -1, 9999, etc."
   ]
  },
  {
   "cell_type": "code",
   "execution_count": null,
   "id": "5da2558f",
   "metadata": {},
   "outputs": [],
   "source": [
    "# Let's create a function that allows us to display a histogram for a variable\n",
    "# Credit to Hastie and Tibshirani--see their notes for more details on this\n",
    "\n",
    "def histogram(var):\n",
    "    n, bins, patches = plt.hist(x=var, bins='auto', color='#0504aa',\n",
    "                            alpha=0.7, rwidth=0.85)\n",
    "    plt.grid(axis='y', alpha=0.75)\n",
    "    plt.xlabel('Value')\n",
    "    plt.ylabel('Frequency')\n",
    "    plt.title('Frequency of ' + var.name)"
   ]
  },
  {
   "cell_type": "code",
   "execution_count": null,
   "id": "4fee27d4",
   "metadata": {},
   "outputs": [],
   "source": [
    "histogram(Auto['mpg'])"
   ]
  },
  {
   "cell_type": "markdown",
   "id": "18be7ac0",
   "metadata": {},
   "source": [
    "## Feature Engineering"
   ]
  },
  {
   "cell_type": "markdown",
   "id": "c3f7e4cd",
   "metadata": {},
   "source": [
    "### Missing Values"
   ]
  },
  {
   "cell_type": "code",
   "execution_count": null,
   "id": "dfbcb030",
   "metadata": {},
   "outputs": [],
   "source": [
    "np.unique(Auto['horsepower'])"
   ]
  },
  {
   "cell_type": "code",
   "execution_count": null,
   "id": "713ba6d5",
   "metadata": {},
   "outputs": [],
   "source": [
    "Auto[(Auto['horsepower']=='?')]"
   ]
  },
  {
   "cell_type": "code",
   "execution_count": null,
   "id": "745e2ca9",
   "metadata": {},
   "outputs": [],
   "source": [
    "# Should we remove those records?\n",
    "# Auto = Auto[(Auto['horsepower']!='?')]"
   ]
  },
  {
   "cell_type": "code",
   "execution_count": null,
   "id": "b1dac136",
   "metadata": {},
   "outputs": [],
   "source": [
    "# Or should we impute the mean value?\n",
    "\n",
    "# Ok let's calculate the mean value first\n",
    "int(pd.to_numeric(Auto['horsepower'], errors='coerce').mean())"
   ]
  },
  {
   "cell_type": "code",
   "execution_count": null,
   "id": "928f3a5a",
   "metadata": {},
   "outputs": [],
   "source": [
    "# Now we'll impute the mean into the missing cells\n",
    "Auto.replace({'horsepower':'?'},'104',inplace=True)\n",
    "\n",
    "np.unique(Auto['horsepower'])"
   ]
  },
  {
   "cell_type": "code",
   "execution_count": null,
   "id": "4216f984",
   "metadata": {},
   "outputs": [],
   "source": [
    "# Convert the horsepower column to numeric\n",
    "\n",
    "Auto['horsepower'] = pd.to_numeric(Auto['horsepower'])"
   ]
  },
  {
   "cell_type": "markdown",
   "id": "4b525936",
   "metadata": {},
   "source": [
    "## Set up structure for modeling"
   ]
  },
  {
   "cell_type": "code",
   "execution_count": null,
   "id": "0c4916de",
   "metadata": {},
   "outputs": [],
   "source": [
    "# Identify some predictors and the target\n",
    "\n",
    "X = Auto[['horsepower', 'weight', 'year']]\n",
    "y = Auto['mpg']"
   ]
  },
  {
   "cell_type": "code",
   "execution_count": null,
   "id": "914dd466",
   "metadata": {},
   "outputs": [],
   "source": [
    "# Create a column for the intercept in the features matrix\n",
    "\n",
    "X['intercept'] = np.ones(Auto.shape[0])\n",
    "X"
   ]
  },
  {
   "cell_type": "code",
   "execution_count": null,
   "id": "fabfed92",
   "metadata": {},
   "outputs": [],
   "source": [
    "# Create training and testing sets\n",
    "\n",
    "X_train, X_test, y_train, y_test = train_test_split(X,\n",
    "                                                    y,\n",
    "                                                    random_state=314,\n",
    "                                                    test_size=0.25,\n",
    "                                                    shuffle=True) \n",
    "Train = pd.merge_ordered(X_train,y_train,left_on=X_train.index,right_on=y_train.index).drop(columns=['key_0'])\n",
    "Test = pd.merge_ordered(X_test,y_test,left_on=X_test.index,right_on=y_test.index).drop(columns=['key_0'])"
   ]
  },
  {
   "cell_type": "code",
   "execution_count": null,
   "id": "21c5de7c",
   "metadata": {},
   "outputs": [],
   "source": [
    "# Spot check the train and test sets\n",
    "\n",
    "print(X_train.head()) \n",
    "print(X_train.shape)\n",
    "print()\n",
    "print(y_train.head()) \n",
    "print(y_train.shape)\n",
    "print() \n",
    "print(X_test.head()) \n",
    "print(X_test.shape)\n",
    "print() \n",
    "print(y_test.head())\n",
    "print(y_test.shape)\n",
    "print() \n",
    "print(Train.head())\n",
    "print(Train.shape)\n",
    "print() \n",
    "print(Test.head())\n",
    "print(Test.shape)"
   ]
  },
  {
   "cell_type": "code",
   "execution_count": null,
   "id": "461035e1",
   "metadata": {},
   "outputs": [],
   "source": [
    "# Look at possible values and spot check for missing entries\n",
    "\n",
    "print('MPG')\n",
    "print(np.unique(Train['mpg']))\n",
    "print('Horsepower')\n",
    "print(np.unique(Train['horsepower']))\n",
    "print('Weight')\n",
    "print(np.unique(Train['weight']))\n",
    "print('Year')\n",
    "print(np.unique(Train['year']))"
   ]
  },
  {
   "cell_type": "markdown",
   "id": "09c66433",
   "metadata": {},
   "source": [
    "## Simple Linear Regression, Example 1"
   ]
  },
  {
   "cell_type": "code",
   "execution_count": null,
   "id": "d33f7d27",
   "metadata": {},
   "outputs": [],
   "source": [
    "# Build a linear model where horsepower predicts mpg\n",
    "# Take note of the p-values\n",
    "\n",
    "model_hp = sm.OLS(y_train, X_train[['intercept','horsepower']])\n",
    "results_hp = model_hp.fit()\n",
    "summarize(results_hp)"
   ]
  },
  {
   "cell_type": "code",
   "execution_count": null,
   "id": "1bb82320",
   "metadata": {},
   "outputs": [],
   "source": [
    "# We can also assess the overall fit of the model\n",
    "\n",
    "print('R^2 on train:',results_hp.rsquared)"
   ]
  },
  {
   "cell_type": "code",
   "execution_count": null,
   "id": "b41a973e",
   "metadata": {},
   "outputs": [],
   "source": [
    "# Create helper functions for computing the mean squared error\n",
    "\n",
    "def predict(X, model):\n",
    "    # the built-in get_prediction tool returns an array, so we need to convert to a dataframe\n",
    "    predictions_df = pd.DataFrame(model.get_prediction(X).predicted, columns=['y_hat'], index=X.index)\n",
    "    return predictions_df['y_hat']\n",
    "\n",
    "def mse(y, y_hat):\n",
    "    # calculate the residual error for each individual record\n",
    "    resid = y - y_hat\n",
    "    # square the residual (hence \"squared error\")\n",
    "    sq_resid = resid**2\n",
    "    # calculate the sum of squared errors\n",
    "    SSR = sum(sq_resid)\n",
    "    # divide by the number of records to get the mean squared error\n",
    "    MSE = SSR / y.shape[0]\n",
    "    return MSE"
   ]
  },
  {
   "cell_type": "code",
   "execution_count": null,
   "id": "7c41f89d",
   "metadata": {},
   "outputs": [],
   "source": [
    "# Let's compute the MSE on the training and test sets\n",
    "\n",
    "predictions_hp_train = predict(X_train[['intercept', 'horsepower']], results_hp)\n",
    "print('mse train:',mse(y_train, predictions_hp_train))\n",
    "predictions_hp_test = predict(X_test[['intercept', 'horsepower']], results_hp)\n",
    "print('mse test:',mse(y_test, predictions_hp_test))"
   ]
  },
  {
   "cell_type": "code",
   "execution_count": null,
   "id": "711afd04",
   "metadata": {},
   "outputs": [],
   "source": [
    "# Define a function to draw a line given coefficients [credit to Hastie & Tibshirani]\n",
    "\n",
    "def abline(ax, b, m, *args, **kwargs):\n",
    "    \"Add a line with slope m and intercept b to ax\"\n",
    "    xlim = ax.get_xlim()\n",
    "    ylim = [m * xlim[0] + b, m * xlim[1] + b]\n",
    "    ax.plot(xlim, ylim, *args, **kwargs)"
   ]
  },
  {
   "cell_type": "code",
   "execution_count": null,
   "id": "85413c26",
   "metadata": {},
   "outputs": [],
   "source": [
    "# Plot hp vs mpg on training set\n",
    "\n",
    "ax = Train.plot.scatter('horsepower', 'mpg')\n",
    "ax.set_title(\"Plot of hp vs mpg (Train)\")\n",
    "abline(ax,\n",
    "       results_hp.params[0],\n",
    "       results_hp.params[1],\n",
    "       'r--',\n",
    "       linewidth=3)"
   ]
  },
  {
   "cell_type": "code",
   "execution_count": null,
   "id": "e0d01f3a",
   "metadata": {},
   "outputs": [],
   "source": [
    "# Plot hp vs mpg on test set\n",
    "\n",
    "ax = Test.plot.scatter('horsepower', 'mpg')\n",
    "ax.set_title(\"Plot of hp vs mpg (Test)\")\n",
    "abline(ax,\n",
    "       results_hp.params[0],\n",
    "       results_hp.params[1],\n",
    "       'g--',\n",
    "       linewidth=3)"
   ]
  },
  {
   "cell_type": "code",
   "execution_count": null,
   "id": "a24286bb",
   "metadata": {},
   "outputs": [],
   "source": [
    "# Plot residual error for train set\n",
    "\n",
    "ax = subplots(figsize=(8,8))[1]\n",
    "ax.scatter(predictions_hp_train, y_train-predictions_hp_train)\n",
    "ax.set_xlabel('Fitted value')\n",
    "ax.set_ylabel('Residual')\n",
    "ax.axhline(0, c='k', ls='--');"
   ]
  },
  {
   "cell_type": "code",
   "execution_count": null,
   "id": "e60a6a19",
   "metadata": {},
   "outputs": [],
   "source": [
    "# Plot residual error for test set\n",
    "\n",
    "ax = subplots(figsize=(8,8))[1]\n",
    "ax.scatter(predictions_hp_test, y_test-predictions_hp_test)\n",
    "ax.set_xlabel('Fitted value')\n",
    "ax.set_ylabel('Residual')\n",
    "ax.axhline(0, c='k', ls='--');"
   ]
  },
  {
   "cell_type": "markdown",
   "id": "9c7cd2d0",
   "metadata": {},
   "source": [
    "## Simple Linear Regression, Example 2"
   ]
  },
  {
   "cell_type": "code",
   "execution_count": null,
   "id": "04debb48",
   "metadata": {},
   "outputs": [],
   "source": [
    "# Build a linear model where weight predicts mpg\n",
    "\n",
    "model_weight = sm.OLS(y_train, X_train[['intercept','weight']])\n",
    "results_weight = model_weight.fit()\n",
    "summarize(results_weight)"
   ]
  },
  {
   "cell_type": "code",
   "execution_count": null,
   "id": "4399b1a1",
   "metadata": {},
   "outputs": [],
   "source": [
    "# R^2 for weight model\n",
    "print('R^2 on train:',results_weight.rsquared)"
   ]
  },
  {
   "cell_type": "code",
   "execution_count": null,
   "id": "6c3d574b",
   "metadata": {},
   "outputs": [],
   "source": [
    "# MSE for weight model\n",
    "\n",
    "predictions_weight_train = predict(X_train[['intercept', 'weight']], results_weight)\n",
    "print('mse train:',mse(y_train, predictions_weight_train))\n",
    "predictions_weight_test = predict(X_test[['intercept', 'weight']], results_weight)\n",
    "print('mse test:',mse(y_test, predictions_weight_test))"
   ]
  },
  {
   "cell_type": "code",
   "execution_count": null,
   "id": "32862328",
   "metadata": {},
   "outputs": [],
   "source": [
    "# Plot weight vs mpg on training set\n",
    "\n",
    "ax = Train.plot.scatter('weight', 'mpg')\n",
    "ax.set_title(\"Plot of weight vs mpg (Train)\")\n",
    "abline(ax,\n",
    "       results_weight.params[0],\n",
    "       results_weight.params[1],\n",
    "       'r--',\n",
    "       linewidth=3)"
   ]
  },
  {
   "cell_type": "code",
   "execution_count": null,
   "id": "05368e9c",
   "metadata": {},
   "outputs": [],
   "source": [
    "# Plot weight vs mpg on test set\n",
    "\n",
    "ax = Test.plot.scatter('weight', 'mpg')\n",
    "ax.set_title(\"Plot of weight vs mpg (Test)\")\n",
    "abline(ax,\n",
    "       results_weight.params[0],\n",
    "       results_weight.params[1],\n",
    "       'g--',\n",
    "       linewidth=3)"
   ]
  },
  {
   "cell_type": "code",
   "execution_count": null,
   "id": "0e9f71b4",
   "metadata": {},
   "outputs": [],
   "source": [
    "# Plot residual error for training set\n",
    "\n",
    "ax = subplots(figsize=(8,8))[1]\n",
    "ax.scatter(predictions_weight_train, y_train-predictions_weight_train)\n",
    "ax.set_xlabel('Fitted value')\n",
    "ax.set_ylabel('Residual')\n",
    "ax.axhline(0, c='k', ls='--');"
   ]
  },
  {
   "cell_type": "code",
   "execution_count": null,
   "id": "bbfd01de",
   "metadata": {},
   "outputs": [],
   "source": [
    "# Plot residual error for test set\n",
    "\n",
    "ax = subplots(figsize=(8,8))[1]\n",
    "ax.scatter(predictions_weight_test, y_test-predictions_weight_test)\n",
    "ax.set_xlabel('Fitted value')\n",
    "ax.set_ylabel('Residual')\n",
    "ax.axhline(0, c='k', ls='--');"
   ]
  },
  {
   "cell_type": "markdown",
   "id": "fadc29cd",
   "metadata": {},
   "source": [
    "## Simple Linear Regression, Example 3"
   ]
  },
  {
   "cell_type": "code",
   "execution_count": null,
   "id": "7bac4f89",
   "metadata": {},
   "outputs": [],
   "source": [
    "# Build a linear model where year predicts mpg\n",
    "\n"
   ]
  },
  {
   "cell_type": "code",
   "execution_count": null,
   "id": "2177b1d9",
   "metadata": {},
   "outputs": [],
   "source": [
    "# Compute the R^2 for year model (on train)\n",
    "\n"
   ]
  },
  {
   "cell_type": "code",
   "execution_count": null,
   "id": "cfab590c",
   "metadata": {},
   "outputs": [],
   "source": [
    "# Compute the MSE for year model (on train and then on test)\n",
    "\n"
   ]
  },
  {
   "cell_type": "code",
   "execution_count": null,
   "id": "59a3aafa",
   "metadata": {},
   "outputs": [],
   "source": [
    "# Plot year vs mpg (on train)\n",
    "\n"
   ]
  },
  {
   "cell_type": "markdown",
   "id": "f039de92",
   "metadata": {},
   "source": [
    "## Categorical Predictors"
   ]
  },
  {
   "cell_type": "code",
   "execution_count": null,
   "id": "2aa2a350",
   "metadata": {},
   "outputs": [],
   "source": [
    "# One potentially useful variable is the name of the vehicle\n",
    "\n",
    "Auto['name']"
   ]
  },
  {
   "cell_type": "code",
   "execution_count": null,
   "id": "01105c05",
   "metadata": {},
   "outputs": [],
   "source": [
    "# Let's grab just the first word in each vehicle name, which appears to be the \"make\"\n",
    "\n",
    "Auto['make'] = Auto['name'].str.split(' ').str[0]"
   ]
  },
  {
   "cell_type": "code",
   "execution_count": null,
   "id": "9e5bf03a",
   "metadata": {},
   "outputs": [],
   "source": [
    "# Take a look at the possible values\n",
    "\n",
    "Auto['make'].value_counts()"
   ]
  },
  {
   "cell_type": "code",
   "execution_count": null,
   "id": "b2ef4ce3",
   "metadata": {},
   "outputs": [],
   "source": [
    "# What cleaning should be done?\n",
    "\n",
    "\n",
    "\n",
    "\n",
    "\n",
    "\n"
   ]
  },
  {
   "cell_type": "code",
   "execution_count": null,
   "id": "acedfed0",
   "metadata": {},
   "outputs": [],
   "source": [
    "# If we want to include this variable in our model, we might want to do one hot encoding\n",
    "\n",
    "one_hot = pd.get_dummies(Auto, columns = ['make']) \n",
    "one_hot"
   ]
  },
  {
   "cell_type": "markdown",
   "id": "43514fe2",
   "metadata": {},
   "source": [
    "## Simple (or Multiple?) Linear Regression, Example 4"
   ]
  },
  {
   "cell_type": "code",
   "execution_count": null,
   "id": "7dcb497b",
   "metadata": {},
   "outputs": [],
   "source": [
    "# Build a linear model where 'make_toyota', 'make_ford', and 'make_pontiac' predict mpg\n",
    "\n"
   ]
  },
  {
   "cell_type": "code",
   "execution_count": null,
   "id": "8be1be34",
   "metadata": {},
   "outputs": [],
   "source": [
    "# Compute the R^2 for this model (on train)\n",
    "\n"
   ]
  },
  {
   "cell_type": "code",
   "execution_count": null,
   "id": "511ae56b",
   "metadata": {},
   "outputs": [],
   "source": [
    "# Compute the MSE for this model (on train and then on test)\n",
    "\n"
   ]
  }
 ],
 "metadata": {
  "kernelspec": {
   "display_name": "Python 3 (ipykernel)",
   "language": "python",
   "name": "python3"
  },
  "language_info": {
   "codemirror_mode": {
    "name": "ipython",
    "version": 3
   },
   "file_extension": ".py",
   "mimetype": "text/x-python",
   "name": "python",
   "nbconvert_exporter": "python",
   "pygments_lexer": "ipython3",
   "version": "3.11.5"
  }
 },
 "nbformat": 4,
 "nbformat_minor": 5
}
