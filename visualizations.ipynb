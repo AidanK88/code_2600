{
 "cells": [
  {
   "cell_type": "code",
   "execution_count": 1,
   "id": "93267fc2",
   "metadata": {},
   "outputs": [],
   "source": [
    "from matplotlib import pyplot as plt\n",
    "import numpy as np"
   ]
  },
  {
   "cell_type": "markdown",
   "id": "b9ba7879",
   "metadata": {},
   "source": [
    "# Pie Chart"
   ]
  },
  {
   "cell_type": "code",
   "execution_count": 2,
   "id": "663e5a1f",
   "metadata": {},
   "outputs": [],
   "source": [
    "types = [\"pumpkin\", \"pecan\", \"apple\", \"sweet potato\", \n",
    "         \"chocolate\", \"cherry\", \"blueberry\", \"Boston cream\", \n",
    "         \"key lime\", \"banana cream\", \"strawberry\", \"peanut butter\",\n",
    "         \"coconut cream\", \"lemon meringue\", \"peach\", \"rhubarb\",\n",
    "         \"other\"]\n",
    "percents = [23, 14, 12, 8, 6, 5, 5, 3, 3, 3, 3, 3, 3, 3, 2, 2, 3]"
   ]
  },
  {
   "cell_type": "code",
   "execution_count": 3,
   "id": "a07df953",
   "metadata": {
    "scrolled": true
   },
   "outputs": [
    {
     "data": {
      "image/png": "[encoded data removed]",
      "text/plain": [
       "<Figure size 640x480 with 1 Axes>"
      ]
     },
     "metadata": {},
     "output_type": "display_data"
    }
   ],
   "source": [
    "# Draw a simple pie chart\n",
    "plt.pie(percents)\n",
    "plt.show()"
   ]
  },
  {
   "cell_type": "code",
   "execution_count": null,
   "id": "d819ffde",
   "metadata": {},
   "outputs": [],
   "source": [
    "# Define a range of colors\n",
    "colors = plt.get_cmap('Greens')(np.linspace(0.7, 0.2, len(percents)))\n",
    "\n",
    "# Create a figure and axes\n",
    "fig, ax = plt.subplots()\n",
    "\n",
    "# Create the pie chart\n",
    "ax.pie(percents, colors=colors, radius=3, center=(4, 4),\n",
    "       wedgeprops={\"linewidth\": 1, \"edgecolor\": \"white\"}, frame=True)\n",
    "\n",
    "# Include a legend\n",
    "ax.legend(types, loc=\"right\")\n",
    "\n",
    "# Adjust the axes\n",
    "ax.set(xlim=(0, 12), xticks=np.arange(1, 8),\n",
    "       ylim=(0, 9), yticks=np.arange(1, 8))\n",
    "ax.tick_params(left = False, labelleft = False, \n",
    "               bottom = False, labelbottom = False)\n",
    "ax.set(title=\"Pie of Pies\")\n",
    "\n",
    "plt.show()"
   ]
  },
  {
   "cell_type": "markdown",
   "id": "f26706c2",
   "metadata": {},
   "source": [
    "# Bar Chart"
   ]
  },
  {
   "cell_type": "code",
   "execution_count": null,
   "id": "d511dadb",
   "metadata": {},
   "outputs": [],
   "source": [
    "movies = [\"Oppenheimer\", \"Poor Things\", \"Killers of the Flower Moon\", \"Barbie\", \"Maestro\"]\n",
    "num_oscar_noms = [13, 11, 10, 8, 7]"
   ]
  },
  {
   "cell_type": "code",
   "execution_count": null,
   "id": "d8dafc8b",
   "metadata": {},
   "outputs": [],
   "source": [
    "# Draw a simple bar chart\n",
    "plt.bar(range(len(movies)), num_oscar_noms)\n",
    "\n",
    "plt.title(\"2024 Academy Awards\")\n",
    "plt.ylabel(\"Number of Nominations\")\n",
    "\n",
    "plt.xticks(range(len(movies)), movies)\n",
    "\n",
    "plt.show()"
   ]
  },
  {
   "cell_type": "code",
   "execution_count": null,
   "id": "a4bdc62a",
   "metadata": {},
   "outputs": [],
   "source": [
    "# Draw a horizontal bar chart\n",
    "plt.barh(range(len(movies)), num_oscar_noms)\n",
    "\n",
    "plt.title(\"2024 Academy Awards\")\n",
    "plt.xlabel(\"Number of Nominations\")\n",
    "\n",
    "plt.yticks(range(len(movies)), movies)\n",
    "\n",
    "plt.show()"
   ]
  },
  {
   "cell_type": "code",
   "execution_count": null,
   "id": "4e93003b",
   "metadata": {},
   "outputs": [],
   "source": [
    "# Create a figure and axes\n",
    "fig, ax = plt.subplots()\n",
    "\n",
    "# Create the bars\n",
    "bar = ax.bar(movies, num_oscar_noms, width=.8)\n",
    "\n",
    "# Adjust the axes and labels\n",
    "ax.set(title='2024 Academy Awards', \n",
    "       ylabel='Number of Nominations', ylim=(0, 14))\n",
    "ax.set_xticklabels(movies, rotation=90)\n",
    "ax.bar_label(bar, num_oscar_noms)\n",
    "\n",
    "plt.show()"
   ]
  },
  {
   "cell_type": "code",
   "execution_count": null,
   "id": "0540b80f",
   "metadata": {},
   "outputs": [],
   "source": [
    "oscars = {\n",
    "    'Snubs': np.array([6, 7, 10, 7, 7]),\n",
    "    'Wins': np.array([7, 4, 0, 1, 0]),\n",
    "}\n",
    "\n",
    "fig, ax = plt.subplots()\n",
    "bottom = np.zeros(5)\n",
    "\n",
    "for category, count in oscars.items():\n",
    "    p = ax.bar(movies, count, width=.8, label=category, bottom=bottom)\n",
    "    bottom += count\n",
    "\n",
    "    ax.bar_label(p, label_type='center')\n",
    "    \n",
    "ax.set_xticklabels(movies, rotation=90)\n",
    "ax.set_title('Oscar Nominations and Wins')\n",
    "ax.legend()\n",
    "\n",
    "plt.show()"
   ]
  },
  {
   "cell_type": "markdown",
   "id": "8258b158",
   "metadata": {},
   "source": [
    "## Caution with bar charts"
   ]
  },
  {
   "cell_type": "code",
   "execution_count": null,
   "id": "492784c2",
   "metadata": {},
   "outputs": [],
   "source": [
    "mentions = [500, 505]\n",
    "years = [2023, 2024]"
   ]
  },
  {
   "cell_type": "code",
   "execution_count": null,
   "id": "522b62b6",
   "metadata": {},
   "outputs": [],
   "source": [
    "plt.bar(years, mentions, 0.8)\n",
    "plt.xticks(years)\n",
    "plt.ylabel(\"Number of times I heard someone say 'data science'\")\n",
    "\n",
    "plt.axis([2022.5, 2024.5, 499, 506])\n",
    "plt.title(\"Look at the 'huge' increase!\")\n",
    "plt.show()"
   ]
  },
  {
   "cell_type": "code",
   "execution_count": null,
   "id": "45057ebb",
   "metadata": {},
   "outputs": [],
   "source": [
    "plt.bar(years, mentions, 0.8)\n",
    "plt.xticks(years)\n",
    "plt.ylabel(\"Number of times I heard someone say 'data science'\")\n",
    "\n",
    "plt.axis([2022.5, 2024.5, 0, 550])\n",
    "plt.title(\"Not so huge anymore\")\n",
    "plt.show()"
   ]
  },
  {
   "cell_type": "markdown",
   "id": "0293cb9f",
   "metadata": {},
   "source": [
    "# Line Chart"
   ]
  },
  {
   "cell_type": "code",
   "execution_count": null,
   "id": "b888f81c",
   "metadata": {},
   "outputs": [],
   "source": [
    "years = [1950, 1960, 1970, 1980, 1990, 2000, 2010, 2020]\n",
    "gdp = [300.2, 543.3, 1075.9, 2862.5, 5979.6, 10289.7, 14958.3, 21322.9]"
   ]
  },
  {
   "cell_type": "code",
   "execution_count": null,
   "id": "f7f62f97",
   "metadata": {},
   "outputs": [],
   "source": [
    "# Draw a simple line chart\n",
    "plt.plot(years, gdp, color='green', marker='o', linestyle='solid')\n",
    "plt.title(\"Nominal GDP\")\n",
    "plt.ylabel(\"Billions of Dollars\")\n",
    "\n",
    "plt.show()"
   ]
  },
  {
   "cell_type": "markdown",
   "id": "892168f9",
   "metadata": {},
   "source": [
    "## Multiple lines"
   ]
  },
  {
   "cell_type": "code",
   "execution_count": null,
   "id": "f34cf919",
   "metadata": {},
   "outputs": [],
   "source": [
    "variance = [1, 2, 4, 8, 16, 32, 64, 128, 256]\n",
    "bias_squared = [256, 128, 64, 32, 16, 8, 4, 2, 1]\n",
    "total_error = [x+y for x,y in zip(variance, bias_squared)]\n",
    "xs = [i for i, _ in enumerate(variance)]"
   ]
  },
  {
   "cell_type": "code",
   "execution_count": null,
   "id": "581ad40d",
   "metadata": {},
   "outputs": [],
   "source": [
    "plt.plot(xs, variance,     'b-',  label='variance')\n",
    "plt.plot(xs, bias_squared, 'r-.', label='bias^2')\n",
    "plt.plot(xs, total_error,  'g:',  label='total error')\n",
    "\n",
    "plt.legend(loc=9)\n",
    "plt.xlabel(\"model complexity\")\n",
    "plt.xticks([])\n",
    "plt.title(\"Bias-Variance Tradeoff\")\n",
    "plt.show()"
   ]
  },
  {
   "cell_type": "markdown",
   "id": "e950b22e",
   "metadata": {},
   "source": [
    "# Boxplots"
   ]
  },
  {
   "cell_type": "markdown",
   "id": "0e0694d7",
   "metadata": {},
   "source": [
    "## Create data"
   ]
  },
  {
   "cell_type": "code",
   "execution_count": null,
   "id": "54ab96be",
   "metadata": {},
   "outputs": [],
   "source": [
    "# Always specify a seed so that the data can be regenerated\n",
    "np.random.seed(314)\n",
    "# We will create 3 columns with 100 observations in each.\n",
    "fake_data = np.random.normal((3,5,6), (1,0.5,2), (100,3))"
   ]
  },
  {
   "cell_type": "code",
   "execution_count": null,
   "id": "80b6b6ba",
   "metadata": {},
   "outputs": [],
   "source": [
    "fig, ax = plt.subplots()\n",
    "ax.boxplot(fake_data,\n",
    "           positions=[2,4,6],\n",
    "           widths=1.5,\n",
    "           patch_artist=True,\n",
    "           showmeans=False,\n",
    "           showfliers=False,\n",
    "           medianprops={\"color\": \"white\", \"linewidth\": 0.5},\n",
    "           boxprops={\"facecolor\": \"blue\", \"edgecolor\": \"black\", \"linewidth\": 0.5},\n",
    "           whiskerprops={\"color\": \"black\", \"linewidth\": 1.5}, \n",
    "           capprops={\"color\": \"green\", \"linewidth\": 1.5})\n",
    "\n",
    "ax.set(xlim=(0, 8), xticks=np.arange(1,8),\n",
    "       ylim=(0, 12), yticks=np.arange(1,12))\n",
    "ax.set_xticklabels([\"\",\"Col1\",\"\",\"Col2\",\"\",\"Col3\",\"\"])\n",
    "ax.set_title(\"Boxplots of Normal Distributions\")\n",
    "\n",
    "plt.show()"
   ]
  },
  {
   "cell_type": "markdown",
   "id": "1cdc0c7e",
   "metadata": {},
   "source": [
    "# Histograms"
   ]
  },
  {
   "cell_type": "code",
   "execution_count": null,
   "id": "037ec0de",
   "metadata": {},
   "outputs": [],
   "source": [
    "# Extract the first column from the array we created earlier\n",
    "column1 = fake_data[:,0]"
   ]
  },
  {
   "cell_type": "code",
   "execution_count": null,
   "id": "0868c806",
   "metadata": {},
   "outputs": [],
   "source": [
    "histogram = plt.hist(column1, bins=6)\n",
    "plt.title(\"Column 1 Distribution\")\n",
    "plt.show()\n"
   ]
  },
  {
   "cell_type": "code",
   "execution_count": null,
   "id": "0308c1cd",
   "metadata": {
    "scrolled": true
   },
   "outputs": [],
   "source": [
    "print(\"counts:\",histogram[0])\n",
    "print(\"bins:\",histogram[1])"
   ]
  },
  {
   "cell_type": "markdown",
   "id": "bb9f1a2e",
   "metadata": {},
   "source": [
    "# Scatterplots"
   ]
  },
  {
   "cell_type": "code",
   "execution_count": null,
   "id": "13511aa5",
   "metadata": {},
   "outputs": [],
   "source": [
    "# Some data: social media engagement?\n",
    "friends = [ 70,  65,  72,  63,  71,  64,  60,  64,  67]\n",
    "minutes = [175, 170, 205, 120, 220, 130, 105, 145, 190]\n",
    "\n",
    "# Most basic scatter plot\n",
    "plt.scatter(friends, minutes)\n",
    "plt.show()"
   ]
  },
  {
   "cell_type": "code",
   "execution_count": null,
   "id": "09d12613",
   "metadata": {},
   "outputs": [],
   "source": [
    "# Let's add a bunch of labels\n",
    "labels = ['A', 'B', 'C', 'D', 'E', 'F', 'G', 'H', 'I']\n",
    "\n",
    "plt.scatter(friends, minutes)\n",
    "\n",
    "for label, friend_count, minute_count in zip(labels, friends, minutes):\n",
    "    plt.annotate(label,\n",
    "                 xy=(friend_count, minute_count), \n",
    "                 xytext=(5,-5),\n",
    "                 textcoords='offset points')\n",
    "plt.title(\"Social Media Engagement\")\n",
    "plt.xlabel(\"Number of Friends\")\n",
    "plt.ylabel(\"Daily Minutes on Site\")\n",
    "plt.show()"
   ]
  },
  {
   "cell_type": "code",
   "execution_count": null,
   "id": "801c5961",
   "metadata": {},
   "outputs": [],
   "source": [
    "test_1_grades = [ 99, 90, 85, 97, 80]\n",
    "test_2_grades = [100, 85, 60, 90, 70]\n",
    "\n",
    "# The axes that will be given automatically are fit to each array \n",
    "plt.scatter(test_1_grades, test_2_grades)\n",
    "plt.title(\"Axes Aren't Comparable\")\n",
    "plt.xlabel(\"Test 1 Grade\")\n",
    "plt.ylabel(\"Test 2 Grade\")\n",
    "plt.show()"
   ]
  },
  {
   "cell_type": "code",
   "execution_count": null,
   "id": "1a65447c",
   "metadata": {},
   "outputs": [],
   "source": [
    "# Equally spaced axes can avoid misleading conclusions about spread\n",
    "plt.scatter(test_1_grades, test_2_grades)\n",
    "plt.title(\"Axes Are Comparable\")\n",
    "plt.xlabel(\"Test 1 Grade\")\n",
    "plt.ylabel(\"Test 2 Grade\")\n",
    "plt.axis(\"equal\")\n",
    "plt.show()"
   ]
  },
  {
   "cell_type": "markdown",
   "id": "785552a4",
   "metadata": {},
   "source": [
    "# Contour Maps"
   ]
  },
  {
   "cell_type": "code",
   "execution_count": null,
   "id": "41e4cee0",
   "metadata": {},
   "outputs": [],
   "source": [
    "# Create a 3-dimensional grid of data\n",
    "delta = 0.025\n",
    "x = np.arange(-3.0, 3.0, delta)\n",
    "y = np.arange(-2.0, 2.0, delta)\n",
    "X, Y = np.meshgrid(x, y)\n",
    "Z1 = np.exp(-X**2 - Y**2)\n",
    "Z2 = np.exp(-(X - 1)**2 - (Y - 1)**2)\n",
    "Z = (Z1 - Z2) * 2"
   ]
  },
  {
   "cell_type": "code",
   "execution_count": null,
   "id": "d2622d5d",
   "metadata": {},
   "outputs": [],
   "source": [
    "# It might be helpful to first understand what X, Y, Z are\n",
    "X, Y, Z"
   ]
  },
  {
   "cell_type": "code",
   "execution_count": null,
   "id": "d262129d",
   "metadata": {},
   "outputs": [],
   "source": [
    "import matplotlib.cm as cm\n",
    "\n",
    "fig, ax = plt.subplots()\n",
    "CS = ax.contour(X, Y, Z)\n",
    "ax.clabel(CS, inline=True, fontsize=10)\n",
    "ax.set_title('Simplest default with labels')"
   ]
  },
  {
   "cell_type": "code",
   "execution_count": null,
   "id": "1b929f4a",
   "metadata": {},
   "outputs": [],
   "source": []
  },
  {
   "cell_type": "code",
   "execution_count": null,
   "id": "f50fa06c",
   "metadata": {},
   "outputs": [],
   "source": []
  }
 ],
 "metadata": {
  "kernelspec": {
   "display_name": "Python 3 (ipykernel)",
   "language": "python",
   "name": "python3"
  },
  "language_info": {
   "codemirror_mode": {
    "name": "ipython",
    "version": 3
   },
   "file_extension": ".py",
   "mimetype": "text/x-python",
   "name": "python",
   "nbconvert_exporter": "python",
   "pygments_lexer": "ipython3",
   "version": "3.11.5"
  }
 },
 "nbformat": 4,
 "nbformat_minor": 5
}
