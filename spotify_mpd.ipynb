{
 "cells": [
  {
   "cell_type": "code",
   "execution_count": null,
   "id": "4d9883b5",
   "metadata": {},
   "outputs": [],
   "source": [
    "import json\n",
    "import pandas as pd\n",
    "from matplotlib import pyplot as plt\n",
    "from matplotlib.pyplot import subplots \n",
    "\n",
    "# Assuming 'data.json' contains the problematic data\n",
    "mpd_slice = 'C:/Users/aidik/Downloads/spotify/data/mpd.slice.0-999.json'\n",
    "\n",
    "with open(mpd_slice) as f:\n",
    "    data = json.load(f)\n",
    "\n",
    "df = pd.json_normalize(data['playlists'])\n",
    "df"
   ]
  }
 ],
 "metadata": {
  "language_info": {
   "name": "python"
  }
 },
 "nbformat": 4,
 "nbformat_minor": 5
}
