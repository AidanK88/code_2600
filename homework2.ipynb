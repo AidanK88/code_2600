{
 "cells": [
  {
   "cell_type": "markdown",
   "id": "e38a5671",
   "metadata": {},
   "source": [
    "1."
   ]
  },
  {
   "cell_type": "code",
   "execution_count": null,
   "id": "1fd734cc",
   "metadata": {},
   "outputs": [],
   "source": [
    "mail = [6, 7, 6, 7, 7, 6, 11, 4, 8, 6, 6, 12, 2, 8, 12, 5, 7, 8, 6, 11, 6, 8, 9, 11, 5, 9, 8, 9, 8, 12]"
   ]
  },
  {
   "cell_type": "markdown",
   "id": "11a6aaad",
   "metadata": {},
   "source": [
    "2."
   ]
  },
  {
   "cell_type": "code",
   "execution_count": null,
   "id": "9251a80e",
   "metadata": {
    "vscode": {
     "languageId": "plaintext"
    }
   },
   "outputs": [],
   "source": [
    "from ISLP import load_data\n",
    "Bikeshare = load_data('Bikeshare')\n",
    "Bikeshare.columns"
   ]
  },
  {
   "cell_type": "markdown",
   "id": "e39b5f7b",
   "metadata": {},
   "source": [
    "3."
   ]
  },
  {
   "cell_type": "markdown",
   "id": "bf248e14",
   "metadata": {},
   "source": []
  }
 ],
 "metadata": {
  "language_info": {
   "name": "python"
  }
 },
 "nbformat": 4,
 "nbformat_minor": 5
}
