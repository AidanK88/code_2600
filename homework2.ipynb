{
 "cells": [
  {
   "cell_type": "markdown",
   "id": "e38a5671",
   "metadata": {},
   "source": [
    "1."
   ]
  },
  {
   "cell_type": "code",
   "execution_count": 502,
   "id": "1fd734cc",
   "metadata": {},
   "outputs": [
    {
     "data": {
      "image/png": "[encoded data removed]",
      "text/plain": [
       "<Figure size 640x480 with 1 Axes>"
      ]
     },
     "metadata": {},
     "output_type": "display_data"
    }
   ],
   "source": [
    "import pandas as pd\n",
    "from matplotlib import pyplot as plt\n",
    "from matplotlib.pyplot import subplots \n",
    "\n",
    "mail = [6, 7, 6, 7, 7, 6, 11, 4, 8, 6, 6, 12, 2, 8, 12, 5, 7, 8, 6, 11, 6, 8, 9, 11, 5, 9, 8, 9, 8, 12]\n",
    "# mail = pd.DataFrame({'items': [6, 7, 6, 7, 7, 6, 11, 4, 8, 6, 6, 12, 2, 8, 12, 5, 7, 8, 6, 11, 6, 8, 9, 11, 5, 9, 8, 9, 8, 12]})\n",
    "\n",
    "plt.hist(mail)\n",
    "plt.title(\"Number of Items delivered in September\")\n",
    "plt.xlabel(\"Items Delivered\")\n",
    "plt.ylabel(\"Frequency\")\n",
    "plt.show()"
   ]
  },
  {
   "cell_type": "code",
   "execution_count": 503,
   "id": "6525e71d",
   "metadata": {},
   "outputs": [],
   "source": [
    "# a) bin the data into 3 groups with a bin depth of 10 (equal depth)\n",
    "mail_depth = pd.qcut(mail, 3)"
   ]
  },
  {
   "cell_type": "code",
   "execution_count": 504,
   "id": "493c14df",
   "metadata": {},
   "outputs": [],
   "source": [
    "#b) do the same thing using bin medians into 3 bins of equal width (since the min value is 2 and the max value is 12 the bin width should be 10/3 = 3.33 starting at 2)\n",
    "mail_width = pd.cut(mail, 3)"
   ]
  },
  {
   "cell_type": "markdown",
   "id": "403f2e78",
   "metadata": {},
   "source": [
    "(c) The equal width binning works better on this data because..."
   ]
  },
  {
   "cell_type": "code",
   "execution_count": 505,
   "id": "7dd7a473",
   "metadata": {},
   "outputs": [
    {
     "name": "stdout",
     "output_type": "stream",
     "text": [
      "0.3\n"
     ]
    }
   ],
   "source": [
    "# d) min-max normalization = (value - min)/ (max - min)\n",
    "max = 12\n",
    "min = 2\n",
    "value = 5\n",
    "normalized_5 = (value - min)/ (max - min)\n",
    "print(normalized_5)"
   ]
  },
  {
   "cell_type": "markdown",
   "id": "2f3c98cd",
   "metadata": {},
   "source": [
    "The min-max transformed value for 5 is 0.3"
   ]
  },
  {
   "cell_type": "code",
   "execution_count": 506,
   "id": "242e42c9",
   "metadata": {},
   "outputs": [
    {
     "name": "stdout",
     "output_type": "stream",
     "text": [
      "-1.0804145489043901\n"
     ]
    }
   ],
   "source": [
    "# e) z-score normalization = (value - mean) / SD\n",
    "mail_series = pd.Series(mail)\n",
    "mean = mail_series.mean()\n",
    "sd = mail_series.std()\n",
    "value = 5\n",
    "normalized_5 = (value - mean)/ sd\n",
    "print(normalized_5)"
   ]
  },
  {
   "cell_type": "markdown",
   "id": "20387aea",
   "metadata": {},
   "source": [
    "The z-score transformed value of 5 is -1.08"
   ]
  },
  {
   "cell_type": "markdown",
   "id": "a2b79134",
   "metadata": {},
   "source": [
    "(f) The ___ normalization method is better because ..."
   ]
  },
  {
   "cell_type": "markdown",
   "id": "11a6aaad",
   "metadata": {},
   "source": [
    "2."
   ]
  },
  {
   "cell_type": "code",
   "execution_count": 507,
   "id": "9251a80e",
   "metadata": {},
   "outputs": [
    {
     "data": {
      "text/plain": [
       "Index(['season', 'mnth', 'day', 'hr', 'holiday', 'weekday', 'workingday',\n",
       "       'weathersit', 'temp', 'atemp', 'hum', 'windspeed', 'casual',\n",
       "       'registered', 'bikers'],\n",
       "      dtype='object')"
      ]
     },
     "execution_count": 507,
     "metadata": {},
     "output_type": "execute_result"
    }
   ],
   "source": [
    "from ISLP import load_data\n",
    "from ISLP.models import summarize\n",
    "import numpy as np\n",
    "import statsmodels.api as sm\n",
    "from sklearn.model_selection import train_test_split\n",
    "Bikeshare = load_data('Bikeshare')\n",
    "Bikeshare.columns"
   ]
  },
  {
   "cell_type": "code",
   "execution_count": 508,
   "id": "650d1e1d",
   "metadata": {},
   "outputs": [
    {
     "data": {
      "text/html": [
       "<div>\n",
       "<style scoped>\n",
       "    .dataframe tbody tr th:only-of-type {\n",
       "        vertical-align: middle;\n",
       "    }\n",
       "\n",
       "    .dataframe tbody tr th {\n",
       "        vertical-align: top;\n",
       "    }\n",
       "\n",
       "    .dataframe thead th {\n",
       "        text-align: right;\n",
       "    }\n",
       "</style>\n",
       "<table border=\"1\" class=\"dataframe\">\n",
       "  <thead>\n",
       "    <tr style=\"text-align: right;\">\n",
       "      <th></th>\n",
       "      <th>temp</th>\n",
       "    </tr>\n",
       "  </thead>\n",
       "  <tbody>\n",
       "    <tr>\n",
       "      <th>0</th>\n",
       "      <td>0.24</td>\n",
       "    </tr>\n",
       "    <tr>\n",
       "      <th>1</th>\n",
       "      <td>0.22</td>\n",
       "    </tr>\n",
       "    <tr>\n",
       "      <th>2</th>\n",
       "      <td>0.22</td>\n",
       "    </tr>\n",
       "    <tr>\n",
       "      <th>3</th>\n",
       "      <td>0.24</td>\n",
       "    </tr>\n",
       "    <tr>\n",
       "      <th>4</th>\n",
       "      <td>0.24</td>\n",
       "    </tr>\n",
       "    <tr>\n",
       "      <th>...</th>\n",
       "      <td>...</td>\n",
       "    </tr>\n",
       "    <tr>\n",
       "      <th>8640</th>\n",
       "      <td>0.42</td>\n",
       "    </tr>\n",
       "    <tr>\n",
       "      <th>8641</th>\n",
       "      <td>0.42</td>\n",
       "    </tr>\n",
       "    <tr>\n",
       "      <th>8642</th>\n",
       "      <td>0.40</td>\n",
       "    </tr>\n",
       "    <tr>\n",
       "      <th>8643</th>\n",
       "      <td>0.38</td>\n",
       "    </tr>\n",
       "    <tr>\n",
       "      <th>8644</th>\n",
       "      <td>0.36</td>\n",
       "    </tr>\n",
       "  </tbody>\n",
       "</table>\n",
       "<p>8645 rows × 1 columns</p>\n",
       "</div>"
      ],
      "text/plain": [
       "      temp\n",
       "0     0.24\n",
       "1     0.22\n",
       "2     0.22\n",
       "3     0.24\n",
       "4     0.24\n",
       "...    ...\n",
       "8640  0.42\n",
       "8641  0.42\n",
       "8642  0.40\n",
       "8643  0.38\n",
       "8644  0.36\n",
       "\n",
       "[8645 rows x 1 columns]"
      ]
     },
     "execution_count": 508,
     "metadata": {},
     "output_type": "execute_result"
    }
   ],
   "source": [
    "# Identify some predictors and the target\n",
    "\n",
    "X = Bikeshare[['temp']]\n",
    "y = Bikeshare['bikers']\n",
    "X"
   ]
  },
  {
   "cell_type": "code",
   "execution_count": 509,
   "id": "5fb8fa41",
   "metadata": {},
   "outputs": [
    {
     "name": "stderr",
     "output_type": "stream",
     "text": [
      "C:\\Users\\aidik\\AppData\\Local\\Temp\\ipykernel_2804\\3587340619.py:1: SettingWithCopyWarning: \n",
      "A value is trying to be set on a copy of a slice from a DataFrame.\n",
      "Try using .loc[row_indexer,col_indexer] = value instead\n",
      "\n",
      "See the caveats in the documentation: https://pandas.pydata.org/pandas-docs/stable/user_guide/indexing.html#returning-a-view-versus-a-copy\n",
      "  X['intercept'] = np.ones(Bikeshare.shape[0])\n"
     ]
    },
    {
     "data": {
      "text/html": [
       "<div>\n",
       "<style scoped>\n",
       "    .dataframe tbody tr th:only-of-type {\n",
       "        vertical-align: middle;\n",
       "    }\n",
       "\n",
       "    .dataframe tbody tr th {\n",
       "        vertical-align: top;\n",
       "    }\n",
       "\n",
       "    .dataframe thead th {\n",
       "        text-align: right;\n",
       "    }\n",
       "</style>\n",
       "<table border=\"1\" class=\"dataframe\">\n",
       "  <thead>\n",
       "    <tr style=\"text-align: right;\">\n",
       "      <th></th>\n",
       "      <th>temp</th>\n",
       "      <th>intercept</th>\n",
       "    </tr>\n",
       "  </thead>\n",
       "  <tbody>\n",
       "    <tr>\n",
       "      <th>0</th>\n",
       "      <td>0.24</td>\n",
       "      <td>1.0</td>\n",
       "    </tr>\n",
       "    <tr>\n",
       "      <th>1</th>\n",
       "      <td>0.22</td>\n",
       "      <td>1.0</td>\n",
       "    </tr>\n",
       "    <tr>\n",
       "      <th>2</th>\n",
       "      <td>0.22</td>\n",
       "      <td>1.0</td>\n",
       "    </tr>\n",
       "    <tr>\n",
       "      <th>3</th>\n",
       "      <td>0.24</td>\n",
       "      <td>1.0</td>\n",
       "    </tr>\n",
       "    <tr>\n",
       "      <th>4</th>\n",
       "      <td>0.24</td>\n",
       "      <td>1.0</td>\n",
       "    </tr>\n",
       "    <tr>\n",
       "      <th>...</th>\n",
       "      <td>...</td>\n",
       "      <td>...</td>\n",
       "    </tr>\n",
       "    <tr>\n",
       "      <th>8640</th>\n",
       "      <td>0.42</td>\n",
       "      <td>1.0</td>\n",
       "    </tr>\n",
       "    <tr>\n",
       "      <th>8641</th>\n",
       "      <td>0.42</td>\n",
       "      <td>1.0</td>\n",
       "    </tr>\n",
       "    <tr>\n",
       "      <th>8642</th>\n",
       "      <td>0.40</td>\n",
       "      <td>1.0</td>\n",
       "    </tr>\n",
       "    <tr>\n",
       "      <th>8643</th>\n",
       "      <td>0.38</td>\n",
       "      <td>1.0</td>\n",
       "    </tr>\n",
       "    <tr>\n",
       "      <th>8644</th>\n",
       "      <td>0.36</td>\n",
       "      <td>1.0</td>\n",
       "    </tr>\n",
       "  </tbody>\n",
       "</table>\n",
       "<p>8645 rows × 2 columns</p>\n",
       "</div>"
      ],
      "text/plain": [
       "      temp  intercept\n",
       "0     0.24        1.0\n",
       "1     0.22        1.0\n",
       "2     0.22        1.0\n",
       "3     0.24        1.0\n",
       "4     0.24        1.0\n",
       "...    ...        ...\n",
       "8640  0.42        1.0\n",
       "8641  0.42        1.0\n",
       "8642  0.40        1.0\n",
       "8643  0.38        1.0\n",
       "8644  0.36        1.0\n",
       "\n",
       "[8645 rows x 2 columns]"
      ]
     },
     "execution_count": 509,
     "metadata": {},
     "output_type": "execute_result"
    }
   ],
   "source": [
    "X['intercept'] = np.ones(Bikeshare.shape[0])\n",
    "X"
   ]
  },
  {
   "cell_type": "code",
   "execution_count": 510,
   "id": "c5e6c9b3",
   "metadata": {},
   "outputs": [
    {
     "data": {
      "text/html": [
       "<div>\n",
       "<style scoped>\n",
       "    .dataframe tbody tr th:only-of-type {\n",
       "        vertical-align: middle;\n",
       "    }\n",
       "\n",
       "    .dataframe tbody tr th {\n",
       "        vertical-align: top;\n",
       "    }\n",
       "\n",
       "    .dataframe thead th {\n",
       "        text-align: right;\n",
       "    }\n",
       "</style>\n",
       "<table border=\"1\" class=\"dataframe\">\n",
       "  <thead>\n",
       "    <tr style=\"text-align: right;\">\n",
       "      <th></th>\n",
       "      <th>coef</th>\n",
       "      <th>std err</th>\n",
       "      <th>t</th>\n",
       "      <th>P&gt;|t|</th>\n",
       "    </tr>\n",
       "  </thead>\n",
       "  <tbody>\n",
       "    <tr>\n",
       "      <th>intercept</th>\n",
       "      <td>-5.3745</td>\n",
       "      <td>3.423</td>\n",
       "      <td>-1.570</td>\n",
       "      <td>0.116</td>\n",
       "    </tr>\n",
       "    <tr>\n",
       "      <th>temp</th>\n",
       "      <td>305.0060</td>\n",
       "      <td>6.488</td>\n",
       "      <td>47.008</td>\n",
       "      <td>0.000</td>\n",
       "    </tr>\n",
       "  </tbody>\n",
       "</table>\n",
       "</div>"
      ],
      "text/plain": [
       "               coef  std err       t  P>|t|\n",
       "intercept   -5.3745    3.423  -1.570  0.116\n",
       "temp       305.0060    6.488  47.008  0.000"
      ]
     },
     "execution_count": 510,
     "metadata": {},
     "output_type": "execute_result"
    }
   ],
   "source": [
    "# a)\n",
    "model_temp = sm.OLS(y, X[['intercept','temp']])\n",
    "results_temp = model_temp.fit()\n",
    "summarize(results_temp)\n"
   ]
  },
  {
   "cell_type": "markdown",
   "id": "2c708c68",
   "metadata": {},
   "source": [
    "(b) "
   ]
  },
  {
   "cell_type": "code",
   "execution_count": 511,
   "id": "33b171da",
   "metadata": {},
   "outputs": [
    {
     "name": "stdout",
     "output_type": "stream",
     "text": [
      "R^2: 0.20361080146793897\n"
     ]
    }
   ],
   "source": [
    "print('R^2:', results_temp.rsquared)"
   ]
  },
  {
   "cell_type": "markdown",
   "id": "a696a267",
   "metadata": {},
   "source": [
    "(c) An R^2 value of 0.2 indicates a weak relationship between the predictor and response."
   ]
  },
  {
   "cell_type": "markdown",
   "id": "b219e7b7",
   "metadata": {},
   "source": [
    "(d) The relationship between the predictor and the response is positive because the coefficient for the slope, 305, is positive."
   ]
  },
  {
   "cell_type": "markdown",
   "id": "ae847c8a",
   "metadata": {},
   "source": [
    "(e) The model predicts -5.37 or bikers at the minimum temperature."
   ]
  },
  {
   "cell_type": "markdown",
   "id": "e34bb53f",
   "metadata": {},
   "source": [
    "(f) It would be inappropriate to use this model to estimate on this day because it is impossible to have negative bike rentals."
   ]
  },
  {
   "cell_type": "code",
   "execution_count": 512,
   "id": "41a48a0b",
   "metadata": {},
   "outputs": [],
   "source": [
    "def abline(ax, b, m, *args, **kwargs):\n",
    "    \"Add a line with slope m and intercept b to ax\"\n",
    "    xlim = ax.get_xlim()\n",
    "    ylim = [m * xlim[0] + b, m * xlim[1] + b]\n",
    "    ax.plot(xlim, ylim, *args, **kwargs)"
   ]
  },
  {
   "cell_type": "code",
   "execution_count": 513,
   "id": "aa09db73",
   "metadata": {},
   "outputs": [],
   "source": [
    "# Create helper functions for computing the mean squared error\n",
    "\n",
    "def predict(X, model):\n",
    "    # the built-in get_prediction tool returns an array, so we need to convert to a dataframe\n",
    "    predictions_df = pd.DataFrame(model.get_prediction(X).predicted, columns=['y_hat'], index=X.index)\n",
    "    return predictions_df['y_hat']\n",
    "\n",
    "def mse(y, y_hat):\n",
    "    # calculate the residual error for each individual record\n",
    "    resid = y - y_hat\n",
    "    # square the residual (hence \"squared error\")\n",
    "    sq_resid = resid**2\n",
    "    # calculate the sum of squared errors\n",
    "    SSR = sum(sq_resid)\n",
    "    # divide by the number of records to get the mean squared error\n",
    "    MSE = SSR / y.shape[0]\n",
    "    return MSE"
   ]
  },
  {
   "cell_type": "code",
   "execution_count": null,
   "id": "94768859",
   "metadata": {},
   "outputs": [
    {
     "name": "stdout",
     "output_type": "stream",
     "text": [
      "mse train: 14255.203390114018\n"
     ]
    }
   ],
   "source": [
    "# Compute the MSE on the training set\n",
    "\n",
    "predictions_temp = predict(X[['intercept', 'temp']], results_temp)\n",
    "print('mse train:',mse(y, predictions_temp))"
   ]
  },
  {
   "cell_type": "code",
   "execution_count": 515,
   "id": "b2c45c1f",
   "metadata": {},
   "outputs": [
    {
     "data": {
      "image/png": "[encoded data removed]",
      "text/plain": [
       "<Figure size 640x480 with 1 Axes>"
      ]
     },
     "metadata": {},
     "output_type": "display_data"
    }
   ],
   "source": [
    "# g)\n",
    "ax = Bikeshare.plot.scatter('temp', 'bikers')\n",
    "ax.set_xlabel(\"temperature\")\n",
    "ax.set_title(\"Plot of temp vs bikers\")\n",
    "abline(ax, \n",
    "       results_temp.params['intercept'], \n",
    "       results_temp.params['temp'], \n",
    "       'r--', \n",
    "       linewidth=3)"
   ]
  },
  {
   "cell_type": "code",
   "execution_count": 516,
   "id": "aebc1ca5",
   "metadata": {},
   "outputs": [
    {
     "data": {
      "image/png": "[encoded data removed]",
      "text/plain": [
       "<Figure size 800x800 with 1 Axes>"
      ]
     },
     "metadata": {},
     "output_type": "display_data"
    }
   ],
   "source": [
    "# h)\n",
    "\n",
    "ax = subplots(figsize=(8,8))[1]\n",
    "ax.scatter(predictions_temp, y - predictions_temp)\n",
    "ax.set_xlabel('Fitted value')\n",
    "ax.set_ylabel('Residual')\n",
    "ax.axhline(0, c='k', ls='--');"
   ]
  },
  {
   "cell_type": "markdown",
   "id": "e39b5f7b",
   "metadata": {},
   "source": [
    "3."
   ]
  },
  {
   "cell_type": "code",
   "execution_count": 517,
   "id": "2b640449",
   "metadata": {},
   "outputs": [
    {
     "data": {
      "text/html": [
       "<div>\n",
       "<style scoped>\n",
       "    .dataframe tbody tr th:only-of-type {\n",
       "        vertical-align: middle;\n",
       "    }\n",
       "\n",
       "    .dataframe tbody tr th {\n",
       "        vertical-align: top;\n",
       "    }\n",
       "\n",
       "    .dataframe thead th {\n",
       "        text-align: right;\n",
       "    }\n",
       "</style>\n",
       "<table border=\"1\" class=\"dataframe\">\n",
       "  <thead>\n",
       "    <tr style=\"text-align: right;\">\n",
       "      <th></th>\n",
       "      <th>season</th>\n",
       "      <th>day</th>\n",
       "      <th>hr</th>\n",
       "      <th>holiday</th>\n",
       "      <th>weekday</th>\n",
       "      <th>workingday</th>\n",
       "      <th>temp</th>\n",
       "      <th>atemp</th>\n",
       "      <th>hum</th>\n",
       "      <th>windspeed</th>\n",
       "      <th>casual</th>\n",
       "      <th>registered</th>\n",
       "      <th>bikers</th>\n",
       "    </tr>\n",
       "  </thead>\n",
       "  <tbody>\n",
       "    <tr>\n",
       "      <th>season</th>\n",
       "      <td>1.000000</td>\n",
       "      <td>0.825218</td>\n",
       "      <td>-0.012179</td>\n",
       "      <td>-0.001116</td>\n",
       "      <td>-0.013639</td>\n",
       "      <td>0.013763</td>\n",
       "      <td>0.343535</td>\n",
       "      <td>0.351910</td>\n",
       "      <td>0.191793</td>\n",
       "      <td>-0.154735</td>\n",
       "      <td>0.141894</td>\n",
       "      <td>0.220666</td>\n",
       "      <td>0.221719</td>\n",
       "    </tr>\n",
       "    <tr>\n",
       "      <th>day</th>\n",
       "      <td>0.825218</td>\n",
       "      <td>1.000000</td>\n",
       "      <td>-0.011560</td>\n",
       "      <td>0.030972</td>\n",
       "      <td>0.010990</td>\n",
       "      <td>0.003277</td>\n",
       "      <td>0.261316</td>\n",
       "      <td>0.273091</td>\n",
       "      <td>0.189453</td>\n",
       "      <td>-0.154169</td>\n",
       "      <td>0.090982</td>\n",
       "      <td>0.185044</td>\n",
       "      <td>0.177797</td>\n",
       "    </tr>\n",
       "    <tr>\n",
       "      <th>hr</th>\n",
       "      <td>-0.012179</td>\n",
       "      <td>-0.011560</td>\n",
       "      <td>1.000000</td>\n",
       "      <td>-0.000929</td>\n",
       "      <td>-0.005618</td>\n",
       "      <td>0.003792</td>\n",
       "      <td>0.120548</td>\n",
       "      <td>0.116382</td>\n",
       "      <td>-0.251188</td>\n",
       "      <td>0.125153</td>\n",
       "      <td>0.303720</td>\n",
       "      <td>0.390313</td>\n",
       "      <td>0.407486</td>\n",
       "    </tr>\n",
       "    <tr>\n",
       "      <th>holiday</th>\n",
       "      <td>-0.001116</td>\n",
       "      <td>0.030972</td>\n",
       "      <td>-0.000929</td>\n",
       "      <td>1.000000</td>\n",
       "      <td>-0.076324</td>\n",
       "      <td>-0.247934</td>\n",
       "      <td>-0.020059</td>\n",
       "      <td>-0.026915</td>\n",
       "      <td>-0.022895</td>\n",
       "      <td>0.000502</td>\n",
       "      <td>0.052906</td>\n",
       "      <td>-0.046779</td>\n",
       "      <td>-0.022912</td>\n",
       "    </tr>\n",
       "    <tr>\n",
       "      <th>weekday</th>\n",
       "      <td>-0.013639</td>\n",
       "      <td>0.010990</td>\n",
       "      <td>-0.005618</td>\n",
       "      <td>-0.076324</td>\n",
       "      <td>1.000000</td>\n",
       "      <td>0.018572</td>\n",
       "      <td>-0.038969</td>\n",
       "      <td>-0.042439</td>\n",
       "      <td>-0.051307</td>\n",
       "      <td>0.039586</td>\n",
       "      <td>-0.013475</td>\n",
       "      <td>-0.000500</td>\n",
       "      <td>-0.004321</td>\n",
       "    </tr>\n",
       "    <tr>\n",
       "      <th>workingday</th>\n",
       "      <td>0.013763</td>\n",
       "      <td>0.003277</td>\n",
       "      <td>0.003792</td>\n",
       "      <td>-0.247934</td>\n",
       "      <td>0.018572</td>\n",
       "      <td>1.000000</td>\n",
       "      <td>0.053405</td>\n",
       "      <td>0.052551</td>\n",
       "      <td>0.025305</td>\n",
       "      <td>0.010509</td>\n",
       "      <td>-0.324750</td>\n",
       "      <td>0.129540</td>\n",
       "      <td>0.011704</td>\n",
       "    </tr>\n",
       "    <tr>\n",
       "      <th>temp</th>\n",
       "      <td>0.343535</td>\n",
       "      <td>0.261316</td>\n",
       "      <td>0.120548</td>\n",
       "      <td>-0.020059</td>\n",
       "      <td>-0.038969</td>\n",
       "      <td>0.053405</td>\n",
       "      <td>1.000000</td>\n",
       "      <td>0.992022</td>\n",
       "      <td>-0.039525</td>\n",
       "      <td>-0.005989</td>\n",
       "      <td>0.478931</td>\n",
       "      <td>0.381614</td>\n",
       "      <td>0.451233</td>\n",
       "    </tr>\n",
       "    <tr>\n",
       "      <th>atemp</th>\n",
       "      <td>0.351910</td>\n",
       "      <td>0.273091</td>\n",
       "      <td>0.116382</td>\n",
       "      <td>-0.026915</td>\n",
       "      <td>-0.042439</td>\n",
       "      <td>0.052551</td>\n",
       "      <td>0.992022</td>\n",
       "      <td>1.000000</td>\n",
       "      <td>-0.023541</td>\n",
       "      <td>-0.046120</td>\n",
       "      <td>0.473859</td>\n",
       "      <td>0.378275</td>\n",
       "      <td>0.447029</td>\n",
       "    </tr>\n",
       "    <tr>\n",
       "      <th>hum</th>\n",
       "      <td>0.191793</td>\n",
       "      <td>0.189453</td>\n",
       "      <td>-0.251188</td>\n",
       "      <td>-0.022895</td>\n",
       "      <td>-0.051307</td>\n",
       "      <td>0.025305</td>\n",
       "      <td>-0.039525</td>\n",
       "      <td>-0.023541</td>\n",
       "      <td>1.000000</td>\n",
       "      <td>-0.263196</td>\n",
       "      <td>-0.307096</td>\n",
       "      <td>-0.243815</td>\n",
       "      <td>-0.288615</td>\n",
       "    </tr>\n",
       "    <tr>\n",
       "      <th>windspeed</th>\n",
       "      <td>-0.154735</td>\n",
       "      <td>-0.154169</td>\n",
       "      <td>0.125153</td>\n",
       "      <td>0.000502</td>\n",
       "      <td>0.039586</td>\n",
       "      <td>0.010509</td>\n",
       "      <td>-0.005989</td>\n",
       "      <td>-0.046120</td>\n",
       "      <td>-0.263196</td>\n",
       "      <td>1.000000</td>\n",
       "      <td>0.066113</td>\n",
       "      <td>0.080874</td>\n",
       "      <td>0.085356</td>\n",
       "    </tr>\n",
       "    <tr>\n",
       "      <th>casual</th>\n",
       "      <td>0.141894</td>\n",
       "      <td>0.090982</td>\n",
       "      <td>0.303720</td>\n",
       "      <td>0.052906</td>\n",
       "      <td>-0.013475</td>\n",
       "      <td>-0.324750</td>\n",
       "      <td>0.478931</td>\n",
       "      <td>0.473859</td>\n",
       "      <td>-0.307096</td>\n",
       "      <td>0.066113</td>\n",
       "      <td>1.000000</td>\n",
       "      <td>0.518816</td>\n",
       "      <td>0.714742</td>\n",
       "    </tr>\n",
       "    <tr>\n",
       "      <th>registered</th>\n",
       "      <td>0.220666</td>\n",
       "      <td>0.185044</td>\n",
       "      <td>0.390313</td>\n",
       "      <td>-0.046779</td>\n",
       "      <td>-0.000500</td>\n",
       "      <td>0.129540</td>\n",
       "      <td>0.381614</td>\n",
       "      <td>0.378275</td>\n",
       "      <td>-0.243815</td>\n",
       "      <td>0.080874</td>\n",
       "      <td>0.518816</td>\n",
       "      <td>1.000000</td>\n",
       "      <td>0.968717</td>\n",
       "    </tr>\n",
       "    <tr>\n",
       "      <th>bikers</th>\n",
       "      <td>0.221719</td>\n",
       "      <td>0.177797</td>\n",
       "      <td>0.407486</td>\n",
       "      <td>-0.022912</td>\n",
       "      <td>-0.004321</td>\n",
       "      <td>0.011704</td>\n",
       "      <td>0.451233</td>\n",
       "      <td>0.447029</td>\n",
       "      <td>-0.288615</td>\n",
       "      <td>0.085356</td>\n",
       "      <td>0.714742</td>\n",
       "      <td>0.968717</td>\n",
       "      <td>1.000000</td>\n",
       "    </tr>\n",
       "  </tbody>\n",
       "</table>\n",
       "</div>"
      ],
      "text/plain": [
       "              season       day        hr   holiday   weekday  workingday  \\\n",
       "season      1.000000  0.825218 -0.012179 -0.001116 -0.013639    0.013763   \n",
       "day         0.825218  1.000000 -0.011560  0.030972  0.010990    0.003277   \n",
       "hr         -0.012179 -0.011560  1.000000 -0.000929 -0.005618    0.003792   \n",
       "holiday    -0.001116  0.030972 -0.000929  1.000000 -0.076324   -0.247934   \n",
       "weekday    -0.013639  0.010990 -0.005618 -0.076324  1.000000    0.018572   \n",
       "workingday  0.013763  0.003277  0.003792 -0.247934  0.018572    1.000000   \n",
       "temp        0.343535  0.261316  0.120548 -0.020059 -0.038969    0.053405   \n",
       "atemp       0.351910  0.273091  0.116382 -0.026915 -0.042439    0.052551   \n",
       "hum         0.191793  0.189453 -0.251188 -0.022895 -0.051307    0.025305   \n",
       "windspeed  -0.154735 -0.154169  0.125153  0.000502  0.039586    0.010509   \n",
       "casual      0.141894  0.090982  0.303720  0.052906 -0.013475   -0.324750   \n",
       "registered  0.220666  0.185044  0.390313 -0.046779 -0.000500    0.129540   \n",
       "bikers      0.221719  0.177797  0.407486 -0.022912 -0.004321    0.011704   \n",
       "\n",
       "                temp     atemp       hum  windspeed    casual  registered  \\\n",
       "season      0.343535  0.351910  0.191793  -0.154735  0.141894    0.220666   \n",
       "day         0.261316  0.273091  0.189453  -0.154169  0.090982    0.185044   \n",
       "hr          0.120548  0.116382 -0.251188   0.125153  0.303720    0.390313   \n",
       "holiday    -0.020059 -0.026915 -0.022895   0.000502  0.052906   -0.046779   \n",
       "weekday    -0.038969 -0.042439 -0.051307   0.039586 -0.013475   -0.000500   \n",
       "workingday  0.053405  0.052551  0.025305   0.010509 -0.324750    0.129540   \n",
       "temp        1.000000  0.992022 -0.039525  -0.005989  0.478931    0.381614   \n",
       "atemp       0.992022  1.000000 -0.023541  -0.046120  0.473859    0.378275   \n",
       "hum        -0.039525 -0.023541  1.000000  -0.263196 -0.307096   -0.243815   \n",
       "windspeed  -0.005989 -0.046120 -0.263196   1.000000  0.066113    0.080874   \n",
       "casual      0.478931  0.473859 -0.307096   0.066113  1.000000    0.518816   \n",
       "registered  0.381614  0.378275 -0.243815   0.080874  0.518816    1.000000   \n",
       "bikers      0.451233  0.447029 -0.288615   0.085356  0.714742    0.968717   \n",
       "\n",
       "              bikers  \n",
       "season      0.221719  \n",
       "day         0.177797  \n",
       "hr          0.407486  \n",
       "holiday    -0.022912  \n",
       "weekday    -0.004321  \n",
       "workingday  0.011704  \n",
       "temp        0.451233  \n",
       "atemp       0.447029  \n",
       "hum        -0.288615  \n",
       "windspeed   0.085356  \n",
       "casual      0.714742  \n",
       "registered  0.968717  \n",
       "bikers      1.000000  "
      ]
     },
     "execution_count": 517,
     "metadata": {},
     "output_type": "execute_result"
    }
   ],
   "source": [
    "# a)\n",
    "Bikeshare['hr'] = Bikeshare['hr'].astype(int)\n",
    "Bikeshare.corr(numeric_only=True)"
   ]
  },
  {
   "cell_type": "code",
   "execution_count": 518,
   "id": "04aecbb1",
   "metadata": {},
   "outputs": [
    {
     "data": {
      "image/png": "[encoded data removed]",
      "text/plain": [
       "<Figure size 640x480 with 1 Axes>"
      ]
     },
     "metadata": {},
     "output_type": "display_data"
    }
   ],
   "source": [
    "ax = Bikeshare.plot.scatter('hr', 'bikers')\n",
    "ax.set_xlabel('hour')\n",
    "ax.set_title(\"Plot of hour vs bikers\")\n",
    "ax.plot();"
   ]
  },
  {
   "cell_type": "code",
   "execution_count": 519,
   "id": "c3847bd3",
   "metadata": {},
   "outputs": [
    {
     "name": "stderr",
     "output_type": "stream",
     "text": [
      "C:\\Users\\aidik\\AppData\\Local\\Temp\\ipykernel_2804\\3502375368.py:3: SettingWithCopyWarning: \n",
      "A value is trying to be set on a copy of a slice from a DataFrame.\n",
      "Try using .loc[row_indexer,col_indexer] = value instead\n",
      "\n",
      "See the caveats in the documentation: https://pandas.pydata.org/pandas-docs/stable/user_guide/indexing.html#returning-a-view-versus-a-copy\n",
      "  X['hr'] = Bikeshare['hr']\n"
     ]
    },
    {
     "data": {
      "text/html": [
       "<div>\n",
       "<style scoped>\n",
       "    .dataframe tbody tr th:only-of-type {\n",
       "        vertical-align: middle;\n",
       "    }\n",
       "\n",
       "    .dataframe tbody tr th {\n",
       "        vertical-align: top;\n",
       "    }\n",
       "\n",
       "    .dataframe thead th {\n",
       "        text-align: right;\n",
       "    }\n",
       "</style>\n",
       "<table border=\"1\" class=\"dataframe\">\n",
       "  <thead>\n",
       "    <tr style=\"text-align: right;\">\n",
       "      <th></th>\n",
       "      <th>temp</th>\n",
       "      <th>intercept</th>\n",
       "      <th>hr</th>\n",
       "    </tr>\n",
       "  </thead>\n",
       "  <tbody>\n",
       "    <tr>\n",
       "      <th>0</th>\n",
       "      <td>0.24</td>\n",
       "      <td>1.0</td>\n",
       "      <td>0</td>\n",
       "    </tr>\n",
       "    <tr>\n",
       "      <th>1</th>\n",
       "      <td>0.22</td>\n",
       "      <td>1.0</td>\n",
       "      <td>1</td>\n",
       "    </tr>\n",
       "    <tr>\n",
       "      <th>2</th>\n",
       "      <td>0.22</td>\n",
       "      <td>1.0</td>\n",
       "      <td>2</td>\n",
       "    </tr>\n",
       "    <tr>\n",
       "      <th>3</th>\n",
       "      <td>0.24</td>\n",
       "      <td>1.0</td>\n",
       "      <td>3</td>\n",
       "    </tr>\n",
       "    <tr>\n",
       "      <th>4</th>\n",
       "      <td>0.24</td>\n",
       "      <td>1.0</td>\n",
       "      <td>4</td>\n",
       "    </tr>\n",
       "    <tr>\n",
       "      <th>...</th>\n",
       "      <td>...</td>\n",
       "      <td>...</td>\n",
       "      <td>...</td>\n",
       "    </tr>\n",
       "    <tr>\n",
       "      <th>8640</th>\n",
       "      <td>0.42</td>\n",
       "      <td>1.0</td>\n",
       "      <td>19</td>\n",
       "    </tr>\n",
       "    <tr>\n",
       "      <th>8641</th>\n",
       "      <td>0.42</td>\n",
       "      <td>1.0</td>\n",
       "      <td>20</td>\n",
       "    </tr>\n",
       "    <tr>\n",
       "      <th>8642</th>\n",
       "      <td>0.40</td>\n",
       "      <td>1.0</td>\n",
       "      <td>21</td>\n",
       "    </tr>\n",
       "    <tr>\n",
       "      <th>8643</th>\n",
       "      <td>0.38</td>\n",
       "      <td>1.0</td>\n",
       "      <td>22</td>\n",
       "    </tr>\n",
       "    <tr>\n",
       "      <th>8644</th>\n",
       "      <td>0.36</td>\n",
       "      <td>1.0</td>\n",
       "      <td>23</td>\n",
       "    </tr>\n",
       "  </tbody>\n",
       "</table>\n",
       "<p>8645 rows × 3 columns</p>\n",
       "</div>"
      ],
      "text/plain": [
       "      temp  intercept  hr\n",
       "0     0.24        1.0   0\n",
       "1     0.22        1.0   1\n",
       "2     0.22        1.0   2\n",
       "3     0.24        1.0   3\n",
       "4     0.24        1.0   4\n",
       "...    ...        ...  ..\n",
       "8640  0.42        1.0  19\n",
       "8641  0.42        1.0  20\n",
       "8642  0.40        1.0  21\n",
       "8643  0.38        1.0  22\n",
       "8644  0.36        1.0  23\n",
       "\n",
       "[8645 rows x 3 columns]"
      ]
     },
     "execution_count": 519,
     "metadata": {},
     "output_type": "execute_result"
    }
   ],
   "source": [
    "# Identify some predictors and the target\n",
    "\n",
    "X['hr'] = Bikeshare['hr']\n",
    "X"
   ]
  },
  {
   "cell_type": "code",
   "execution_count": 520,
   "id": "8a3702a1",
   "metadata": {},
   "outputs": [
    {
     "data": {
      "text/html": [
       "<div>\n",
       "<style scoped>\n",
       "    .dataframe tbody tr th:only-of-type {\n",
       "        vertical-align: middle;\n",
       "    }\n",
       "\n",
       "    .dataframe tbody tr th {\n",
       "        vertical-align: top;\n",
       "    }\n",
       "\n",
       "    .dataframe thead th {\n",
       "        text-align: right;\n",
       "    }\n",
       "</style>\n",
       "<table border=\"1\" class=\"dataframe\">\n",
       "  <thead>\n",
       "    <tr style=\"text-align: right;\">\n",
       "      <th></th>\n",
       "      <th>coef</th>\n",
       "      <th>std err</th>\n",
       "      <th>t</th>\n",
       "      <th>P&gt;|t|</th>\n",
       "    </tr>\n",
       "  </thead>\n",
       "  <tbody>\n",
       "    <tr>\n",
       "      <th>intercept</th>\n",
       "      <td>52.4482</td>\n",
       "      <td>2.564</td>\n",
       "      <td>20.453</td>\n",
       "      <td>0.0</td>\n",
       "    </tr>\n",
       "    <tr>\n",
       "      <th>hr</th>\n",
       "      <td>7.8926</td>\n",
       "      <td>0.190</td>\n",
       "      <td>41.483</td>\n",
       "      <td>0.0</td>\n",
       "    </tr>\n",
       "  </tbody>\n",
       "</table>\n",
       "</div>"
      ],
      "text/plain": [
       "              coef  std err       t  P>|t|\n",
       "intercept  52.4482    2.564  20.453    0.0\n",
       "hr          7.8926    0.190  41.483    0.0"
      ]
     },
     "execution_count": 520,
     "metadata": {},
     "output_type": "execute_result"
    }
   ],
   "source": [
    "model_hr = sm.OLS(y, X[['intercept', 'hr']])\n",
    "results_hr = model_hr.fit()\n",
    "summarize(results_hr)"
   ]
  },
  {
   "cell_type": "code",
   "execution_count": 521,
   "id": "0eaa9fdf",
   "metadata": {},
   "outputs": [
    {
     "name": "stdout",
     "output_type": "stream",
     "text": [
      "mse train: 14927.62230797846\n"
     ]
    }
   ],
   "source": [
    "# Compute the MSE on the training set\n",
    "\n",
    "predictions_hr = predict(X[['intercept', 'hr']], results_hr)\n",
    "print('mse train:',mse(y, predictions_hr))"
   ]
  },
  {
   "cell_type": "code",
   "execution_count": 522,
   "id": "3b7ae4a6",
   "metadata": {},
   "outputs": [
    {
     "name": "stderr",
     "output_type": "stream",
     "text": [
      "C:\\Users\\aidik\\AppData\\Local\\Temp\\ipykernel_2804\\2041733805.py:2: SettingWithCopyWarning: \n",
      "A value is trying to be set on a copy of a slice from a DataFrame.\n",
      "Try using .loc[row_indexer,col_indexer] = value instead\n",
      "\n",
      "See the caveats in the documentation: https://pandas.pydata.org/pandas-docs/stable/user_guide/indexing.html#returning-a-view-versus-a-copy\n",
      "  X['hr^2'] = Bikeshare['hr'] ** 2\n"
     ]
    }
   ],
   "source": [
    "# d)\n",
    "X['hr^2'] = Bikeshare['hr'] ** 2\n"
   ]
  },
  {
   "cell_type": "code",
   "execution_count": 523,
   "id": "049c1c2e",
   "metadata": {},
   "outputs": [
    {
     "data": {
      "text/html": [
       "<div>\n",
       "<style scoped>\n",
       "    .dataframe tbody tr th:only-of-type {\n",
       "        vertical-align: middle;\n",
       "    }\n",
       "\n",
       "    .dataframe tbody tr th {\n",
       "        vertical-align: top;\n",
       "    }\n",
       "\n",
       "    .dataframe thead th {\n",
       "        text-align: right;\n",
       "    }\n",
       "</style>\n",
       "<table border=\"1\" class=\"dataframe\">\n",
       "  <thead>\n",
       "    <tr style=\"text-align: right;\">\n",
       "      <th></th>\n",
       "      <th>coef</th>\n",
       "      <th>std err</th>\n",
       "      <th>t</th>\n",
       "      <th>P&gt;|t|</th>\n",
       "    </tr>\n",
       "  </thead>\n",
       "  <tbody>\n",
       "    <tr>\n",
       "      <th>intercept</th>\n",
       "      <td>-46.4378</td>\n",
       "      <td>3.336</td>\n",
       "      <td>-13.918</td>\n",
       "      <td>0.0</td>\n",
       "    </tr>\n",
       "    <tr>\n",
       "      <th>hr</th>\n",
       "      <td>34.7187</td>\n",
       "      <td>0.668</td>\n",
       "      <td>51.980</td>\n",
       "      <td>0.0</td>\n",
       "    </tr>\n",
       "    <tr>\n",
       "      <th>hr^2</th>\n",
       "      <td>-1.1647</td>\n",
       "      <td>0.028</td>\n",
       "      <td>-41.594</td>\n",
       "      <td>0.0</td>\n",
       "    </tr>\n",
       "  </tbody>\n",
       "</table>\n",
       "</div>"
      ],
      "text/plain": [
       "              coef  std err       t  P>|t|\n",
       "intercept -46.4378    3.336 -13.918    0.0\n",
       "hr         34.7187    0.668  51.980    0.0\n",
       "hr^2       -1.1647    0.028 -41.594    0.0"
      ]
     },
     "execution_count": 523,
     "metadata": {},
     "output_type": "execute_result"
    }
   ],
   "source": [
    "model = sm.OLS(y, X[['intercept', 'hr', 'hr^2']])\n",
    "results = model.fit()\n",
    "summarize(results)"
   ]
  },
  {
   "cell_type": "code",
   "execution_count": 524,
   "id": "183ac6c0",
   "metadata": {},
   "outputs": [
    {
     "name": "stdout",
     "output_type": "stream",
     "text": [
      "mse train: 12437.720822189807\n"
     ]
    }
   ],
   "source": [
    "# Compute the MSE on the training set\n",
    "\n",
    "predictions = predict(X[['intercept', 'hr', 'hr^2']], results)\n",
    "print('mse train:',mse(y, predictions))"
   ]
  },
  {
   "cell_type": "code",
   "execution_count": 525,
   "id": "4d60f25f",
   "metadata": {},
   "outputs": [
    {
     "name": "stderr",
     "output_type": "stream",
     "text": [
      "C:\\Users\\aidik\\AppData\\Local\\Temp\\ipykernel_2804\\962381050.py:2: SettingWithCopyWarning: \n",
      "A value is trying to be set on a copy of a slice from a DataFrame.\n",
      "Try using .loc[row_indexer,col_indexer] = value instead\n",
      "\n",
      "See the caveats in the documentation: https://pandas.pydata.org/pandas-docs/stable/user_guide/indexing.html#returning-a-view-versus-a-copy\n",
      "  X['workingday'] = Bikeshare['workingday']\n",
      "C:\\Users\\aidik\\AppData\\Local\\Temp\\ipykernel_2804\\962381050.py:3: SettingWithCopyWarning: \n",
      "A value is trying to be set on a copy of a slice from a DataFrame.\n",
      "Try using .loc[row_indexer,col_indexer] = value instead\n",
      "\n",
      "See the caveats in the documentation: https://pandas.pydata.org/pandas-docs/stable/user_guide/indexing.html#returning-a-view-versus-a-copy\n",
      "  X['hr*workingday'] = X['hr'] * X['workingday']\n"
     ]
    },
    {
     "data": {
      "text/html": [
       "<div>\n",
       "<style scoped>\n",
       "    .dataframe tbody tr th:only-of-type {\n",
       "        vertical-align: middle;\n",
       "    }\n",
       "\n",
       "    .dataframe tbody tr th {\n",
       "        vertical-align: top;\n",
       "    }\n",
       "\n",
       "    .dataframe thead th {\n",
       "        text-align: right;\n",
       "    }\n",
       "</style>\n",
       "<table border=\"1\" class=\"dataframe\">\n",
       "  <thead>\n",
       "    <tr style=\"text-align: right;\">\n",
       "      <th></th>\n",
       "      <th>temp</th>\n",
       "      <th>intercept</th>\n",
       "      <th>hr</th>\n",
       "      <th>hr^2</th>\n",
       "      <th>workingday</th>\n",
       "      <th>hr*workingday</th>\n",
       "    </tr>\n",
       "  </thead>\n",
       "  <tbody>\n",
       "    <tr>\n",
       "      <th>0</th>\n",
       "      <td>0.24</td>\n",
       "      <td>1.0</td>\n",
       "      <td>0</td>\n",
       "      <td>0</td>\n",
       "      <td>0</td>\n",
       "      <td>0</td>\n",
       "    </tr>\n",
       "    <tr>\n",
       "      <th>1</th>\n",
       "      <td>0.22</td>\n",
       "      <td>1.0</td>\n",
       "      <td>1</td>\n",
       "      <td>1</td>\n",
       "      <td>0</td>\n",
       "      <td>0</td>\n",
       "    </tr>\n",
       "    <tr>\n",
       "      <th>2</th>\n",
       "      <td>0.22</td>\n",
       "      <td>1.0</td>\n",
       "      <td>2</td>\n",
       "      <td>4</td>\n",
       "      <td>0</td>\n",
       "      <td>0</td>\n",
       "    </tr>\n",
       "    <tr>\n",
       "      <th>3</th>\n",
       "      <td>0.24</td>\n",
       "      <td>1.0</td>\n",
       "      <td>3</td>\n",
       "      <td>9</td>\n",
       "      <td>0</td>\n",
       "      <td>0</td>\n",
       "    </tr>\n",
       "    <tr>\n",
       "      <th>4</th>\n",
       "      <td>0.24</td>\n",
       "      <td>1.0</td>\n",
       "      <td>4</td>\n",
       "      <td>16</td>\n",
       "      <td>0</td>\n",
       "      <td>0</td>\n",
       "    </tr>\n",
       "    <tr>\n",
       "      <th>...</th>\n",
       "      <td>...</td>\n",
       "      <td>...</td>\n",
       "      <td>...</td>\n",
       "      <td>...</td>\n",
       "      <td>...</td>\n",
       "      <td>...</td>\n",
       "    </tr>\n",
       "    <tr>\n",
       "      <th>8640</th>\n",
       "      <td>0.42</td>\n",
       "      <td>1.0</td>\n",
       "      <td>19</td>\n",
       "      <td>361</td>\n",
       "      <td>0</td>\n",
       "      <td>0</td>\n",
       "    </tr>\n",
       "    <tr>\n",
       "      <th>8641</th>\n",
       "      <td>0.42</td>\n",
       "      <td>1.0</td>\n",
       "      <td>20</td>\n",
       "      <td>400</td>\n",
       "      <td>0</td>\n",
       "      <td>0</td>\n",
       "    </tr>\n",
       "    <tr>\n",
       "      <th>8642</th>\n",
       "      <td>0.40</td>\n",
       "      <td>1.0</td>\n",
       "      <td>21</td>\n",
       "      <td>441</td>\n",
       "      <td>0</td>\n",
       "      <td>0</td>\n",
       "    </tr>\n",
       "    <tr>\n",
       "      <th>8643</th>\n",
       "      <td>0.38</td>\n",
       "      <td>1.0</td>\n",
       "      <td>22</td>\n",
       "      <td>484</td>\n",
       "      <td>0</td>\n",
       "      <td>0</td>\n",
       "    </tr>\n",
       "    <tr>\n",
       "      <th>8644</th>\n",
       "      <td>0.36</td>\n",
       "      <td>1.0</td>\n",
       "      <td>23</td>\n",
       "      <td>529</td>\n",
       "      <td>0</td>\n",
       "      <td>0</td>\n",
       "    </tr>\n",
       "  </tbody>\n",
       "</table>\n",
       "<p>8645 rows × 6 columns</p>\n",
       "</div>"
      ],
      "text/plain": [
       "      temp  intercept  hr  hr^2  workingday  hr*workingday\n",
       "0     0.24        1.0   0     0           0              0\n",
       "1     0.22        1.0   1     1           0              0\n",
       "2     0.22        1.0   2     4           0              0\n",
       "3     0.24        1.0   3     9           0              0\n",
       "4     0.24        1.0   4    16           0              0\n",
       "...    ...        ...  ..   ...         ...            ...\n",
       "8640  0.42        1.0  19   361           0              0\n",
       "8641  0.42        1.0  20   400           0              0\n",
       "8642  0.40        1.0  21   441           0              0\n",
       "8643  0.38        1.0  22   484           0              0\n",
       "8644  0.36        1.0  23   529           0              0\n",
       "\n",
       "[8645 rows x 6 columns]"
      ]
     },
     "execution_count": 525,
     "metadata": {},
     "output_type": "execute_result"
    }
   ],
   "source": [
    "# e)\n",
    "X['workingday'] = Bikeshare['workingday']\n",
    "X['hr*workingday'] = X['hr'] * X['workingday']\n",
    "X"
   ]
  },
  {
   "cell_type": "code",
   "execution_count": 526,
   "id": "89cff566",
   "metadata": {},
   "outputs": [
    {
     "data": {
      "text/html": [
       "<div>\n",
       "<style scoped>\n",
       "    .dataframe tbody tr th:only-of-type {\n",
       "        vertical-align: middle;\n",
       "    }\n",
       "\n",
       "    .dataframe tbody tr th {\n",
       "        vertical-align: top;\n",
       "    }\n",
       "\n",
       "    .dataframe thead th {\n",
       "        text-align: right;\n",
       "    }\n",
       "</style>\n",
       "<table border=\"1\" class=\"dataframe\">\n",
       "  <thead>\n",
       "    <tr style=\"text-align: right;\">\n",
       "      <th></th>\n",
       "      <th>coef</th>\n",
       "      <th>std err</th>\n",
       "      <th>t</th>\n",
       "      <th>P&gt;|t|</th>\n",
       "    </tr>\n",
       "  </thead>\n",
       "  <tbody>\n",
       "    <tr>\n",
       "      <th>intercept</th>\n",
       "      <td>-41.9017</td>\n",
       "      <td>4.777</td>\n",
       "      <td>-8.771</td>\n",
       "      <td>0.000</td>\n",
       "    </tr>\n",
       "    <tr>\n",
       "      <th>hr</th>\n",
       "      <td>34.1591</td>\n",
       "      <td>0.714</td>\n",
       "      <td>47.835</td>\n",
       "      <td>0.000</td>\n",
       "    </tr>\n",
       "    <tr>\n",
       "      <th>hr^2</th>\n",
       "      <td>-1.1649</td>\n",
       "      <td>0.028</td>\n",
       "      <td>-41.610</td>\n",
       "      <td>0.000</td>\n",
       "    </tr>\n",
       "    <tr>\n",
       "      <th>workingday</th>\n",
       "      <td>-6.6632</td>\n",
       "      <td>5.025</td>\n",
       "      <td>-1.326</td>\n",
       "      <td>0.185</td>\n",
       "    </tr>\n",
       "    <tr>\n",
       "      <th>hr*workingday</th>\n",
       "      <td>0.8237</td>\n",
       "      <td>0.373</td>\n",
       "      <td>2.206</td>\n",
       "      <td>0.027</td>\n",
       "    </tr>\n",
       "  </tbody>\n",
       "</table>\n",
       "</div>"
      ],
      "text/plain": [
       "                  coef  std err       t  P>|t|\n",
       "intercept     -41.9017    4.777  -8.771  0.000\n",
       "hr             34.1591    0.714  47.835  0.000\n",
       "hr^2           -1.1649    0.028 -41.610  0.000\n",
       "workingday     -6.6632    5.025  -1.326  0.185\n",
       "hr*workingday   0.8237    0.373   2.206  0.027"
      ]
     },
     "execution_count": 526,
     "metadata": {},
     "output_type": "execute_result"
    }
   ],
   "source": [
    "model1 = sm.OLS(y, X[['intercept', 'hr', 'hr^2', 'workingday', 'hr*workingday']])\n",
    "results = model1.fit()\n",
    "summarize(results)"
   ]
  },
  {
   "cell_type": "code",
   "execution_count": 527,
   "id": "8f3062d0",
   "metadata": {},
   "outputs": [
    {
     "name": "stdout",
     "output_type": "stream",
     "text": [
      "mse train: 12428.95706672807\n"
     ]
    }
   ],
   "source": [
    "# Compute the MSE on the training set\n",
    "\n",
    "predictions = predict(X[['intercept', 'hr', 'hr^2', 'workingday', 'hr*workingday']], results)\n",
    "print('mse train:',mse(y, predictions))"
   ]
  },
  {
   "cell_type": "code",
   "execution_count": 528,
   "id": "03a484e5",
   "metadata": {},
   "outputs": [
    {
     "data": {
      "text/html": [
       "<div>\n",
       "<style scoped>\n",
       "    .dataframe tbody tr th:only-of-type {\n",
       "        vertical-align: middle;\n",
       "    }\n",
       "\n",
       "    .dataframe tbody tr th {\n",
       "        vertical-align: top;\n",
       "    }\n",
       "\n",
       "    .dataframe thead th {\n",
       "        text-align: right;\n",
       "    }\n",
       "</style>\n",
       "<table border=\"1\" class=\"dataframe\">\n",
       "  <thead>\n",
       "    <tr style=\"text-align: right;\">\n",
       "      <th></th>\n",
       "      <th>coef</th>\n",
       "      <th>std err</th>\n",
       "      <th>t</th>\n",
       "      <th>P&gt;|t|</th>\n",
       "    </tr>\n",
       "  </thead>\n",
       "  <tbody>\n",
       "    <tr>\n",
       "      <th>intercept</th>\n",
       "      <td>-139.8046</td>\n",
       "      <td>4.793</td>\n",
       "      <td>-29.170</td>\n",
       "      <td>0.000</td>\n",
       "    </tr>\n",
       "    <tr>\n",
       "      <th>hr</th>\n",
       "      <td>30.3688</td>\n",
       "      <td>0.646</td>\n",
       "      <td>46.994</td>\n",
       "      <td>0.000</td>\n",
       "    </tr>\n",
       "    <tr>\n",
       "      <th>hr^2</th>\n",
       "      <td>-1.0420</td>\n",
       "      <td>0.025</td>\n",
       "      <td>-41.234</td>\n",
       "      <td>0.000</td>\n",
       "    </tr>\n",
       "    <tr>\n",
       "      <th>workingday</th>\n",
       "      <td>-13.8377</td>\n",
       "      <td>4.513</td>\n",
       "      <td>-3.066</td>\n",
       "      <td>0.002</td>\n",
       "    </tr>\n",
       "    <tr>\n",
       "      <th>hr*workingday</th>\n",
       "      <td>0.9535</td>\n",
       "      <td>0.335</td>\n",
       "      <td>2.846</td>\n",
       "      <td>0.004</td>\n",
       "    </tr>\n",
       "    <tr>\n",
       "      <th>temp</th>\n",
       "      <td>252.1313</td>\n",
       "      <td>5.518</td>\n",
       "      <td>45.696</td>\n",
       "      <td>0.000</td>\n",
       "    </tr>\n",
       "  </tbody>\n",
       "</table>\n",
       "</div>"
      ],
      "text/plain": [
       "                   coef  std err       t  P>|t|\n",
       "intercept     -139.8046    4.793 -29.170  0.000\n",
       "hr              30.3688    0.646  46.994  0.000\n",
       "hr^2            -1.0420    0.025 -41.234  0.000\n",
       "workingday     -13.8377    4.513  -3.066  0.002\n",
       "hr*workingday    0.9535    0.335   2.846  0.004\n",
       "temp           252.1313    5.518  45.696  0.000"
      ]
     },
     "execution_count": 528,
     "metadata": {},
     "output_type": "execute_result"
    }
   ],
   "source": [
    "# e)\n",
    "model2 = sm.OLS(y, X[['intercept', 'hr', 'hr^2', 'workingday', 'hr*workingday', 'temp']])\n",
    "results = model2.fit()\n",
    "summarize(results)"
   ]
  },
  {
   "cell_type": "code",
   "execution_count": 529,
   "id": "266ccacd",
   "metadata": {},
   "outputs": [
    {
     "name": "stdout",
     "output_type": "stream",
     "text": [
      "mse train: 10009.578912400699\n"
     ]
    }
   ],
   "source": [
    "# Compute the MSE on the training set\n",
    "\n",
    "predictions = predict(X[['intercept', 'hr', 'hr^2', 'workingday', 'hr*workingday', 'temp']], results)\n",
    "print('mse train:',mse(y, predictions))"
   ]
  },
  {
   "cell_type": "markdown",
   "id": "d9c3a58c",
   "metadata": {},
   "source": [
    "(g) The MSE should improve when including more predictors from the dataset."
   ]
  },
  {
   "cell_type": "markdown",
   "id": "add3c81b",
   "metadata": {},
   "source": [
    "(h) The last model should perform the best since it had the lowest MSE on the training data."
   ]
  }
 ],
 "metadata": {
  "kernelspec": {
   "display_name": "islp",
   "language": "python",
   "name": "python3"
  },
  "language_info": {
   "codemirror_mode": {
    "name": "ipython",
    "version": 3
   },
   "file_extension": ".py",
   "mimetype": "text/x-python",
   "name": "python",
   "nbconvert_exporter": "python",
   "pygments_lexer": "ipython3",
   "version": "3.13.5"
  }
 },
 "nbformat": 4,
 "nbformat_minor": 5
}
