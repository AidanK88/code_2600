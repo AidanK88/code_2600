{
 "cells": [
  {
   "cell_type": "markdown",
   "id": "ddbb4486",
   "metadata": {},
   "source": [
    "Homework 1"
   ]
  },
  {
   "cell_type": "markdown",
   "id": "5dcfeb1f",
   "metadata": {},
   "source": [
    "1. Ages"
   ]
  },
  {
   "cell_type": "code",
   "execution_count": 1,
   "id": "c1e6ff72",
   "metadata": {},
   "outputs": [],
   "source": [
    "\n",
    "ages = [13, 15, 16, 16, 19, 20, 20, 21, 22, 22, 23, 25, 25, 25, 30, 33,\n",
    "33, 33, 33, 35, 35, 36, 40, 45, 46, 52, 70]"
   ]
  },
  {
   "cell_type": "code",
   "execution_count": 2,
   "id": "9872e199",
   "metadata": {},
   "outputs": [
    {
     "name": "stdout",
     "output_type": "stream",
     "text": [
      "(a) mean: 29.74, median: 25, mode: 33\n"
     ]
    }
   ],
   "source": [
    "import statistics as stat\n",
    "mean = stat.mean(ages)\n",
    "median = stat.median(ages)\n",
    "mode = stat.mode(ages)\n",
    "\n",
    "print(f\"(a) mean: {round(mean, 2)}, median: {median}, mode: {mode}\")"
   ]
  },
  {
   "cell_type": "code",
   "execution_count": 14,
   "id": "474f97ac",
   "metadata": {},
   "outputs": [
    {
     "data": {
      "image/png": "[encoded data removed]",
      "text/plain": [
       "<Figure size 640x480 with 1 Axes>"
      ]
     },
     "metadata": {},
     "output_type": "display_data"
    }
   ],
   "source": [
    "from matplotlib import pyplot as plt\n",
    "plt.hist(ages)\n",
    "plt.show()"
   ]
  },
  {
   "cell_type": "markdown",
   "id": "0c446215",
   "metadata": {},
   "source": [
    "(b) The data is bimodal with two peaks at ages 25 and 33"
   ]
  },
  {
   "cell_type": "code",
   "execution_count": 4,
   "id": "cef6ffa9",
   "metadata": {},
   "outputs": [
    {
     "name": "stdout",
     "output_type": "stream",
     "text": [
      "(d)\n",
      "Five-number summary:\n",
      "Min: 13\n",
      "Q1: 20\n",
      "Q2: 25\n",
      "Q3: 35\n",
      "Max: 70\n"
     ]
    }
   ],
   "source": [
    "# Five-number summary\n",
    "minimum = min(ages)\n",
    "median_index = len(ages) // 2\n",
    "q1 = stat.median(ages[0:median_index])\n",
    "q2 = median\n",
    "q3 = stat.median(ages[median_index:-1])\n",
    "maximum = max(ages)\n",
    "\n",
    "print(\"(d)\")\n",
    "print(\"Five-number summary:\")\n",
    "print(f\"Min: {minimum}\")\n",
    "print(f\"Q1: {q1}\")\n",
    "print(f\"Q2: {q2}\")\n",
    "print(f\"Q3: {q3}\")\n",
    "print(f\"Max: {maximum}\")"
   ]
  },
  {
   "cell_type": "markdown",
   "id": "07ad5438",
   "metadata": {},
   "source": [
    "(e)"
   ]
  },
  {
   "cell_type": "code",
   "execution_count": 91,
   "id": "7780967e",
   "metadata": {},
   "outputs": [
    {
     "data": {
      "image/png": "[encoded data removed]",
      "text/plain": [
       "<Figure size 640x480 with 1 Axes>"
      ]
     },
     "metadata": {},
     "output_type": "display_data"
    }
   ],
   "source": [
    "plt.boxplot(ages)\n",
    "plt.title(\"Ages\")\n",
    "plt.ylabel(\"Years\")\n",
    "plt.show()"
   ]
  },
  {
   "cell_type": "markdown",
   "id": "732ee980",
   "metadata": {},
   "source": [
    "2. Hitters"
   ]
  },
  {
   "cell_type": "code",
   "execution_count": 6,
   "id": "9cd3f61b",
   "metadata": {},
   "outputs": [
    {
     "data": {
      "text/html": [
       "<div>\n",
       "<style scoped>\n",
       "    .dataframe tbody tr th:only-of-type {\n",
       "        vertical-align: middle;\n",
       "    }\n",
       "\n",
       "    .dataframe tbody tr th {\n",
       "        vertical-align: top;\n",
       "    }\n",
       "\n",
       "    .dataframe thead th {\n",
       "        text-align: right;\n",
       "    }\n",
       "</style>\n",
       "<table border=\"1\" class=\"dataframe\">\n",
       "  <thead>\n",
       "    <tr style=\"text-align: right;\">\n",
       "      <th></th>\n",
       "      <th>AtBat</th>\n",
       "      <th>Hits</th>\n",
       "      <th>HmRun</th>\n",
       "      <th>Runs</th>\n",
       "      <th>RBI</th>\n",
       "      <th>Walks</th>\n",
       "      <th>Years</th>\n",
       "      <th>CAtBat</th>\n",
       "      <th>CHits</th>\n",
       "      <th>CHmRun</th>\n",
       "      <th>CRuns</th>\n",
       "      <th>CRBI</th>\n",
       "      <th>CWalks</th>\n",
       "      <th>League</th>\n",
       "      <th>Division</th>\n",
       "      <th>PutOuts</th>\n",
       "      <th>Assists</th>\n",
       "      <th>Errors</th>\n",
       "      <th>Salary</th>\n",
       "      <th>NewLeague</th>\n",
       "    </tr>\n",
       "  </thead>\n",
       "  <tbody>\n",
       "    <tr>\n",
       "      <th>0</th>\n",
       "      <td>293</td>\n",
       "      <td>66</td>\n",
       "      <td>1</td>\n",
       "      <td>30</td>\n",
       "      <td>29</td>\n",
       "      <td>14</td>\n",
       "      <td>1</td>\n",
       "      <td>293</td>\n",
       "      <td>66</td>\n",
       "      <td>1</td>\n",
       "      <td>30</td>\n",
       "      <td>29</td>\n",
       "      <td>14</td>\n",
       "      <td>A</td>\n",
       "      <td>E</td>\n",
       "      <td>446</td>\n",
       "      <td>33</td>\n",
       "      <td>20</td>\n",
       "      <td>NaN</td>\n",
       "      <td>A</td>\n",
       "    </tr>\n",
       "    <tr>\n",
       "      <th>1</th>\n",
       "      <td>315</td>\n",
       "      <td>81</td>\n",
       "      <td>7</td>\n",
       "      <td>24</td>\n",
       "      <td>38</td>\n",
       "      <td>39</td>\n",
       "      <td>14</td>\n",
       "      <td>3449</td>\n",
       "      <td>835</td>\n",
       "      <td>69</td>\n",
       "      <td>321</td>\n",
       "      <td>414</td>\n",
       "      <td>375</td>\n",
       "      <td>N</td>\n",
       "      <td>W</td>\n",
       "      <td>632</td>\n",
       "      <td>43</td>\n",
       "      <td>10</td>\n",
       "      <td>475.0</td>\n",
       "      <td>N</td>\n",
       "    </tr>\n",
       "    <tr>\n",
       "      <th>2</th>\n",
       "      <td>479</td>\n",
       "      <td>130</td>\n",
       "      <td>18</td>\n",
       "      <td>66</td>\n",
       "      <td>72</td>\n",
       "      <td>76</td>\n",
       "      <td>3</td>\n",
       "      <td>1624</td>\n",
       "      <td>457</td>\n",
       "      <td>63</td>\n",
       "      <td>224</td>\n",
       "      <td>266</td>\n",
       "      <td>263</td>\n",
       "      <td>A</td>\n",
       "      <td>W</td>\n",
       "      <td>880</td>\n",
       "      <td>82</td>\n",
       "      <td>14</td>\n",
       "      <td>480.0</td>\n",
       "      <td>A</td>\n",
       "    </tr>\n",
       "    <tr>\n",
       "      <th>3</th>\n",
       "      <td>496</td>\n",
       "      <td>141</td>\n",
       "      <td>20</td>\n",
       "      <td>65</td>\n",
       "      <td>78</td>\n",
       "      <td>37</td>\n",
       "      <td>11</td>\n",
       "      <td>5628</td>\n",
       "      <td>1575</td>\n",
       "      <td>225</td>\n",
       "      <td>828</td>\n",
       "      <td>838</td>\n",
       "      <td>354</td>\n",
       "      <td>N</td>\n",
       "      <td>E</td>\n",
       "      <td>200</td>\n",
       "      <td>11</td>\n",
       "      <td>3</td>\n",
       "      <td>500.0</td>\n",
       "      <td>N</td>\n",
       "    </tr>\n",
       "    <tr>\n",
       "      <th>4</th>\n",
       "      <td>321</td>\n",
       "      <td>87</td>\n",
       "      <td>10</td>\n",
       "      <td>39</td>\n",
       "      <td>42</td>\n",
       "      <td>30</td>\n",
       "      <td>2</td>\n",
       "      <td>396</td>\n",
       "      <td>101</td>\n",
       "      <td>12</td>\n",
       "      <td>48</td>\n",
       "      <td>46</td>\n",
       "      <td>33</td>\n",
       "      <td>N</td>\n",
       "      <td>E</td>\n",
       "      <td>805</td>\n",
       "      <td>40</td>\n",
       "      <td>4</td>\n",
       "      <td>91.5</td>\n",
       "      <td>N</td>\n",
       "    </tr>\n",
       "    <tr>\n",
       "      <th>...</th>\n",
       "      <td>...</td>\n",
       "      <td>...</td>\n",
       "      <td>...</td>\n",
       "      <td>...</td>\n",
       "      <td>...</td>\n",
       "      <td>...</td>\n",
       "      <td>...</td>\n",
       "      <td>...</td>\n",
       "      <td>...</td>\n",
       "      <td>...</td>\n",
       "      <td>...</td>\n",
       "      <td>...</td>\n",
       "      <td>...</td>\n",
       "      <td>...</td>\n",
       "      <td>...</td>\n",
       "      <td>...</td>\n",
       "      <td>...</td>\n",
       "      <td>...</td>\n",
       "      <td>...</td>\n",
       "      <td>...</td>\n",
       "    </tr>\n",
       "    <tr>\n",
       "      <th>317</th>\n",
       "      <td>497</td>\n",
       "      <td>127</td>\n",
       "      <td>7</td>\n",
       "      <td>65</td>\n",
       "      <td>48</td>\n",
       "      <td>37</td>\n",
       "      <td>5</td>\n",
       "      <td>2703</td>\n",
       "      <td>806</td>\n",
       "      <td>32</td>\n",
       "      <td>379</td>\n",
       "      <td>311</td>\n",
       "      <td>138</td>\n",
       "      <td>N</td>\n",
       "      <td>E</td>\n",
       "      <td>325</td>\n",
       "      <td>9</td>\n",
       "      <td>3</td>\n",
       "      <td>700.0</td>\n",
       "      <td>N</td>\n",
       "    </tr>\n",
       "    <tr>\n",
       "      <th>318</th>\n",
       "      <td>492</td>\n",
       "      <td>136</td>\n",
       "      <td>5</td>\n",
       "      <td>76</td>\n",
       "      <td>50</td>\n",
       "      <td>94</td>\n",
       "      <td>12</td>\n",
       "      <td>5511</td>\n",
       "      <td>1511</td>\n",
       "      <td>39</td>\n",
       "      <td>897</td>\n",
       "      <td>451</td>\n",
       "      <td>875</td>\n",
       "      <td>A</td>\n",
       "      <td>E</td>\n",
       "      <td>313</td>\n",
       "      <td>381</td>\n",
       "      <td>20</td>\n",
       "      <td>875.0</td>\n",
       "      <td>A</td>\n",
       "    </tr>\n",
       "    <tr>\n",
       "      <th>319</th>\n",
       "      <td>475</td>\n",
       "      <td>126</td>\n",
       "      <td>3</td>\n",
       "      <td>61</td>\n",
       "      <td>43</td>\n",
       "      <td>52</td>\n",
       "      <td>6</td>\n",
       "      <td>1700</td>\n",
       "      <td>433</td>\n",
       "      <td>7</td>\n",
       "      <td>217</td>\n",
       "      <td>93</td>\n",
       "      <td>146</td>\n",
       "      <td>A</td>\n",
       "      <td>W</td>\n",
       "      <td>37</td>\n",
       "      <td>113</td>\n",
       "      <td>7</td>\n",
       "      <td>385.0</td>\n",
       "      <td>A</td>\n",
       "    </tr>\n",
       "    <tr>\n",
       "      <th>320</th>\n",
       "      <td>573</td>\n",
       "      <td>144</td>\n",
       "      <td>9</td>\n",
       "      <td>85</td>\n",
       "      <td>60</td>\n",
       "      <td>78</td>\n",
       "      <td>8</td>\n",
       "      <td>3198</td>\n",
       "      <td>857</td>\n",
       "      <td>97</td>\n",
       "      <td>470</td>\n",
       "      <td>420</td>\n",
       "      <td>332</td>\n",
       "      <td>A</td>\n",
       "      <td>E</td>\n",
       "      <td>1314</td>\n",
       "      <td>131</td>\n",
       "      <td>12</td>\n",
       "      <td>960.0</td>\n",
       "      <td>A</td>\n",
       "    </tr>\n",
       "    <tr>\n",
       "      <th>321</th>\n",
       "      <td>631</td>\n",
       "      <td>170</td>\n",
       "      <td>9</td>\n",
       "      <td>77</td>\n",
       "      <td>44</td>\n",
       "      <td>31</td>\n",
       "      <td>11</td>\n",
       "      <td>4908</td>\n",
       "      <td>1457</td>\n",
       "      <td>30</td>\n",
       "      <td>775</td>\n",
       "      <td>357</td>\n",
       "      <td>249</td>\n",
       "      <td>A</td>\n",
       "      <td>W</td>\n",
       "      <td>408</td>\n",
       "      <td>4</td>\n",
       "      <td>3</td>\n",
       "      <td>1000.0</td>\n",
       "      <td>A</td>\n",
       "    </tr>\n",
       "  </tbody>\n",
       "</table>\n",
       "<p>322 rows × 20 columns</p>\n",
       "</div>"
      ],
      "text/plain": [
       "     AtBat  Hits  HmRun  Runs  RBI  Walks  Years  CAtBat  CHits  CHmRun  \\\n",
       "0      293    66      1    30   29     14      1     293     66       1   \n",
       "1      315    81      7    24   38     39     14    3449    835      69   \n",
       "2      479   130     18    66   72     76      3    1624    457      63   \n",
       "3      496   141     20    65   78     37     11    5628   1575     225   \n",
       "4      321    87     10    39   42     30      2     396    101      12   \n",
       "..     ...   ...    ...   ...  ...    ...    ...     ...    ...     ...   \n",
       "317    497   127      7    65   48     37      5    2703    806      32   \n",
       "318    492   136      5    76   50     94     12    5511   1511      39   \n",
       "319    475   126      3    61   43     52      6    1700    433       7   \n",
       "320    573   144      9    85   60     78      8    3198    857      97   \n",
       "321    631   170      9    77   44     31     11    4908   1457      30   \n",
       "\n",
       "     CRuns  CRBI  CWalks League Division  PutOuts  Assists  Errors  Salary  \\\n",
       "0       30    29      14      A        E      446       33      20     NaN   \n",
       "1      321   414     375      N        W      632       43      10   475.0   \n",
       "2      224   266     263      A        W      880       82      14   480.0   \n",
       "3      828   838     354      N        E      200       11       3   500.0   \n",
       "4       48    46      33      N        E      805       40       4    91.5   \n",
       "..     ...   ...     ...    ...      ...      ...      ...     ...     ...   \n",
       "317    379   311     138      N        E      325        9       3   700.0   \n",
       "318    897   451     875      A        E      313      381      20   875.0   \n",
       "319    217    93     146      A        W       37      113       7   385.0   \n",
       "320    470   420     332      A        E     1314      131      12   960.0   \n",
       "321    775   357     249      A        W      408        4       3  1000.0   \n",
       "\n",
       "    NewLeague  \n",
       "0           A  \n",
       "1           N  \n",
       "2           A  \n",
       "3           N  \n",
       "4           N  \n",
       "..        ...  \n",
       "317         N  \n",
       "318         A  \n",
       "319         A  \n",
       "320         A  \n",
       "321         A  \n",
       "\n",
       "[322 rows x 20 columns]"
      ]
     },
     "execution_count": 6,
     "metadata": {},
     "output_type": "execute_result"
    }
   ],
   "source": [
    "import pandas as pd\n",
    "Hitters = pd.read_csv('../data/Hitters.csv')\n",
    "Hitters"
   ]
  },
  {
   "cell_type": "code",
   "execution_count": 7,
   "id": "930f9485",
   "metadata": {},
   "outputs": [
    {
     "name": "stdout",
     "output_type": "stream",
     "text": [
      "Rows: 322\n",
      "Columns: 20\n"
     ]
    }
   ],
   "source": [
    "num_rows, num_col = Hitters.shape\n",
    "print(f\"Rows: {num_rows}\")\n",
    "print(f\"Columns: {num_col}\")"
   ]
  },
  {
   "cell_type": "markdown",
   "id": "fee48367",
   "metadata": {},
   "source": [
    "The years of the data set are 1986 and 1987. HmRun is home runs for the 1986 season and CHmRun is total career home runs."
   ]
  },
  {
   "cell_type": "code",
   "execution_count": 21,
   "id": "490f1d37",
   "metadata": {},
   "outputs": [
    {
     "name": "stdout",
     "output_type": "stream",
     "text": [
      "AtBat       379.5\n",
      "Hits         96.0\n",
      "HmRun         8.0\n",
      "Runs         48.0\n",
      "RBI          44.0\n",
      "Walks        35.0\n",
      "Years         6.0\n",
      "CAtBat     1928.0\n",
      "CHits       508.0\n",
      "CHmRun       37.5\n",
      "CRuns       247.0\n",
      "CRBI        220.5\n",
      "CWalks      170.5\n",
      "PutOuts     212.0\n",
      "Assists      39.5\n",
      "Errors        6.0\n",
      "Salary      425.0\n",
      "dtype: float64\n"
     ]
    }
   ],
   "source": [
    "# 2c\n",
    "# Median value of each numeric variable\n",
    "print(Hitters.median(numeric_only=True))"
   ]
  },
  {
   "cell_type": "code",
   "execution_count": 18,
   "id": "bfb35a61",
   "metadata": {},
   "outputs": [
    {
     "data": {
      "image/png": "[encoded data removed]",
      "text/plain": [
       "<Figure size 640x480 with 1 Axes>"
      ]
     },
     "metadata": {},
     "output_type": "display_data"
    }
   ],
   "source": [
    "# Calculate batting outcomes\n",
    "total_bats = Hitters.AtBat.sum()\n",
    "total_hits = Hitters.Hits.sum()\n",
    "total_walks = Hitters.Walks.sum()\n",
    "\n",
    "# Convert to percentages\n",
    "walks = total_walks/total_bats * 100\n",
    "hits = total_hits/total_bats * 100\n",
    "neither = 100 - hits - walks\n",
    "percents = [hits, walks, neither]\n",
    "\n",
    "# Create pie chart\n",
    "types = [\"Hits\", \"Walks\", \"Neither\"]\n",
    "plt.pie(percents)\n",
    "plt.title(\"Batting Outcomes\")\n",
    "plt.legend(types, loc=\"right\")\n",
    "plt.show()"
   ]
  },
  {
   "cell_type": "code",
   "execution_count": 10,
   "id": "97fb37c4",
   "metadata": {},
   "outputs": [
    {
     "name": "stdout",
     "output_type": "stream",
     "text": [
      "Rows missing Salary data: 59\n"
     ]
    }
   ],
   "source": [
    "missing_rows = Hitters.Salary.isnull().sum()\n",
    "print(f\"Rows missing Salary data: {missing_rows}\")"
   ]
  },
  {
   "cell_type": "markdown",
   "id": "927e38ca",
   "metadata": {},
   "source": [
    "The players missing salary data may be new players, or their salaries might not be publicly available."
   ]
  },
  {
   "cell_type": "code",
   "execution_count": 15,
   "id": "eabd53cd",
   "metadata": {},
   "outputs": [
    {
     "data": {
      "image/png": "[encoded data removed]",
      "text/plain": [
       "<Figure size 640x480 with 1 Axes>"
      ]
     },
     "metadata": {},
     "output_type": "display_data"
    }
   ],
   "source": [
    "plt.hist(Hitters.Salary)\n",
    "plt.title(\"1987 Player Salaries\")\n",
    "plt.xlabel(\"Salary in thousands of dollars\")\n",
    "plt.ylabel(\"Number of players\")\n",
    "plt.show()"
   ]
  },
  {
   "cell_type": "code",
   "execution_count": 12,
   "id": "a2423f48",
   "metadata": {},
   "outputs": [
    {
     "data": {
      "image/png": "[encoded data removed]",
      "text/plain": [
       "<Figure size 640x480 with 6 Axes>"
      ]
     },
     "metadata": {},
     "output_type": "display_data"
    }
   ],
   "source": [
    "# point size\n",
    "size=8\n",
    "\n",
    "plt.subplot(2,3,1)\n",
    "plt.scatter(Hitters.CAtBat, Hitters.Salary, s=size, c='b')\n",
    "plt.title(\"At Bat\")\n",
    "plt.subplot(2,3,2)\n",
    "plt.scatter(Hitters.CHits, Hitters.Salary, s=size, c='orange')\n",
    "plt.title(\"Hits\")\n",
    "plt.subplot(2,3,3)\n",
    "plt.scatter(Hitters.CHmRun, Hitters.Salary, s=size, c='g')\n",
    "plt.title(\"Home Runs\")\n",
    "plt.subplot(2,3,4)\n",
    "plt.scatter(Hitters.CRBI, Hitters.Salary, s=size, c='purple')\n",
    "plt.title(\"RBIs\")\n",
    "plt.subplot(2,3,5)\n",
    "plt.scatter(Hitters.CRuns, Hitters.Salary, s=size, c='black')\n",
    "plt.title(\"Runs\")\n",
    "plt.subplot(2,3,6)\n",
    "plt.scatter(Hitters.CWalks, Hitters.Salary, s=size)\n",
    "plt.title(\"Walks\")\n",
    "plt.suptitle(\"Career Stats vs Salary\")\n",
    "plt.subplots_adjust(wspace=0.5, hspace=0.4)\n",
    "plt.show()"
   ]
  },
  {
   "cell_type": "code",
   "execution_count": 27,
   "id": "6579ae63",
   "metadata": {},
   "outputs": [
    {
     "name": "stdout",
     "output_type": "stream",
     "text": [
      "Mean Salary:\n",
      "Division\n",
      "E    624.271364\n",
      "W    450.876873\n",
      "Name: Salary, dtype: float64\n"
     ]
    }
   ],
   "source": [
    "# 2h\n",
    "div_mean_sal = Hitters.groupby(\"Division\")[\"Salary\"].mean()\n",
    "print(f\"Mean Salary:\\n{div_mean_sal}\")"
   ]
  },
  {
   "cell_type": "code",
   "execution_count": 35,
   "id": "817cd817",
   "metadata": {},
   "outputs": [
    {
     "name": "stdout",
     "output_type": "stream",
     "text": [
      "Mean Salary:\n",
      "Division\n",
      "E    80531.006\n",
      "W    60417.501\n",
      "Name: Salary, dtype: float64\n",
      "Division E spends more on salaries by $20114\n"
     ]
    }
   ],
   "source": [
    "div_tot_sal = Hitters.groupby(\"Division\")[\"Salary\"].sum()\n",
    "print(f\"Mean Salary:\\n{div_tot_sal}\")\n",
    "print(f\"Division E spends more on salaries by ${round(div_tot_sal.E - div_tot_sal.W)}\")"
   ]
  },
  {
   "cell_type": "code",
   "execution_count": 90,
   "id": "daebb229",
   "metadata": {},
   "outputs": [
    {
     "data": {
      "image/png": "[encoded data removed]",
      "text/plain": [
       "<Figure size 640x480 with 1 Axes>"
      ]
     },
     "metadata": {},
     "output_type": "display_data"
    }
   ],
   "source": [
    "# 2i\n",
    "sal5 =  Hitters[Hitters[\"Years\"] < 5][\"Salary\"].dropna()\n",
    "sal12 = Hitters[Hitters[\"Years\"] > 12][\"Salary\"].dropna()\n",
    "\n",
    "plt.title(\"Salary of Players >12 vs <5 Year Tenure\")\n",
    "plt.boxplot([sal5, sal12], tick_labels=[\"<5 Years\", \">12 Years\"])\n",
    "plt.ylabel(\"Salary in thousands of Dollars\")\n",
    "plt.show()"
   ]
  },
  {
   "cell_type": "markdown",
   "id": "e07dc368",
   "metadata": {},
   "source": [
    "The players with over 12 years of tenure make much more on average than those playing for less than 5 years. The minimum value for the over 12s is greather than the average value for under 5s."
   ]
  },
  {
   "cell_type": "code",
   "execution_count": 84,
   "id": "4c047049",
   "metadata": {},
   "outputs": [
    {
     "name": "stdout",
     "output_type": "stream",
     "text": [
      "     AtBat  Hits  HmRun  Runs  RBI  Walks  Years  CAtBat  CHits  CHmRun  ...  \\\n",
      "313    580   207      8   107   71    105      5    2778    978      32  ...   \n",
      "\n",
      "     CRBI  CWalks  League Division PutOuts  Assists  Errors  Salary  \\\n",
      "313   322     417       A        E     121      267      19  1600.0   \n",
      "\n",
      "     NewLeague   CBatAvg  \n",
      "313          A  0.352052  \n",
      "\n",
      "[1 rows x 21 columns]\n"
     ]
    }
   ],
   "source": [
    "# 2j\n",
    "Hitters[\"CBatAvg\"] = Hitters[\"CHits\"] / Hitters[\"CAtBat\"]\n",
    "max = Hitters[\"CBatAvg\"].max()\n",
    "print(Hitters[Hitters[\"CBatAvg\"] == max])"
   ]
  },
  {
   "cell_type": "markdown",
   "id": "68ad2d67",
   "metadata": {},
   "source": [
    "Player 313 has the highest batting average. He is in league A, division E, has a Salary of $1,600,000, and a batting average of 0.352"
   ]
  },
  {
   "cell_type": "code",
   "execution_count": 89,
   "id": "b607a359",
   "metadata": {},
   "outputs": [
    {
     "name": "stdout",
     "output_type": "stream",
     "text": [
      "     AtBat  Hits  HmRun  Runs  RBI  Walks  Years  CAtBat  CHits  CHmRun  ...  \\\n",
      "313    580   207      8   107   71    105      5    2778    978      32  ...   \n",
      "82     677   238     31   117  113     53      5    2223    737      93  ...   \n",
      "290    642   211     14   107   59     52      5    2364    770      27  ...   \n",
      "176    181    58      6    34   23     22      1     181     58       6  ...   \n",
      "52      19     7      0     1    2      1      4      41     13       1  ...   \n",
      "\n",
      "     CRBI  CWalks  League Division PutOuts  Assists  Errors  Salary  \\\n",
      "313   322     417       A        E     121      267      19  1600.0   \n",
      "82    401     171       A        E    1377      100       6  1975.0   \n",
      "290   230     193       N        W     337       19       4   740.0   \n",
      "176    23      22       N        W      88        0       3    86.5   \n",
      "52      4       4       A        E       0        0       0     NaN   \n",
      "\n",
      "     NewLeague   CBatAvg  \n",
      "313          A  0.352052  \n",
      "82           A  0.331534  \n",
      "290          N  0.325719  \n",
      "176          N  0.320442  \n",
      "52           A  0.317073  \n",
      "\n",
      "[5 rows x 21 columns]\n"
     ]
    }
   ],
   "source": [
    "five_highest = Hitters.nlargest(5, \"CBatAvg\")\n",
    "print(five_highest)"
   ]
  },
  {
   "cell_type": "markdown",
   "id": "af454c0a",
   "metadata": {},
   "source": [
    "For the players with the five highest batting averages, all of them have been playing for less than 5 years. Player 52 has been up only 41 times in his career which is considerbly less than the other despite having played for 4 years. This suggests that he is the only nonstarting player. 176 also has a low AtBat number but this is because he has the least experience with only 1 year. The salary spread between these players is large with the max being 1,600,000 and the min being 86,000"
   ]
  },
  {
   "cell_type": "markdown",
   "id": "9d10710d",
   "metadata": {},
   "source": [
    "3."
   ]
  },
  {
   "cell_type": "markdown",
   "id": "e6aea422",
   "metadata": {},
   "source": [
    "(a) If the sample size n is extremely large and the number of predictors p is small, then an flexible model would perform better because the large sample size prevents overfitting and the relationship might be non-linear."
   ]
  },
  {
   "cell_type": "markdown",
   "id": "f8ba4dce",
   "metadata": {},
   "source": [
    "(b) If the number of predictors is large and the number of observations is small, then an inflexible model would perform better because the small sample size will have more randomness in the data."
   ]
  },
  {
   "cell_type": "markdown",
   "id": "27df31c9",
   "metadata": {},
   "source": [
    "(c) If the relationship between predictor and response is highly non linear, then a flexible model would perform better because it would fit the data better than if the wrong non-linear relationship was chosen."
   ]
  },
  {
   "cell_type": "markdown",
   "id": "1e55c567",
   "metadata": {},
   "source": [
    "(d) If the variance of the error is exteremely high, then an inflexible model will perform better. With high variance, a flexible model would be prone to overfitting."
   ]
  },
  {
   "cell_type": "markdown",
   "id": "5c603208",
   "metadata": {},
   "source": [
    "4."
   ]
  },
  {
   "cell_type": "markdown",
   "id": "aaf889cb",
   "metadata": {},
   "source": [
    "(a) Regression (SAT score is quantitative), Inference (since we want to know which factors influence SAT scores), n is 600 and p is 3."
   ]
  },
  {
   "cell_type": "markdown",
   "id": "33bb8822",
   "metadata": {},
   "source": [
    "(b) Classification (readmissited or not readmitted), Inference (since we want to know which factors influence readmission), n is 2,000 and p is 5."
   ]
  },
  {
   "cell_type": "markdown",
   "id": "f89d46e6",
   "metadata": {},
   "source": [
    "(c) Classification (succeed or fail), Prediction (we only want to know if the campaign will succeed), n is 45, p is 11."
   ]
  },
  {
   "cell_type": "markdown",
   "id": "1b8f2f8e",
   "metadata": {},
   "source": [
    "(d) Regression (electricity consumption is quantitative), Prediction (we only want the estimated consumption), n is 365, p is 3."
   ]
  }
 ],
 "metadata": {
  "kernelspec": {
   "display_name": "islp",
   "language": "python",
   "name": "python3"
  },
  "language_info": {
   "codemirror_mode": {
    "name": "ipython",
    "version": 3
   },
   "file_extension": ".py",
   "mimetype": "text/x-python",
   "name": "python",
   "nbconvert_exporter": "python",
   "pygments_lexer": "ipython3",
   "version": "3.13.5"
  }
 },
 "nbformat": 4,
 "nbformat_minor": 5
}
