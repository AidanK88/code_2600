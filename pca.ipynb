{
 "cells": [
  {
   "cell_type": "code",
   "execution_count": null,
   "metadata": {},
   "outputs": [],
   "source": [
    "import numpy as np\n",
    "import pandas as pd\n",
    "import matplotlib.pyplot as plt\n",
    "from sklearn.decomposition import PCA\n",
    "from sklearn.preprocessing import StandardScaler\n",
    "from ISLP import load_data"
   ]
  },
  {
   "cell_type": "code",
   "execution_count": null,
   "metadata": {},
   "outputs": [],
   "source": [
    "from ISLP import load_data\n",
    "from ISLP.models import (ModelSpec as MS,\n",
    "                         summarize,\n",
    "                         poly)"
   ]
  },
  {
   "cell_type": "code",
   "execution_count": null,
   "metadata": {},
   "outputs": [],
   "source": [
    "#Auto = pd.read_csv('../../data/Auto.csv')\n",
    "Auto = pd.read_csv('Auto.csv')\n",
    "Auto"
   ]
  },
  {
   "cell_type": "code",
   "execution_count": null,
   "metadata": {},
   "outputs": [],
   "source": [
    "# drop the records with missing horsepower, \n",
    "# and drop the name column since it's categorical with many levels\n",
    "\n",
    "Auto = Auto[(Auto['horsepower']!='?')]\n",
    "veh_names = Auto['name'] # store this for later\n",
    "Auto = Auto[['mpg', 'cylinders', 'displacement', 'horsepower', 'weight', 'acceleration', 'year', 'origin']]\n",
    "Auto"
   ]
  },
  {
   "cell_type": "code",
   "execution_count": null,
   "metadata": {},
   "outputs": [],
   "source": [
    "# standardize the data so that the components aren't biased by sizes of variable values\n",
    "\n",
    "scaler = StandardScaler(with_std=True,\n",
    "                        with_mean=True)\n",
    "Auto_scaled = scaler.fit_transform(Auto)\n",
    "pd.DataFrame(Auto_scaled)"
   ]
  },
  {
   "cell_type": "code",
   "execution_count": null,
   "metadata": {},
   "outputs": [],
   "source": [
    "# add back the column names to make it easier to look at\n",
    "\n",
    "Auto = pd.DataFrame(Auto_scaled, columns=['mpg', 'cylinders', 'displacement', 'horsepower', 'weight', 'acceleration', 'year', 'origin'])\n",
    "Auto"
   ]
  },
  {
   "cell_type": "code",
   "execution_count": null,
   "metadata": {},
   "outputs": [],
   "source": [
    "PCA_Auto = PCA()"
   ]
  },
  {
   "cell_type": "code",
   "execution_count": null,
   "metadata": {},
   "outputs": [],
   "source": [
    "PCA_Auto.fit(Auto)"
   ]
  },
  {
   "cell_type": "code",
   "execution_count": null,
   "metadata": {},
   "outputs": [],
   "source": [
    "PCA_Auto.components_"
   ]
  },
  {
   "cell_type": "code",
   "execution_count": null,
   "metadata": {},
   "outputs": [],
   "source": [
    "# clean this up a bit\n",
    "\n",
    "components = pd.DataFrame(PCA_Auto.components_, \n",
    "                          columns=['mpg', 'cylinders', 'displacement', 'horsepower', 'weight', 'acceleration', 'year', 'origin'])\n",
    "components"
   ]
  },
  {
   "cell_type": "code",
   "execution_count": null,
   "metadata": {},
   "outputs": [],
   "source": [
    "# We can calculate scores for each component for each record in our data\n",
    "\n",
    "pca_scores = PCA_Auto.transform(Auto)\n",
    "display_scores = pd.merge(pd.DataFrame(PCA_Auto.transform(Auto), \n",
    "                          columns=['pc1', 'pc2', 'pc3', 'pc4', 'pc5', 'pc6', 'pc7', 'pc8']), veh_names, left_index=True, right_index=True)\n",
    "display_scores"
   ]
  },
  {
   "cell_type": "code",
   "execution_count": null,
   "metadata": {},
   "outputs": [],
   "source": [
    "i, j = 0, 1 # which components\n",
    "fig, ax = plt.subplots(1, 1, figsize=(8, 8))\n",
    "ax.scatter(pca_scores[:,0], pca_scores[:,1])\n",
    "ax.set_xlabel('PC%d' % (i+1))\n",
    "ax.set_ylabel('PC%d' % (j+1))\n",
    "for k in range(PCA_Auto.components_.shape[1]):\n",
    "    ax.arrow(0, 0, PCA_Auto.components_[i,k], PCA_Auto.components_[j,k])\n",
    "    ax.text(PCA_Auto.components_[i,k],\n",
    "            PCA_Auto.components_[j,k],\n",
    "            Auto.columns[k])"
   ]
  },
  {
   "cell_type": "code",
   "execution_count": null,
   "metadata": {},
   "outputs": [],
   "source": [
    "# Find the total variance explained by each component\n",
    "\n",
    "PCA_Auto.explained_variance_"
   ]
  },
  {
   "cell_type": "code",
   "execution_count": null,
   "metadata": {},
   "outputs": [],
   "source": [
    "# Calculate these variances as percents\n",
    " \n",
    "PCA_Auto.explained_variance_ratio_"
   ]
  },
  {
   "cell_type": "code",
   "execution_count": null,
   "metadata": {},
   "outputs": [],
   "source": [
    "%%capture\n",
    "fig, axes = plt.subplots(1, 2, figsize=(15, 6))\n",
    "ticks = np.arange(PCA_Auto.n_components_)+1\n",
    "ax = axes[0]\n",
    "ax.plot(ticks,\n",
    "        PCA_Auto.explained_variance_ratio_,\n",
    "        marker='o')\n",
    "ax.set_xlabel('Principal Component');\n",
    "ax.set_ylabel('Proportion of Variance Explained')\n",
    "ax.set_ylim([0,1])\n",
    "ax.set_xticks(ticks)"
   ]
  },
  {
   "cell_type": "code",
   "execution_count": null,
   "metadata": {},
   "outputs": [],
   "source": [
    "ax = axes[1]\n",
    "ax.plot(ticks,\n",
    "        PCA_Auto.explained_variance_ratio_.cumsum(),\n",
    "        marker='o')\n",
    "ax.set_xlabel('Principal Component')\n",
    "ax.set_ylabel('Cumulative Proportion of Variance Explained')\n",
    "ax.set_ylim([0, 1])\n",
    "ax.set_xticks(ticks)\n",
    "fig"
   ]
  },
  {
   "cell_type": "code",
   "execution_count": null,
   "metadata": {},
   "outputs": [],
   "source": [
    "veh_names"
   ]
  },
  {
   "cell_type": "code",
   "execution_count": null,
   "metadata": {},
   "outputs": [],
   "source": []
  }
 ],
 "metadata": {
  "kernelspec": {
   "display_name": "base",
   "language": "python",
   "name": "python3"
  },
  "language_info": {
   "codemirror_mode": {
    "name": "ipython",
    "version": 3
   },
   "file_extension": ".py",
   "mimetype": "text/x-python",
   "name": "python",
   "nbconvert_exporter": "python",
   "pygments_lexer": "ipython3",
   "version": "3.11.5"
  }
 },
 "nbformat": 4,
 "nbformat_minor": 2
}
