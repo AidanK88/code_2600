{
 "cells": [
  {
   "cell_type": "code",
   "execution_count": null,
   "id": "3d01a5ee",
   "metadata": {},
   "outputs": [],
   "source": [
    "# This will download the necessary add-ons so that we can run sql code\n",
    "\n",
    "!pip install ipython-sql\n"
   ]
  },
  {
   "cell_type": "code",
   "execution_count": null,
   "id": "990d0632",
   "metadata": {},
   "outputs": [],
   "source": [
    "%load_ext sql"
   ]
  },
  {
   "cell_type": "code",
   "execution_count": null,
   "id": "ef06bde1",
   "metadata": {},
   "outputs": [],
   "source": [
    "# This will depend on the location where example.db is saved\n",
    "\n",
    "%sql sqlite:///example.db"
   ]
  },
  {
   "cell_type": "code",
   "execution_count": null,
   "id": "63784a82",
   "metadata": {},
   "outputs": [],
   "source": [
    "# Test to see if it works \n",
    "\n",
    "%sql select * from customers"
   ]
  },
  {
   "cell_type": "code",
   "execution_count": null,
   "id": "e0f2716c",
   "metadata": {},
   "outputs": [],
   "source": [
    "%sql select LastName from customers where CustomerID=2"
   ]
  },
  {
   "cell_type": "code",
   "execution_count": null,
   "id": "9044c981",
   "metadata": {},
   "outputs": [],
   "source": [
    "%sql pragma table_info(customers)"
   ]
  },
  {
   "cell_type": "code",
   "execution_count": null,
   "id": "a76d5ad8",
   "metadata": {},
   "outputs": [],
   "source": [
    "%sql pragma table_list"
   ]
  },
  {
   "cell_type": "code",
   "execution_count": null,
   "id": "ed6f9cf1",
   "metadata": {},
   "outputs": [],
   "source": [
    "%sql select lastname from customers;"
   ]
  },
  {
   "cell_type": "code",
   "execution_count": null,
   "id": "741aac06",
   "metadata": {
    "scrolled": false
   },
   "outputs": [],
   "source": [
    "%sql select * from customers limit 3;"
   ]
  },
  {
   "cell_type": "code",
   "execution_count": null,
   "id": "59fe650c",
   "metadata": {},
   "outputs": [],
   "source": [
    "%sql select firstname as \"First\", lastname as \"Last\", City, Country from customers order by lastname;"
   ]
  },
  {
   "cell_type": "code",
   "execution_count": null,
   "id": "dfaf3504",
   "metadata": {},
   "outputs": [],
   "source": [
    "%sql select firstname as \"first\", lastname as \"last\" from customers order by first, last desc;"
   ]
  },
  {
   "cell_type": "code",
   "execution_count": null,
   "id": "80642063",
   "metadata": {},
   "outputs": [],
   "source": [
    "%sql select * from tracks;"
   ]
  },
  {
   "cell_type": "code",
   "execution_count": null,
   "id": "81dde82a",
   "metadata": {},
   "outputs": [],
   "source": [
    "%sql select * from invoices;"
   ]
  },
  {
   "cell_type": "code",
   "execution_count": null,
   "id": "f0253c3b",
   "metadata": {},
   "outputs": [],
   "source": [
    "%sql select customerid, total from invoices where customerid=2;"
   ]
  },
  {
   "cell_type": "code",
   "execution_count": null,
   "id": "3692309a",
   "metadata": {},
   "outputs": [],
   "source": [
    "%sql select CustomerID, Total*1.09 as \"InflatedPrice\", CustomerID + Total as \"UselessNumber\" FROM invoices;"
   ]
  },
  {
   "cell_type": "code",
   "execution_count": null,
   "id": "21ee4743",
   "metadata": {},
   "outputs": [],
   "source": [
    "%sql select customerid, count(customerID) as Transactions from invoices group by customerid;"
   ]
  },
  {
   "cell_type": "code",
   "execution_count": null,
   "id": "a46da97f",
   "metadata": {
    "scrolled": true
   },
   "outputs": [],
   "source": [
    "%sql select customerid, sum(Total) as GrandTotal from invoices group by customerid;"
   ]
  },
  {
   "cell_type": "code",
   "execution_count": null,
   "id": "10289d0b",
   "metadata": {
    "scrolled": false
   },
   "outputs": [],
   "source": [
    "%sql SELECT BillingCountry, max(Total) as CountryTotal FROM invoices GROUP BY BillingCountry ORDER BY BillingCountry;"
   ]
  },
  {
   "cell_type": "code",
   "execution_count": null,
   "id": "9c7f2aa5",
   "metadata": {},
   "outputs": [],
   "source": [
    "%sql select * from albums;"
   ]
  },
  {
   "cell_type": "code",
   "execution_count": null,
   "id": "819a4492",
   "metadata": {},
   "outputs": [],
   "source": [
    "%sql select * from artists;"
   ]
  },
  {
   "cell_type": "code",
   "execution_count": null,
   "id": "b0e87530",
   "metadata": {},
   "outputs": [],
   "source": [
    "%sql SELECT ALB.Title as \"Album\", ART.Name as \"Artist\" FROM albums as ALB RIGHT JOIN artists as ART on ALB.ArtistID = ART.ArtistID;"
   ]
  },
  {
   "cell_type": "code",
   "execution_count": null,
   "id": "32c8ab54",
   "metadata": {},
   "outputs": [],
   "source": [
    "%sql create table alb_art_left as SELECT ALB.Title as \"Album\", ART.Name as \"Artist\" FROM albums as ALB left JOIN artists as ART on ALB.ArtistID = ART.ArtistID;"
   ]
  },
  {
   "cell_type": "code",
   "execution_count": null,
   "id": "f36bff6e",
   "metadata": {},
   "outputs": [],
   "source": [
    "%sql select count(*) from alb_art_left"
   ]
  },
  {
   "cell_type": "code",
   "execution_count": null,
   "id": "3d2a403e",
   "metadata": {},
   "outputs": [],
   "source": [
    "%sql create table alb_art_right as SELECT ALB.Title as \"Album\", ART.Name as \"Artist\" FROM albums as ALB right JOIN artists as ART on ALB.ArtistID = ART.ArtistID;"
   ]
  },
  {
   "cell_type": "code",
   "execution_count": null,
   "id": "8e2c0354",
   "metadata": {},
   "outputs": [],
   "source": [
    "%sql select count(*) from alb_art_right"
   ]
  },
  {
   "cell_type": "code",
   "execution_count": null,
   "id": "9f856992",
   "metadata": {},
   "outputs": [],
   "source": [
    "%sql select * from tracks order by bytes desc limit 5;"
   ]
  },
  {
   "cell_type": "code",
   "execution_count": null,
   "id": "7aef0f60",
   "metadata": {},
   "outputs": [],
   "source": [
    "%sql select * from employees;"
   ]
  },
  {
   "cell_type": "code",
   "execution_count": null,
   "id": "03170877",
   "metadata": {},
   "outputs": [],
   "source": [
    "%sql select * from playlists;"
   ]
  },
  {
   "cell_type": "code",
   "execution_count": null,
   "id": "155f92d3",
   "metadata": {},
   "outputs": [],
   "source": []
  }
 ],
 "metadata": {
  "kernelspec": {
   "display_name": "Python 3 (ipykernel)",
   "language": "python",
   "name": "python3"
  },
  "language_info": {
   "codemirror_mode": {
    "name": "ipython",
    "version": 3
   },
   "file_extension": ".py",
   "mimetype": "text/x-python",
   "name": "python",
   "nbconvert_exporter": "python",
   "pygments_lexer": "ipython3",
   "version": "3.11.5"
  }
 },
 "nbformat": 4,
 "nbformat_minor": 5
}
